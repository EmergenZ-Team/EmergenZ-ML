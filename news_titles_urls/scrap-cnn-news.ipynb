{
 "cells": [
  {
   "attachments": {},
   "cell_type": "markdown",
   "metadata": {},
   "source": [
    "# Kebakaran"
   ]
  },
  {
   "attachments": {},
   "cell_type": "markdown",
   "metadata": {},
   "source": [
    "- Import Libraries\n",
    "- Get URL\n",
    "- Extracts `h2` for title, `a` for links, and `img[src]` for image links\n",
    "- Save it to excel\n"
   ]
  },
  {
   "cell_type": "code",
   "execution_count": 1,
   "metadata": {},
   "outputs": [],
   "source": [
    "import requests\n",
    "from bs4 import BeautifulSoup\n",
    "import pandas as pd\n",
    "import glob"
   ]
  },
  {
   "attachments": {},
   "cell_type": "markdown",
   "metadata": {},
   "source": [
    "## Page test"
   ]
  },
  {
   "cell_type": "code",
   "execution_count": 16,
   "metadata": {},
   "outputs": [],
   "source": [
    "URL = \"https://www.cnnindonesia.com/tag/kebakaran\"\n",
    "#URL = \"https://realpython.github.io/fake-jobs/jobs/senior-python-developer-0\"\n",
    "page = requests.get(URL)\n",
    "#print(page.text)"
   ]
  },
  {
   "cell_type": "code",
   "execution_count": 3,
   "metadata": {},
   "outputs": [],
   "source": [
    "soup = BeautifulSoup(page.content, \"html.parser\")"
   ]
  },
  {
   "cell_type": "code",
   "execution_count": 4,
   "metadata": {},
   "outputs": [],
   "source": [
    "articles = soup.find_all(\"article\")"
   ]
  },
  {
   "cell_type": "code",
   "execution_count": 17,
   "metadata": {},
   "outputs": [],
   "source": [
    "article_tags = []\n",
    "for article in articles:\n",
    "    article_tags.append(article)\n",
    "    #print(article, end=\"\\n\"*2)\n",
    "#print(article_tags)"
   ]
  },
  {
   "cell_type": "code",
   "execution_count": 9,
   "metadata": {},
   "outputs": [
    {
     "name": "stdout",
     "output_type": "stream",
     "text": [
      "URL: ['https://www.cnnindonesia.com/nasional/20230524203912-12-953654/polisi-tetapkan-3-tersangka-kasus-mafia-tanah-senilai-rp18-t-di-jakut', 'https://www.cnnindonesia.com/nasional/20230524203827-12-953653/densus-88-tangkap-seorang-terduga-teroris-di-kota-malang', 'https://www.cnnindonesia.com/nasional/20230524202830-32-953652/dasco-bantah-dugaan-gerindra-terima-duit-kasus-bakti-kominfo', 'https://www.cnnindonesia.com/internasional/20230524112712-134-953338/pembakaran-al-quran-di-rusia-pemimpin-chechen-murka-tuduh-ukraina', 'https://www.cnnindonesia.com/internasional/20230524121645-134-953364/bos-wagner-salahkan-rusia-belgorod-diserang-pejabat-pura-pura-bodoh', 'https://www.cnnindonesia.com/internasional/20230524181517-113-953595/kenapa-kashmir-sensitif-sampai-china-saudi-ancam-boikot-forum-g20', 'https://www.cnnindonesia.com/ekonomi/20230524201032-92-953644/krl-bandara-soetta-tambah-jadi-56-perjalanan-mulai-1-juni-2023', 'https://www.cnnindonesia.com/ekonomi/20230524150751-92-953509/inflasi-inggris-tak-lagi-dua-digit-pertama-kali-sejak-agustus-2022', 'https://www.cnnindonesia.com/ekonomi/20230524190122-92-953612/viral-aksi-bos-blue-bird-nyamar-jadi-sopir-taksi-keliling-jakarta', 'https://www.cnnindonesia.com/olahraga/20230524034601-142-953203/bintang-malaysia-diincar-klub-korea-selangor-pasang-harga-mahal', 'https://www.cnnindonesia.com/olahraga/20230524192704-142-953620/pssi-bantah-harga-tiket-indonesia-vs-argentina-dijual-rp1-5-juta', 'https://www.cnnindonesia.com/olahraga/20230524024237-142-953199/tak-betah-di-saudi-ronaldo-diklaim-ingin-tinggalkan-al-nassr', 'https://www.cnnindonesia.com/teknologi/20230524184209-213-953608/operator-seluler-buka-suara-soal-pungutan-dari-bakti-kominfo', 'https://www.cnnindonesia.com/teknologi/20230524141138-199-953467/uap-air-terlacak-menyembur-ratusan-km-dari-bulannya-saturnus', 'https://www.cnnindonesia.com/teknologi/20230523110045-192-952819/hoaks-ledakan-pentagon-nyebar-di-twitter-prediksi-pakar-terbukti', 'https://www.cnnindonesia.com/otomotif/20230524160631-588-953539/kapan-pak-prabowo-dan-pak-ganjar-bicara-soal-mobil-listrik', 'https://www.cnnindonesia.com/otomotif/20230524190457-587-953613/nongol-di-iims-esemka-absen-di-giias-2023', 'https://www.cnnindonesia.com/otomotif/20230523182033-592-953091/mengenal-fitur-hill-start-assist-pada-mobil-bagaimana-cara-kerjanya', 'https://www.cnnindonesia.com/hiburan/20230523115817-543-952846/gantian-indro-dong', 'https://www.cnnindonesia.com/hiburan/20230524200920-241-953643/gobak-sodor-hingga-sayur-lodeh-jadi-warisan-budaya-takbenda-indonesia', 'https://www.cnnindonesia.com/hiburan/20230524124156-220-953402/penjelasan-akhir-cerita-dan-adegan-post-credit-fast-x', 'https://www.cnnindonesia.com/gaya-hidup/20230524124731-277-953427/drama-siram-darah-palsu-di-cannes-influencer-ukraina-diseret-keluar', 'https://www.cnnindonesia.com/gaya-hidup/20230523120617-255-952849/studi-banyak-makan-kangkung-bantu-kontrol-kadar-gula-darah', 'https://www.cnnindonesia.com/gaya-hidup/20221222125635-286-890727/foto-arloji-milik-kaisar-terakhir-china-dilelang-5-juta-dollar', 'https://www.cnnindonesia.com/nasional/20230523160032-20-953018/kebakaran-di-lantai-7-asrama-polri-jakpus-tak-ada-korban-jiwa', 'https://www.cnnindonesia.com/internasional/20230523013631-134-952688/20-orang-tewas-dalam-kebakaran-asrama-sekolah-di-guyana', 'https://www.cnnindonesia.com/internasional/20230522114716-108-952350/foto-kantor-pos-tertua-di-filipina-dilalap-si-jago-merah', 'https://www.cnnindonesia.com/tv/20230522170435-401-952577/video-kantor-pos-paling-bersejarah-milik-filipina-terbakar', 'https://www.cnnindonesia.com/nasional/20230521003247-20-951961/rumah-kontrakan-26-pintu-terbakar-di-tambora-jakbar-1-orang-terluka', 'https://www.cnnindonesia.com/nasional/20230519182630-20-951669/kebakaran-pabrik-plastik-jakbar-tak-ganggu-penerbangan-bandara-soetta', 'https://www.cnnindonesia.com/nasional/20230519142448-20-951523/pabrik-plastik-di-jakbar-kebakaran-15-unit-mobil-damkar-diterjunkan', 'https://www.cnnindonesia.com/nasional/20230519025613-20-951311/rumah-tahfiz-al-quran-di-makassar-kebakaran-gegara-korsleting', 'https://www.cnnindonesia.com/nasional/20230517213015-20-951056/kebakaran-landa-lapak-limbah-oli-dan-rumah-warga-di-tangerang', 'https://www.cnnindonesia.com/nasional/20230512101855-20-948642/kebakaran-rumah-makan-jasunda-bsd-1-karyawan-alami-luka-bakar']\n",
      "Title: ['Polisi Tetapkan 3 Tersangka Kasus Mafia Tanah Senilai Rp1,8 T di Jakut', 'Densus 88 Tangkap Seorang Terduga Teroris di Kota Malang', 'Dasco Bantah Dugaan Gerindra Terima Duit Kasus BAKTI Kominfo', 'Pembakaran Al Quran di Rusia, Pemimpin Chechen Murka Tuduh Ukraina', 'Bos Wagner Salahkan Rusia Belgorod Diserang: Pejabat Pura-pura Bodoh', 'Kenapa Kashmir Sensitif sampai China-Saudi Ancam Boikot Forum G20?', 'KRL Bandara Soetta Tambah Jadi 56 Perjalanan Mulai 1 Juni 2023', 'Inflasi Inggris Tak Lagi Dua Digit, Pertama Kali Sejak Agustus 2022', 'Viral Aksi Bos Blue Bird Nyamar Jadi Sopir Taksi Keliling Jakarta', 'Bintang Malaysia Diincar Klub Korea, Selangor Pasang Harga Mahal', 'PSSI Bantah Harga Tiket Indonesia vs Argentina Dijual Rp1-5 Juta', 'Tak Betah di Saudi, Ronaldo Diklaim Ingin Tinggalkan Al Nassr', 'Operator Seluler Buka Suara Soal Pungutan Dari BAKTI Kominfo', 'Uap Air Terlacak Menyembur Ratusan Km dari Bulannya Saturnus', 'Hoaks Ledakan Pentagon Nyebar di Twitter, Prediksi Pakar Terbukti', 'Kapan Pak Prabowo dan Pak Ganjar Bicara soal Mobil Listrik? ', 'Nongol di IIMS, Esemka Absen di GIIAS 2023', 'Mengenal Fitur Hill Start Assist pada Mobil, Bagaimana Cara Kerjanya? ', 'Gantian Indro Dong', 'Gobak Sodor hingga Sayur Lodeh Jadi Warisan Budaya Takbenda Indonesia', 'Penjelasan Akhir Cerita dan Adegan Post-Credit Fast X', 'Drama Siram Darah Palsu di Cannes, Influencer Ukraina Diseret Keluar', 'Studi: Banyak Makan Kangkung Bantu Kontrol Kadar Gula Darah', 'FOTO: Arloji Milik Kaisar Terakhir China Dilelang 5 Juta Dollar', 'Kebakaran di Lantai 7 Asrama Polri Jakpus, Tak Ada Korban Jiwa', '20 Orang Tewas dalam Kebakaran Asrama Sekolah di Guyana', 'FOTO: Kantor Pos Tertua di Filipina Dilalap Si Jago Merah', 'VIDEO: Kantor Pos paling Bersejarah Milik Filipina Terbakar', 'Rumah Kontrakan 26 Pintu Terbakar di Tambora Jakbar, 1 Orang Terluka', 'Kebakaran Pabrik Plastik Jakbar Tak Ganggu Penerbangan Bandara Soetta', 'Pabrik Plastik di Jakbar Kebakaran, 15 Unit Mobil Damkar Diterjunkan', 'Rumah Tahfiz Al Quran di Makassar Kebakaran Gegara Korsleting', 'Kebakaran Landa Lapak Limbah Oli dan Rumah Warga di Tangerang', 'Kebakaran Rumah Makan Jasunda BSD, 1 Karyawan Alami Luka Bakar']\n",
      "Image: ['https://akcdn.detik.net.id/visual/2021/09/08/ilustrasi-tindakan-kriminal-1_169.jpeg?w=230&q=90', 'https://akcdn.detik.net.id/visual/2020/11/23/ilustrasi-wanita-di-borgol-dan-penjara-2_169.jpeg?w=230&q=90', 'https://akcdn.detik.net.id/visual/2022/07/13/wakil-ketua-dpr-sufmi-dasco-ahmad-1_169.jpeg?w=230&q=90', 'https://akcdn.detik.net.id/visual/2022/03/14/pemimpin-chechen-ramzan-kadyrov_169.jpeg?w=230&q=90', 'https://akcdn.detik.net.id/visual/2023/02/13/pendiri-wagner-group-yevgeny-prigozhin_169.jpeg?w=230&q=90', 'https://akcdn.detik.net.id/visual/2021/01/09/skardu-valley-pakistan_169.jpeg?w=230&q=90', 'https://akcdn.detik.net.id/visual/2023/03/29/pengadaan-rangkaian-krl-10_169.jpeg?w=230&q=90', 'https://akcdn.detik.net.id/visual/2023/03/23/inflasi-inggris-sentuh-level-tertinggi-45-tahun-terakhir-3_169.jpeg?w=230&q=90', 'https://akcdn.detik.net.id/visual/2023/05/24/sigit-djokosoetono-menyamar-jadi-sopir-taksi-blue-bird_169.jpeg?w=230&q=90', 'https://akcdn.detik.net.id/visual/2023/01/07/malaysia-thailand-aff-soccer-1_169.jpeg?w=230&q=90', 'https://akcdn.detik.net.id/visual/2022/12/18/final-piala-dunia-2022-argentina-vs-prancis-50_169.jpeg?w=230&q=90', 'https://akcdn.detik.net.id/visual/2023/04/19/fbl-ksa-hilal-nassr-1_169.jpeg?w=230&q=90', 'https://akcdn.detik.net.id/visual/2022/10/06/bakti-kominfo-targetkan-7000-bts-di-daerah-3t-pada-2024_169.jpeg?w=230&q=90', 'https://akcdn.detik.net.id/visual/2019/07/09/605e0bd8-20a5-4c92-ab7d-d3bcf8966315_169.jpeg?w=230&q=90', 'https://akcdn.detik.net.id/visual/2018/10/10/1e95b889-8f65-44b7-b1c8-add95a56b133_169.jpeg?w=230&q=90', 'https://akcdn.detik.net.id/visual/2022/04/27/mobil-listrik-volkswagen-id-4-jadi-yang-terlaris-di-kuartal-pertama-2022-5_169.jpeg?w=230&q=90', 'https://akcdn.detik.net.id/visual/2023/02/16/jokowi-kunjungi-booth-esemka-di-iims-2023-2_169.jpeg?w=230&q=90', 'https://akcdn.detik.net.id/visual/2018/06/10/0771bfe8-c9f5-4bde-ba5b-0a33265d7bd6_169.jpeg?w=230&q=90', 'https://akcdn.detik.net.id/visual/2023/05/22/cover-runtai-gantian-indro-dong_169.jpeg?w=230&q=90', 'https://akcdn.detik.net.id/visual/2015/05/16/5255cb45-f18a-4d6a-855b-2ae23217c6df_169.jpg?w=230&q=90', 'https://akcdn.detik.net.id/visual/2023/05/16/film-fast-x-2023-2_169.png?w=230&q=90', 'https://akcdn.detik.net.id/visual/2023/05/24/protes-di-cannes-film-festival_169.jpeg?w=230&q=90', 'https://akcdn.detik.net.id/visual/2021/04/01/ilustrasi-tumis-kangkung-1_169.jpeg?w=230&q=90', 'https://akcdn.detik.net.id/visual/2023/05/24/arloji-milik-kaisar-terakhir-china-dilelang-5-juta-dollar-3_169.jpeg?w=230&q=90', 'https://akcdn.detik.net.id/visual/2020/01/01/2ab612fd-1f1a-4633-829b-795f0b6f1a1d_169.jpeg?w=280&q=90', 'https://akcdn.detik.net.id/visual/2021/07/19/ilustrasi-kebakaran-4_169.jpeg?w=280&q=90', 'https://akcdn.detik.net.id/visual/2023/05/22/kebakaran-kantor-pos-di-manila-2_169.jpeg?w=280&q=90', 'https://akcdn.detik.net.id/visual/2023/05/22/thumbnail-video-16_169.jpeg?w=280&q=90', 'https://akcdn.detik.net.id/visual/2020/01/01/c3431b93-eae6-4ab9-aa91-1b5280978d08_169.jpeg?w=280&q=90', 'https://akcdn.detik.net.id/visual/2015/08/18/857621b5-465f-44cc-b901-a6cab29a835a_169.jpg?w=280&q=90', 'https://akcdn.detik.net.id/visual/2020/01/01/c3431b93-eae6-4ab9-aa91-1b5280978d08_169.jpeg?w=280&q=90', 'https://akcdn.detik.net.id/visual/2021/07/19/ilustrasi-kebakaran_169.jpeg?w=280&q=90', 'https://akcdn.detik.net.id/visual/2021/07/19/ilustrasi-kebakaran-2_169.jpeg?w=280&q=90', 'https://akcdn.detik.net.id/visual/2016/06/15/22de3799-3c23-48ec-80fc-a9f30a8fc52a_169.jpg?w=280&q=90']\n"
     ]
    }
   ],
   "source": [
    "url_list = []\n",
    "title_list = []\n",
    "img_list = []\n",
    "for article_tag in article_tags:\n",
    "    a_tag = article_tag.find('a')\n",
    "    h2_tag = article_tag.find('h2')\n",
    "    img_tag = article_tag.find('img')\n",
    "    img_tag = img_tag['src']\n",
    "    \n",
    "    if a_tag is not None:\n",
    "        url = a_tag['href']\n",
    "        url_list.append(url)\n",
    "        #print(\"URL:\", url)\n",
    "        \n",
    "    if h2_tag is not None:\n",
    "        title = h2_tag.get_text()\n",
    "        title_list.append(title)\n",
    "        #print(\"Title:\", title)\n",
    "        \n",
    "    if img_tag is not None:\n",
    "        #img_src = img_tag.get_text()\n",
    "        img_list.append(img_tag)\n",
    "    \n",
    "print(\"URL:\", url_list)\n",
    "print(\"Title:\", title_list)\n",
    "print(\"Image:\",img_list)\n"
   ]
  },
  {
   "attachments": {},
   "cell_type": "markdown",
   "metadata": {},
   "source": [
    "## Page 1-20 kebakaran (CNN Indonesia)"
   ]
  },
  {
   "cell_type": "code",
   "execution_count": 9,
   "metadata": {},
   "outputs": [],
   "source": [
    "base_URL = \"https://www.cnnindonesia.com/tag/kebakaran\"\n",
    "\n",
    "article_tags = []\n",
    "\n",
    "for i in range(1,21):\n",
    "    URL = base_URL + \"/{}\".format(i)\n",
    "    page = requests.get(URL)\n",
    "    #print(page.text)\n",
    "    soup = BeautifulSoup(page.content, \"html.parser\")\n",
    "    articles = soup.find_all(\"article\")\n",
    "    articles = articles[-10:] \n",
    "\n",
    "    for article in articles:\n",
    "        article_tags.append(article)\n",
    "        #print(article, end=\"\\n\"*2)\n",
    "    # print(article_tags)\n",
    "\n",
    "url_list = []\n",
    "title_list = []\n",
    "img_list = []\n",
    "\n",
    "for article_tag in article_tags:\n",
    "    a_tag = article_tag.find('a')\n",
    "    h2_tag = article_tag.find('h2')\n",
    "    img_tag = article_tag.find('img')\n",
    "    img_tag = img_tag['src']\n",
    "    \n",
    "    if a_tag is not None:\n",
    "        url = a_tag['href']\n",
    "        url_list.append(url)\n",
    "        #print(\"URL:\", url)\n",
    "    \n",
    "    if h2_tag is not None:\n",
    "        title = h2_tag.get_text()\n",
    "        title_list.append(title)\n",
    "        #print(\"Title:\", title)\n",
    "    \n",
    "    if img_tag is not None:\n",
    "        img_list.append(img_tag)\n",
    "    #print(\"URL:\", url_list)\n",
    "#print(\"Title:\", title_list)\n",
    "\n",
    "df = pd.DataFrame({\n",
    "    'Judul Berita' : title_list,\n",
    "    'Link Berita': url_list,\n",
    "    'Link Gambar': img_list\n",
    "})\n",
    "#print(df[24:])\n",
    "#df[24:].to_csv('kebakaran test.csv', index=False)\n",
    "df.to_csv('kebakaran.csv',index=False)"
   ]
  },
  {
   "cell_type": "code",
   "execution_count": 9,
   "metadata": {},
   "outputs": [],
   "source": [
    "# dir = '../news_titles_urls/kebakaran/'\n",
    "\n",
    "# csv_files = glob.glob(dir + '*.csv')\n",
    "\n",
    "# dfs = []\n",
    "\n",
    "# for file in csv_files:\n",
    "#     df = pd.read_csv(file)\n",
    "#     dfs.append(df) \n",
    "# combined_df = pd.concat(dfs, ignore_index=True)\n",
    "# combined_df.to_csv('Kebakaran.csv', index=False)"
   ]
  },
  {
   "cell_type": "code",
   "execution_count": 11,
   "metadata": {},
   "outputs": [],
   "source": [
    "# df = pd.read_csv(\"../news_titles_urls/kebakaran/Kebakaran.csv\")\n",
    "# df.to_excel(\"kebakaran.xlsx\", index=False)"
   ]
  },
  {
   "attachments": {},
   "cell_type": "markdown",
   "metadata": {},
   "source": [
    "# Kejahatan (Polisi)"
   ]
  },
  {
   "attachments": {},
   "cell_type": "markdown",
   "metadata": {},
   "source": [
    "## Page 1-3 tag kejahatan + Page 1-17 kriminal"
   ]
  },
  {
   "cell_type": "code",
   "execution_count": 11,
   "metadata": {},
   "outputs": [],
   "source": [
    "base_URL = \"https://www.cnnindonesia.com/tag/kriminal\"\n",
    "\n",
    "article_tags = []\n",
    "\n",
    "for i in range(1,18):\n",
    "    URL = base_URL + \"/{}\".format(i)\n",
    "    page = requests.get(URL)\n",
    "    #print(page.text)\n",
    "    soup = BeautifulSoup(page.content, \"html.parser\")\n",
    "    articles = soup.find_all(\"article\")\n",
    "    articles = articles[-10:] \n",
    "\n",
    "    for article in articles:\n",
    "        article_tags.append(article)\n",
    "        #print(article, end=\"\\n\"*2)\n",
    "    # print(article_tags)\n",
    "\n",
    "url_list = []\n",
    "title_list = []\n",
    "img_list = []\n",
    "\n",
    "for article_tag in article_tags:\n",
    "    a_tag = article_tag.find('a')\n",
    "    h2_tag = article_tag.find('h2')\n",
    "    img_tag = article_tag.find('img')\n",
    "    img_tag = img_tag['src']\n",
    "    \n",
    "    if a_tag is not None:\n",
    "        url = a_tag['href']\n",
    "        url_list.append(url)\n",
    "        #print(\"URL:\", url)\n",
    "    \n",
    "    if h2_tag is not None:\n",
    "        title = h2_tag.get_text()\n",
    "        title_list.append(title)\n",
    "        #print(\"Title:\", title)\n",
    "    \n",
    "    if img_tag is not None:\n",
    "        img_list.append(img_tag)\n",
    "    #print(\"URL:\", url_list)\n",
    "#print(\"Title:\", title_list)\n",
    "\n",
    "df = pd.DataFrame({\n",
    "    'Judul Berita' : title_list,\n",
    "    'Link Berita': url_list,\n",
    "    'Link Gambar': img_list\n",
    "})\n",
    "#print(df[24:])\n",
    "#df[24:].to_csv('kebakaran test.csv', index=False)\n",
    "df.to_csv('kejahatan 2.csv',index=False)"
   ]
  },
  {
   "cell_type": "code",
   "execution_count": 15,
   "metadata": {},
   "outputs": [],
   "source": [
    "dir = '../news_titles_urls/kejahatan/'\n",
    "\n",
    "csv_files = glob.glob(dir + '*.csv')\n",
    "\n",
    "dfs = []\n",
    "\n",
    "for file in csv_files:\n",
    "    df = pd.read_csv(file)\n",
    "    dfs.append(df) \n",
    "combined_df = pd.concat(dfs, ignore_index=True)\n",
    "combined_df.to_csv('kejahatan.csv', index=False)"
   ]
  }
 ],
 "metadata": {
  "kernelspec": {
   "display_name": "Python 3",
   "language": "python",
   "name": "python3"
  },
  "language_info": {
   "codemirror_mode": {
    "name": "ipython",
    "version": 3
   },
   "file_extension": ".py",
   "mimetype": "text/x-python",
   "name": "python",
   "nbconvert_exporter": "python",
   "pygments_lexer": "ipython3",
   "version": "3.10.11"
  },
  "orig_nbformat": 4
 },
 "nbformat": 4,
 "nbformat_minor": 2
}
