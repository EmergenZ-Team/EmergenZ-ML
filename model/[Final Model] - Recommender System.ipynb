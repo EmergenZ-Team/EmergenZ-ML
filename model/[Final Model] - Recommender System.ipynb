{
  "cells": [
    {
      "cell_type": "markdown",
      "metadata": {
        "id": "QCgo_FzpaqeH"
      },
      "source": [
        "# Gathering, cleaning, and organize data"
      ]
    },
    {
      "cell_type": "markdown",
      "metadata": {
        "id": "3UadfD_PtErd"
      },
      "source": [
        "## Library"
      ]
    },
    {
      "cell_type": "code",
      "execution_count": null,
      "metadata": {
        "colab": {
          "base_uri": "https://localhost:8080/"
        },
        "id": "zU0Joj-ocIaN",
        "outputId": "b1d07277-ac2d-45ba-b1df-da3ace57f2d1"
      },
      "outputs": [
        {
          "output_type": "stream",
          "name": "stderr",
          "text": [
            "[nltk_data] Downloading package punkt to /root/nltk_data...\n",
            "[nltk_data]   Unzipping tokenizers/punkt.zip.\n",
            "[nltk_data] Downloading package stopwords to /root/nltk_data...\n",
            "[nltk_data]   Unzipping corpora/stopwords.zip.\n"
          ]
        },
        {
          "output_type": "stream",
          "name": "stdout",
          "text": [
            "2.12.0\n"
          ]
        }
      ],
      "source": [
        "import json\n",
        "import re\n",
        "import pandas as pd\n",
        "import matplotlib.pyplot as plt\n",
        "import nltk\n",
        "from nltk.corpus import stopwords\n",
        "nltk.download('punkt')\n",
        "nltk.download('stopwords')\n",
        "import tensorflow as tf\n",
        "from tensorflow.keras.preprocessing.text import Tokenizer\n",
        "from tensorflow.keras.preprocessing.sequence import pad_sequences\n",
        "\n",
        "print(tf.__version__)"
      ]
    },
    {
      "cell_type": "markdown",
      "metadata": {
        "id": "s0zTDh4gttPb"
      },
      "source": [
        "## Load data"
      ]
    },
    {
      "cell_type": "code",
      "execution_count": null,
      "metadata": {
        "colab": {
          "base_uri": "https://localhost:8080/"
        },
        "id": "4InH9NgiKvOm",
        "outputId": "ccc18eca-6442-4e69-a9d7-0c45a432e17c"
      },
      "outputs": [
        {
          "output_type": "stream",
          "name": "stdout",
          "text": [
            "Mounted at /content/drive\n"
          ]
        }
      ],
      "source": [
        "from google.colab import drive\n",
        "drive.mount('/content/drive')"
      ]
    },
    {
      "cell_type": "code",
      "source": [
        "with open(\"/content/drive/MyDrive/capstone/datasets/train.json\", \"r\") as data_train:\n",
        "  data_train = json.load(data_train)\n",
        "\n",
        "with open(\"/content/drive/MyDrive/capstone/datasets/validation.json\", \"r\") as data_validation:\n",
        "  data_validation = json.load(data_validation)"
      ],
      "metadata": {
        "id": "Ric5hFChpsjx"
      },
      "execution_count": null,
      "outputs": []
    },
    {
      "cell_type": "code",
      "execution_count": null,
      "metadata": {
        "colab": {
          "base_uri": "https://localhost:8080/",
          "height": 704
        },
        "id": "eF3M2_rB6ozH",
        "outputId": "9d60cc04-3807-4cf1-cdf2-ab04925fc11e"
      },
      "outputs": [
        {
          "output_type": "execute_result",
          "data": {
            "text/plain": [
              "                                        Judul Berita  \\\n",
              "0  Kebakaran Gudang di Duren Sawit Jaktim Diduga ...   \n",
              "1  Pertamina Respons Kebakaran Truk Tangki BBM di...   \n",
              "2  Jenuh Mondok, 3 Santri Bakar Asrama Tahfiz Al-...   \n",
              "3  VIDEO: Detik-detik Gedung Runtuh usai Dilahap ...   \n",
              "4  Kemhan Rusia Dilaporkan Kebakaran, Moskow Buka...   \n",
              "\n",
              "                                         Link Berita  \\\n",
              "0  https://www.cnnindonesia.com/nasional/20230530...   \n",
              "1  https://www.cnnindonesia.com/ekonomi/202305281...   \n",
              "2  https://www.cnnindonesia.com/nasional/20230525...   \n",
              "3  https://www.cnnindonesia.com/internasional/202...   \n",
              "4  https://www.cnnindonesia.com/internasional/202...   \n",
              "\n",
              "                                         Link Gambar     themes  \\\n",
              "0  https://akcdn.detik.net.id/visual/2023/05/30/i...  kebakaran   \n",
              "1  https://akcdn.detik.net.id/visual/2017/05/24/9...  kebakaran   \n",
              "2  https://akcdn.detik.net.id/visual/2020/01/01/7...  kebakaran   \n",
              "3  https://akcdn.detik.net.id/visual/2023/05/25/t...  kebakaran   \n",
              "4  https://akcdn.detik.net.id/visual/2023/05/04/i...  kebakaran   \n",
              "\n",
              "                   recommendation  \n",
              "0  [Kebakaran, Pemadam Kebakaran]  \n",
              "1  [Kebakaran, Pemadam Kebakaran]  \n",
              "2  [Kebakaran, Pemadam Kebakaran]  \n",
              "3  [Kebakaran, Pemadam Kebakaran]  \n",
              "4  [Kebakaran, Pemadam Kebakaran]  "
            ],
            "text/html": [
              "\n",
              "  <div id=\"df-57ccabef-9430-44bd-b296-473aa2d39457\">\n",
              "    <div class=\"colab-df-container\">\n",
              "      <div>\n",
              "<style scoped>\n",
              "    .dataframe tbody tr th:only-of-type {\n",
              "        vertical-align: middle;\n",
              "    }\n",
              "\n",
              "    .dataframe tbody tr th {\n",
              "        vertical-align: top;\n",
              "    }\n",
              "\n",
              "    .dataframe thead th {\n",
              "        text-align: right;\n",
              "    }\n",
              "</style>\n",
              "<table border=\"1\" class=\"dataframe\">\n",
              "  <thead>\n",
              "    <tr style=\"text-align: right;\">\n",
              "      <th></th>\n",
              "      <th>Judul Berita</th>\n",
              "      <th>Link Berita</th>\n",
              "      <th>Link Gambar</th>\n",
              "      <th>themes</th>\n",
              "      <th>recommendation</th>\n",
              "    </tr>\n",
              "  </thead>\n",
              "  <tbody>\n",
              "    <tr>\n",
              "      <th>0</th>\n",
              "      <td>Kebakaran Gudang di Duren Sawit Jaktim Diduga ...</td>\n",
              "      <td>https://www.cnnindonesia.com/nasional/20230530...</td>\n",
              "      <td>https://akcdn.detik.net.id/visual/2023/05/30/i...</td>\n",
              "      <td>kebakaran</td>\n",
              "      <td>[Kebakaran, Pemadam Kebakaran]</td>\n",
              "    </tr>\n",
              "    <tr>\n",
              "      <th>1</th>\n",
              "      <td>Pertamina Respons Kebakaran Truk Tangki BBM di...</td>\n",
              "      <td>https://www.cnnindonesia.com/ekonomi/202305281...</td>\n",
              "      <td>https://akcdn.detik.net.id/visual/2017/05/24/9...</td>\n",
              "      <td>kebakaran</td>\n",
              "      <td>[Kebakaran, Pemadam Kebakaran]</td>\n",
              "    </tr>\n",
              "    <tr>\n",
              "      <th>2</th>\n",
              "      <td>Jenuh Mondok, 3 Santri Bakar Asrama Tahfiz Al-...</td>\n",
              "      <td>https://www.cnnindonesia.com/nasional/20230525...</td>\n",
              "      <td>https://akcdn.detik.net.id/visual/2020/01/01/7...</td>\n",
              "      <td>kebakaran</td>\n",
              "      <td>[Kebakaran, Pemadam Kebakaran]</td>\n",
              "    </tr>\n",
              "    <tr>\n",
              "      <th>3</th>\n",
              "      <td>VIDEO: Detik-detik Gedung Runtuh usai Dilahap ...</td>\n",
              "      <td>https://www.cnnindonesia.com/internasional/202...</td>\n",
              "      <td>https://akcdn.detik.net.id/visual/2023/05/25/t...</td>\n",
              "      <td>kebakaran</td>\n",
              "      <td>[Kebakaran, Pemadam Kebakaran]</td>\n",
              "    </tr>\n",
              "    <tr>\n",
              "      <th>4</th>\n",
              "      <td>Kemhan Rusia Dilaporkan Kebakaran, Moskow Buka...</td>\n",
              "      <td>https://www.cnnindonesia.com/internasional/202...</td>\n",
              "      <td>https://akcdn.detik.net.id/visual/2023/05/04/i...</td>\n",
              "      <td>kebakaran</td>\n",
              "      <td>[Kebakaran, Pemadam Kebakaran]</td>\n",
              "    </tr>\n",
              "  </tbody>\n",
              "</table>\n",
              "</div>\n",
              "      <button class=\"colab-df-convert\" onclick=\"convertToInteractive('df-57ccabef-9430-44bd-b296-473aa2d39457')\"\n",
              "              title=\"Convert this dataframe to an interactive table.\"\n",
              "              style=\"display:none;\">\n",
              "        \n",
              "  <svg xmlns=\"http://www.w3.org/2000/svg\" height=\"24px\"viewBox=\"0 0 24 24\"\n",
              "       width=\"24px\">\n",
              "    <path d=\"M0 0h24v24H0V0z\" fill=\"none\"/>\n",
              "    <path d=\"M18.56 5.44l.94 2.06.94-2.06 2.06-.94-2.06-.94-.94-2.06-.94 2.06-2.06.94zm-11 1L8.5 8.5l.94-2.06 2.06-.94-2.06-.94L8.5 2.5l-.94 2.06-2.06.94zm10 10l.94 2.06.94-2.06 2.06-.94-2.06-.94-.94-2.06-.94 2.06-2.06.94z\"/><path d=\"M17.41 7.96l-1.37-1.37c-.4-.4-.92-.59-1.43-.59-.52 0-1.04.2-1.43.59L10.3 9.45l-7.72 7.72c-.78.78-.78 2.05 0 2.83L4 21.41c.39.39.9.59 1.41.59.51 0 1.02-.2 1.41-.59l7.78-7.78 2.81-2.81c.8-.78.8-2.07 0-2.86zM5.41 20L4 18.59l7.72-7.72 1.47 1.35L5.41 20z\"/>\n",
              "  </svg>\n",
              "      </button>\n",
              "      \n",
              "  <style>\n",
              "    .colab-df-container {\n",
              "      display:flex;\n",
              "      flex-wrap:wrap;\n",
              "      gap: 12px;\n",
              "    }\n",
              "\n",
              "    .colab-df-convert {\n",
              "      background-color: #E8F0FE;\n",
              "      border: none;\n",
              "      border-radius: 50%;\n",
              "      cursor: pointer;\n",
              "      display: none;\n",
              "      fill: #1967D2;\n",
              "      height: 32px;\n",
              "      padding: 0 0 0 0;\n",
              "      width: 32px;\n",
              "    }\n",
              "\n",
              "    .colab-df-convert:hover {\n",
              "      background-color: #E2EBFA;\n",
              "      box-shadow: 0px 1px 2px rgba(60, 64, 67, 0.3), 0px 1px 3px 1px rgba(60, 64, 67, 0.15);\n",
              "      fill: #174EA6;\n",
              "    }\n",
              "\n",
              "    [theme=dark] .colab-df-convert {\n",
              "      background-color: #3B4455;\n",
              "      fill: #D2E3FC;\n",
              "    }\n",
              "\n",
              "    [theme=dark] .colab-df-convert:hover {\n",
              "      background-color: #434B5C;\n",
              "      box-shadow: 0px 1px 3px 1px rgba(0, 0, 0, 0.15);\n",
              "      filter: drop-shadow(0px 1px 2px rgba(0, 0, 0, 0.3));\n",
              "      fill: #FFFFFF;\n",
              "    }\n",
              "  </style>\n",
              "\n",
              "      <script>\n",
              "        const buttonEl =\n",
              "          document.querySelector('#df-57ccabef-9430-44bd-b296-473aa2d39457 button.colab-df-convert');\n",
              "        buttonEl.style.display =\n",
              "          google.colab.kernel.accessAllowed ? 'block' : 'none';\n",
              "\n",
              "        async function convertToInteractive(key) {\n",
              "          const element = document.querySelector('#df-57ccabef-9430-44bd-b296-473aa2d39457');\n",
              "          const dataTable =\n",
              "            await google.colab.kernel.invokeFunction('convertToInteractive',\n",
              "                                                     [key], {});\n",
              "          if (!dataTable) return;\n",
              "\n",
              "          const docLinkHtml = 'Like what you see? Visit the ' +\n",
              "            '<a target=\"_blank\" href=https://colab.research.google.com/notebooks/data_table.ipynb>data table notebook</a>'\n",
              "            + ' to learn more about interactive tables.';\n",
              "          element.innerHTML = '';\n",
              "          dataTable['output_type'] = 'display_data';\n",
              "          await google.colab.output.renderOutput(dataTable, element);\n",
              "          const docLink = document.createElement('div');\n",
              "          docLink.innerHTML = docLinkHtml;\n",
              "          element.appendChild(docLink);\n",
              "        }\n",
              "      </script>\n",
              "    </div>\n",
              "  </div>\n",
              "  "
            ]
          },
          "metadata": {},
          "execution_count": 8
        }
      ],
      "source": [
        "dt_kebakaran = pd.read_csv(\"/content/drive/MyDrive/capstone/datasets/kebakaran/kebakaran.csv\")\n",
        "dt_kebakaran['themes'] = \"kebakaran\"\n",
        "dt_kebakaran['recommendation'] = pd.Series([['Kebakaran','Pemadam Kebakaran']]* len(dt_kebakaran))\n",
        "dt_kebakaran.head()"
      ]
    },
    {
      "cell_type": "code",
      "execution_count": null,
      "metadata": {
        "id": "_MxwpThd8NP_",
        "colab": {
          "base_uri": "https://localhost:8080/",
          "height": 634
        },
        "outputId": "54d7b3c9-4703-4480-efda-c214d8ce3b35"
      },
      "outputs": [
        {
          "output_type": "execute_result",
          "data": {
            "text/plain": [
              "                                        Judul Berita  \\\n",
              "0          VIDEO: Waspada Modus Baru Penipuan Online   \n",
              "1  Studi Buktikan Kepemilikan Anjing Bisa Turunka...   \n",
              "2                  VIDEO: Pasutri Terlibat Kejahatan   \n",
              "3  VIDEO: Mengapa Ada Pemuka Agama yang Melakukan...   \n",
              "4             VIDEO: Karyawati Tewas Dibacok Pemotor   \n",
              "\n",
              "                                         Link Berita  \\\n",
              "0  https://www.cnnindonesia.com/tv/20221208234440...   \n",
              "1  https://www.cnnindonesia.com/teknologi/2022071...   \n",
              "2  https://www.cnnindonesia.com/tv/20220419172407...   \n",
              "3  https://www.cnnindonesia.com/gaya-hidup/202204...   \n",
              "4  https://www.cnnindonesia.com/tv/20220322160010...   \n",
              "\n",
              "                                         Link Gambar  themes  \\\n",
              "0  https://akcdn.detik.net.id/visual/2022/12/08/p...  polisi   \n",
              "1  https://akcdn.detik.net.id/visual/2022/01/18/a...  polisi   \n",
              "2  https://akcdn.detik.net.id/visual/2022/04/19/s...  polisi   \n",
              "3  https://akcdn.detik.net.id/visual/2022/04/05/t...  polisi   \n",
              "4  https://akcdn.detik.net.id/visual/2022/03/22/k...  polisi   \n",
              "\n",
              "        recommendation  \n",
              "0  [Kejahatan, Polisi]  \n",
              "1  [Kejahatan, Polisi]  \n",
              "2  [Kejahatan, Polisi]  \n",
              "3  [Kejahatan, Polisi]  \n",
              "4  [Kejahatan, Polisi]  "
            ],
            "text/html": [
              "\n",
              "  <div id=\"df-b34ea32a-e529-4ce1-a0eb-c4108b15f071\">\n",
              "    <div class=\"colab-df-container\">\n",
              "      <div>\n",
              "<style scoped>\n",
              "    .dataframe tbody tr th:only-of-type {\n",
              "        vertical-align: middle;\n",
              "    }\n",
              "\n",
              "    .dataframe tbody tr th {\n",
              "        vertical-align: top;\n",
              "    }\n",
              "\n",
              "    .dataframe thead th {\n",
              "        text-align: right;\n",
              "    }\n",
              "</style>\n",
              "<table border=\"1\" class=\"dataframe\">\n",
              "  <thead>\n",
              "    <tr style=\"text-align: right;\">\n",
              "      <th></th>\n",
              "      <th>Judul Berita</th>\n",
              "      <th>Link Berita</th>\n",
              "      <th>Link Gambar</th>\n",
              "      <th>themes</th>\n",
              "      <th>recommendation</th>\n",
              "    </tr>\n",
              "  </thead>\n",
              "  <tbody>\n",
              "    <tr>\n",
              "      <th>0</th>\n",
              "      <td>VIDEO: Waspada Modus Baru Penipuan Online</td>\n",
              "      <td>https://www.cnnindonesia.com/tv/20221208234440...</td>\n",
              "      <td>https://akcdn.detik.net.id/visual/2022/12/08/p...</td>\n",
              "      <td>polisi</td>\n",
              "      <td>[Kejahatan, Polisi]</td>\n",
              "    </tr>\n",
              "    <tr>\n",
              "      <th>1</th>\n",
              "      <td>Studi Buktikan Kepemilikan Anjing Bisa Turunka...</td>\n",
              "      <td>https://www.cnnindonesia.com/teknologi/2022071...</td>\n",
              "      <td>https://akcdn.detik.net.id/visual/2022/01/18/a...</td>\n",
              "      <td>polisi</td>\n",
              "      <td>[Kejahatan, Polisi]</td>\n",
              "    </tr>\n",
              "    <tr>\n",
              "      <th>2</th>\n",
              "      <td>VIDEO: Pasutri Terlibat Kejahatan</td>\n",
              "      <td>https://www.cnnindonesia.com/tv/20220419172407...</td>\n",
              "      <td>https://akcdn.detik.net.id/visual/2022/04/19/s...</td>\n",
              "      <td>polisi</td>\n",
              "      <td>[Kejahatan, Polisi]</td>\n",
              "    </tr>\n",
              "    <tr>\n",
              "      <th>3</th>\n",
              "      <td>VIDEO: Mengapa Ada Pemuka Agama yang Melakukan...</td>\n",
              "      <td>https://www.cnnindonesia.com/gaya-hidup/202204...</td>\n",
              "      <td>https://akcdn.detik.net.id/visual/2022/04/05/t...</td>\n",
              "      <td>polisi</td>\n",
              "      <td>[Kejahatan, Polisi]</td>\n",
              "    </tr>\n",
              "    <tr>\n",
              "      <th>4</th>\n",
              "      <td>VIDEO: Karyawati Tewas Dibacok Pemotor</td>\n",
              "      <td>https://www.cnnindonesia.com/tv/20220322160010...</td>\n",
              "      <td>https://akcdn.detik.net.id/visual/2022/03/22/k...</td>\n",
              "      <td>polisi</td>\n",
              "      <td>[Kejahatan, Polisi]</td>\n",
              "    </tr>\n",
              "  </tbody>\n",
              "</table>\n",
              "</div>\n",
              "      <button class=\"colab-df-convert\" onclick=\"convertToInteractive('df-b34ea32a-e529-4ce1-a0eb-c4108b15f071')\"\n",
              "              title=\"Convert this dataframe to an interactive table.\"\n",
              "              style=\"display:none;\">\n",
              "        \n",
              "  <svg xmlns=\"http://www.w3.org/2000/svg\" height=\"24px\"viewBox=\"0 0 24 24\"\n",
              "       width=\"24px\">\n",
              "    <path d=\"M0 0h24v24H0V0z\" fill=\"none\"/>\n",
              "    <path d=\"M18.56 5.44l.94 2.06.94-2.06 2.06-.94-2.06-.94-.94-2.06-.94 2.06-2.06.94zm-11 1L8.5 8.5l.94-2.06 2.06-.94-2.06-.94L8.5 2.5l-.94 2.06-2.06.94zm10 10l.94 2.06.94-2.06 2.06-.94-2.06-.94-.94-2.06-.94 2.06-2.06.94z\"/><path d=\"M17.41 7.96l-1.37-1.37c-.4-.4-.92-.59-1.43-.59-.52 0-1.04.2-1.43.59L10.3 9.45l-7.72 7.72c-.78.78-.78 2.05 0 2.83L4 21.41c.39.39.9.59 1.41.59.51 0 1.02-.2 1.41-.59l7.78-7.78 2.81-2.81c.8-.78.8-2.07 0-2.86zM5.41 20L4 18.59l7.72-7.72 1.47 1.35L5.41 20z\"/>\n",
              "  </svg>\n",
              "      </button>\n",
              "      \n",
              "  <style>\n",
              "    .colab-df-container {\n",
              "      display:flex;\n",
              "      flex-wrap:wrap;\n",
              "      gap: 12px;\n",
              "    }\n",
              "\n",
              "    .colab-df-convert {\n",
              "      background-color: #E8F0FE;\n",
              "      border: none;\n",
              "      border-radius: 50%;\n",
              "      cursor: pointer;\n",
              "      display: none;\n",
              "      fill: #1967D2;\n",
              "      height: 32px;\n",
              "      padding: 0 0 0 0;\n",
              "      width: 32px;\n",
              "    }\n",
              "\n",
              "    .colab-df-convert:hover {\n",
              "      background-color: #E2EBFA;\n",
              "      box-shadow: 0px 1px 2px rgba(60, 64, 67, 0.3), 0px 1px 3px 1px rgba(60, 64, 67, 0.15);\n",
              "      fill: #174EA6;\n",
              "    }\n",
              "\n",
              "    [theme=dark] .colab-df-convert {\n",
              "      background-color: #3B4455;\n",
              "      fill: #D2E3FC;\n",
              "    }\n",
              "\n",
              "    [theme=dark] .colab-df-convert:hover {\n",
              "      background-color: #434B5C;\n",
              "      box-shadow: 0px 1px 3px 1px rgba(0, 0, 0, 0.15);\n",
              "      filter: drop-shadow(0px 1px 2px rgba(0, 0, 0, 0.3));\n",
              "      fill: #FFFFFF;\n",
              "    }\n",
              "  </style>\n",
              "\n",
              "      <script>\n",
              "        const buttonEl =\n",
              "          document.querySelector('#df-b34ea32a-e529-4ce1-a0eb-c4108b15f071 button.colab-df-convert');\n",
              "        buttonEl.style.display =\n",
              "          google.colab.kernel.accessAllowed ? 'block' : 'none';\n",
              "\n",
              "        async function convertToInteractive(key) {\n",
              "          const element = document.querySelector('#df-b34ea32a-e529-4ce1-a0eb-c4108b15f071');\n",
              "          const dataTable =\n",
              "            await google.colab.kernel.invokeFunction('convertToInteractive',\n",
              "                                                     [key], {});\n",
              "          if (!dataTable) return;\n",
              "\n",
              "          const docLinkHtml = 'Like what you see? Visit the ' +\n",
              "            '<a target=\"_blank\" href=https://colab.research.google.com/notebooks/data_table.ipynb>data table notebook</a>'\n",
              "            + ' to learn more about interactive tables.';\n",
              "          element.innerHTML = '';\n",
              "          dataTable['output_type'] = 'display_data';\n",
              "          await google.colab.output.renderOutput(dataTable, element);\n",
              "          const docLink = document.createElement('div');\n",
              "          docLink.innerHTML = docLinkHtml;\n",
              "          element.appendChild(docLink);\n",
              "        }\n",
              "      </script>\n",
              "    </div>\n",
              "  </div>\n",
              "  "
            ]
          },
          "metadata": {},
          "execution_count": 9
        }
      ],
      "source": [
        "dt_kejahatan = pd.read_csv(\"/content/drive/MyDrive/capstone/datasets/kejahatan/kejahatan.csv\")\n",
        "dt_kejahatan['themes'] = \"polisi\"\n",
        "dt_kejahatan['recommendation'] = pd.Series([['Kejahatan','Polisi']]* len(dt_kejahatan))\n",
        "dt_kejahatan.head()"
      ]
    },
    {
      "cell_type": "code",
      "execution_count": null,
      "metadata": {
        "id": "bZ_94fXB8ZSI",
        "colab": {
          "base_uri": "https://localhost:8080/",
          "height": 773
        },
        "outputId": "d23fd7a0-26d4-43ca-f290-9329810d35bf"
      },
      "outputs": [
        {
          "output_type": "execute_result",
          "data": {
            "text/plain": [
              "                                        Judul Berita  \\\n",
              "0     Sinopsis Elysium, Bioskop Trans TV 1 Juni 2023   \n",
              "1       Apakah Penderita Diabetes Bisa Sembuh Total?   \n",
              "2  Kenapa Masih Muda Kena Diabetes? Ini 9 Penyeba...   \n",
              "3  Udara Jakarta Lagi Tak Sehat, Waspada 5 Penyak...   \n",
              "4  5 Manfaat Susu, Salah Satunya Bisa Turunkan Be...   \n",
              "\n",
              "                                         Link Berita  \\\n",
              "0  https://www.cnnindonesia.com/hiburan/202305311...   \n",
              "1  https://www.cnnindonesia.com/gaya-hidup/202305...   \n",
              "2  https://www.cnnindonesia.com/gaya-hidup/202305...   \n",
              "3  https://www.cnnindonesia.com/gaya-hidup/202305...   \n",
              "4  https://www.cnnindonesia.com/gaya-hidup/202305...   \n",
              "\n",
              "                                          Link Image       themes  \\\n",
              "0  https://akcdn.detik.net.id/visual/2023/02/03/f...  rumah sakit   \n",
              "1  https://akcdn.detik.net.id/visual/2020/11/09/i...  rumah sakit   \n",
              "2  https://akcdn.detik.net.id/visual/2023/04/11/i...  rumah sakit   \n",
              "3  https://akcdn.detik.net.id/visual/2022/06/15/u...  rumah sakit   \n",
              "4  https://akcdn.detik.net.id/visual/2021/09/09/i...  rumah sakit   \n",
              "\n",
              "                       recommendation  \n",
              "0  [Rumah Sakit, Penyakit, Kesehatan]  \n",
              "1  [Rumah Sakit, Penyakit, Kesehatan]  \n",
              "2  [Rumah Sakit, Penyakit, Kesehatan]  \n",
              "3  [Rumah Sakit, Penyakit, Kesehatan]  \n",
              "4  [Rumah Sakit, Penyakit, Kesehatan]  "
            ],
            "text/html": [
              "\n",
              "  <div id=\"df-fe652632-30ef-45c3-9e7e-b90ddaf16b63\">\n",
              "    <div class=\"colab-df-container\">\n",
              "      <div>\n",
              "<style scoped>\n",
              "    .dataframe tbody tr th:only-of-type {\n",
              "        vertical-align: middle;\n",
              "    }\n",
              "\n",
              "    .dataframe tbody tr th {\n",
              "        vertical-align: top;\n",
              "    }\n",
              "\n",
              "    .dataframe thead th {\n",
              "        text-align: right;\n",
              "    }\n",
              "</style>\n",
              "<table border=\"1\" class=\"dataframe\">\n",
              "  <thead>\n",
              "    <tr style=\"text-align: right;\">\n",
              "      <th></th>\n",
              "      <th>Judul Berita</th>\n",
              "      <th>Link Berita</th>\n",
              "      <th>Link Image</th>\n",
              "      <th>themes</th>\n",
              "      <th>recommendation</th>\n",
              "    </tr>\n",
              "  </thead>\n",
              "  <tbody>\n",
              "    <tr>\n",
              "      <th>0</th>\n",
              "      <td>Sinopsis Elysium, Bioskop Trans TV 1 Juni 2023</td>\n",
              "      <td>https://www.cnnindonesia.com/hiburan/202305311...</td>\n",
              "      <td>https://akcdn.detik.net.id/visual/2023/02/03/f...</td>\n",
              "      <td>rumah sakit</td>\n",
              "      <td>[Rumah Sakit, Penyakit, Kesehatan]</td>\n",
              "    </tr>\n",
              "    <tr>\n",
              "      <th>1</th>\n",
              "      <td>Apakah Penderita Diabetes Bisa Sembuh Total?</td>\n",
              "      <td>https://www.cnnindonesia.com/gaya-hidup/202305...</td>\n",
              "      <td>https://akcdn.detik.net.id/visual/2020/11/09/i...</td>\n",
              "      <td>rumah sakit</td>\n",
              "      <td>[Rumah Sakit, Penyakit, Kesehatan]</td>\n",
              "    </tr>\n",
              "    <tr>\n",
              "      <th>2</th>\n",
              "      <td>Kenapa Masih Muda Kena Diabetes? Ini 9 Penyeba...</td>\n",
              "      <td>https://www.cnnindonesia.com/gaya-hidup/202305...</td>\n",
              "      <td>https://akcdn.detik.net.id/visual/2023/04/11/i...</td>\n",
              "      <td>rumah sakit</td>\n",
              "      <td>[Rumah Sakit, Penyakit, Kesehatan]</td>\n",
              "    </tr>\n",
              "    <tr>\n",
              "      <th>3</th>\n",
              "      <td>Udara Jakarta Lagi Tak Sehat, Waspada 5 Penyak...</td>\n",
              "      <td>https://www.cnnindonesia.com/gaya-hidup/202305...</td>\n",
              "      <td>https://akcdn.detik.net.id/visual/2022/06/15/u...</td>\n",
              "      <td>rumah sakit</td>\n",
              "      <td>[Rumah Sakit, Penyakit, Kesehatan]</td>\n",
              "    </tr>\n",
              "    <tr>\n",
              "      <th>4</th>\n",
              "      <td>5 Manfaat Susu, Salah Satunya Bisa Turunkan Be...</td>\n",
              "      <td>https://www.cnnindonesia.com/gaya-hidup/202305...</td>\n",
              "      <td>https://akcdn.detik.net.id/visual/2021/09/09/i...</td>\n",
              "      <td>rumah sakit</td>\n",
              "      <td>[Rumah Sakit, Penyakit, Kesehatan]</td>\n",
              "    </tr>\n",
              "  </tbody>\n",
              "</table>\n",
              "</div>\n",
              "      <button class=\"colab-df-convert\" onclick=\"convertToInteractive('df-fe652632-30ef-45c3-9e7e-b90ddaf16b63')\"\n",
              "              title=\"Convert this dataframe to an interactive table.\"\n",
              "              style=\"display:none;\">\n",
              "        \n",
              "  <svg xmlns=\"http://www.w3.org/2000/svg\" height=\"24px\"viewBox=\"0 0 24 24\"\n",
              "       width=\"24px\">\n",
              "    <path d=\"M0 0h24v24H0V0z\" fill=\"none\"/>\n",
              "    <path d=\"M18.56 5.44l.94 2.06.94-2.06 2.06-.94-2.06-.94-.94-2.06-.94 2.06-2.06.94zm-11 1L8.5 8.5l.94-2.06 2.06-.94-2.06-.94L8.5 2.5l-.94 2.06-2.06.94zm10 10l.94 2.06.94-2.06 2.06-.94-2.06-.94-.94-2.06-.94 2.06-2.06.94z\"/><path d=\"M17.41 7.96l-1.37-1.37c-.4-.4-.92-.59-1.43-.59-.52 0-1.04.2-1.43.59L10.3 9.45l-7.72 7.72c-.78.78-.78 2.05 0 2.83L4 21.41c.39.39.9.59 1.41.59.51 0 1.02-.2 1.41-.59l7.78-7.78 2.81-2.81c.8-.78.8-2.07 0-2.86zM5.41 20L4 18.59l7.72-7.72 1.47 1.35L5.41 20z\"/>\n",
              "  </svg>\n",
              "      </button>\n",
              "      \n",
              "  <style>\n",
              "    .colab-df-container {\n",
              "      display:flex;\n",
              "      flex-wrap:wrap;\n",
              "      gap: 12px;\n",
              "    }\n",
              "\n",
              "    .colab-df-convert {\n",
              "      background-color: #E8F0FE;\n",
              "      border: none;\n",
              "      border-radius: 50%;\n",
              "      cursor: pointer;\n",
              "      display: none;\n",
              "      fill: #1967D2;\n",
              "      height: 32px;\n",
              "      padding: 0 0 0 0;\n",
              "      width: 32px;\n",
              "    }\n",
              "\n",
              "    .colab-df-convert:hover {\n",
              "      background-color: #E2EBFA;\n",
              "      box-shadow: 0px 1px 2px rgba(60, 64, 67, 0.3), 0px 1px 3px 1px rgba(60, 64, 67, 0.15);\n",
              "      fill: #174EA6;\n",
              "    }\n",
              "\n",
              "    [theme=dark] .colab-df-convert {\n",
              "      background-color: #3B4455;\n",
              "      fill: #D2E3FC;\n",
              "    }\n",
              "\n",
              "    [theme=dark] .colab-df-convert:hover {\n",
              "      background-color: #434B5C;\n",
              "      box-shadow: 0px 1px 3px 1px rgba(0, 0, 0, 0.15);\n",
              "      filter: drop-shadow(0px 1px 2px rgba(0, 0, 0, 0.3));\n",
              "      fill: #FFFFFF;\n",
              "    }\n",
              "  </style>\n",
              "\n",
              "      <script>\n",
              "        const buttonEl =\n",
              "          document.querySelector('#df-fe652632-30ef-45c3-9e7e-b90ddaf16b63 button.colab-df-convert');\n",
              "        buttonEl.style.display =\n",
              "          google.colab.kernel.accessAllowed ? 'block' : 'none';\n",
              "\n",
              "        async function convertToInteractive(key) {\n",
              "          const element = document.querySelector('#df-fe652632-30ef-45c3-9e7e-b90ddaf16b63');\n",
              "          const dataTable =\n",
              "            await google.colab.kernel.invokeFunction('convertToInteractive',\n",
              "                                                     [key], {});\n",
              "          if (!dataTable) return;\n",
              "\n",
              "          const docLinkHtml = 'Like what you see? Visit the ' +\n",
              "            '<a target=\"_blank\" href=https://colab.research.google.com/notebooks/data_table.ipynb>data table notebook</a>'\n",
              "            + ' to learn more about interactive tables.';\n",
              "          element.innerHTML = '';\n",
              "          dataTable['output_type'] = 'display_data';\n",
              "          await google.colab.output.renderOutput(dataTable, element);\n",
              "          const docLink = document.createElement('div');\n",
              "          docLink.innerHTML = docLinkHtml;\n",
              "          element.appendChild(docLink);\n",
              "        }\n",
              "      </script>\n",
              "    </div>\n",
              "  </div>\n",
              "  "
            ]
          },
          "metadata": {},
          "execution_count": 10
        }
      ],
      "source": [
        "dt_kesehatan = pd.read_csv(\"/content/drive/MyDrive/capstone/datasets/kesehatan/kesehatan.csv\")\n",
        "dt_kesehatan['themes'] = \"rumah sakit\"\n",
        "dt_kesehatan['recommendation'] = pd.Series([[\"Rumah Sakit\", \"Penyakit\", \"Kesehatan\"]]* len(dt_kesehatan))\n",
        "dt_kesehatan.head()"
      ]
    },
    {
      "cell_type": "code",
      "execution_count": null,
      "metadata": {
        "colab": {
          "base_uri": "https://localhost:8080/",
          "height": 367
        },
        "id": "QPz91Vf_9KHL",
        "outputId": "0421beff-242b-485a-b351-a14d00d81922"
      },
      "outputs": [
        {
          "output_type": "execute_result",
          "data": {
            "text/plain": [
              "                                     Judul Berita  \\\n",
              "0  Sinopsis Elysium, Bioskop Trans TV 1 Juni 2023   \n",
              "1    Apakah Penderita Diabetes Bisa Sembuh Total?   \n",
              "\n",
              "                                         Link Berita  \\\n",
              "0  https://www.cnnindonesia.com/hiburan/202305311...   \n",
              "1  https://www.cnnindonesia.com/gaya-hidup/202305...   \n",
              "\n",
              "                                         Link Gambar       themes  \\\n",
              "0  https://akcdn.detik.net.id/visual/2023/02/03/f...  rumah sakit   \n",
              "1  https://akcdn.detik.net.id/visual/2020/11/09/i...  rumah sakit   \n",
              "\n",
              "                       recommendation  \n",
              "0  [Rumah Sakit, Penyakit, Kesehatan]  \n",
              "1  [Rumah Sakit, Penyakit, Kesehatan]  "
            ],
            "text/html": [
              "\n",
              "  <div id=\"df-9229b3a9-dd17-4d79-9c46-0e54812bb426\">\n",
              "    <div class=\"colab-df-container\">\n",
              "      <div>\n",
              "<style scoped>\n",
              "    .dataframe tbody tr th:only-of-type {\n",
              "        vertical-align: middle;\n",
              "    }\n",
              "\n",
              "    .dataframe tbody tr th {\n",
              "        vertical-align: top;\n",
              "    }\n",
              "\n",
              "    .dataframe thead th {\n",
              "        text-align: right;\n",
              "    }\n",
              "</style>\n",
              "<table border=\"1\" class=\"dataframe\">\n",
              "  <thead>\n",
              "    <tr style=\"text-align: right;\">\n",
              "      <th></th>\n",
              "      <th>Judul Berita</th>\n",
              "      <th>Link Berita</th>\n",
              "      <th>Link Gambar</th>\n",
              "      <th>themes</th>\n",
              "      <th>recommendation</th>\n",
              "    </tr>\n",
              "  </thead>\n",
              "  <tbody>\n",
              "    <tr>\n",
              "      <th>0</th>\n",
              "      <td>Sinopsis Elysium, Bioskop Trans TV 1 Juni 2023</td>\n",
              "      <td>https://www.cnnindonesia.com/hiburan/202305311...</td>\n",
              "      <td>https://akcdn.detik.net.id/visual/2023/02/03/f...</td>\n",
              "      <td>rumah sakit</td>\n",
              "      <td>[Rumah Sakit, Penyakit, Kesehatan]</td>\n",
              "    </tr>\n",
              "    <tr>\n",
              "      <th>1</th>\n",
              "      <td>Apakah Penderita Diabetes Bisa Sembuh Total?</td>\n",
              "      <td>https://www.cnnindonesia.com/gaya-hidup/202305...</td>\n",
              "      <td>https://akcdn.detik.net.id/visual/2020/11/09/i...</td>\n",
              "      <td>rumah sakit</td>\n",
              "      <td>[Rumah Sakit, Penyakit, Kesehatan]</td>\n",
              "    </tr>\n",
              "  </tbody>\n",
              "</table>\n",
              "</div>\n",
              "      <button class=\"colab-df-convert\" onclick=\"convertToInteractive('df-9229b3a9-dd17-4d79-9c46-0e54812bb426')\"\n",
              "              title=\"Convert this dataframe to an interactive table.\"\n",
              "              style=\"display:none;\">\n",
              "        \n",
              "  <svg xmlns=\"http://www.w3.org/2000/svg\" height=\"24px\"viewBox=\"0 0 24 24\"\n",
              "       width=\"24px\">\n",
              "    <path d=\"M0 0h24v24H0V0z\" fill=\"none\"/>\n",
              "    <path d=\"M18.56 5.44l.94 2.06.94-2.06 2.06-.94-2.06-.94-.94-2.06-.94 2.06-2.06.94zm-11 1L8.5 8.5l.94-2.06 2.06-.94-2.06-.94L8.5 2.5l-.94 2.06-2.06.94zm10 10l.94 2.06.94-2.06 2.06-.94-2.06-.94-.94-2.06-.94 2.06-2.06.94z\"/><path d=\"M17.41 7.96l-1.37-1.37c-.4-.4-.92-.59-1.43-.59-.52 0-1.04.2-1.43.59L10.3 9.45l-7.72 7.72c-.78.78-.78 2.05 0 2.83L4 21.41c.39.39.9.59 1.41.59.51 0 1.02-.2 1.41-.59l7.78-7.78 2.81-2.81c.8-.78.8-2.07 0-2.86zM5.41 20L4 18.59l7.72-7.72 1.47 1.35L5.41 20z\"/>\n",
              "  </svg>\n",
              "      </button>\n",
              "      \n",
              "  <style>\n",
              "    .colab-df-container {\n",
              "      display:flex;\n",
              "      flex-wrap:wrap;\n",
              "      gap: 12px;\n",
              "    }\n",
              "\n",
              "    .colab-df-convert {\n",
              "      background-color: #E8F0FE;\n",
              "      border: none;\n",
              "      border-radius: 50%;\n",
              "      cursor: pointer;\n",
              "      display: none;\n",
              "      fill: #1967D2;\n",
              "      height: 32px;\n",
              "      padding: 0 0 0 0;\n",
              "      width: 32px;\n",
              "    }\n",
              "\n",
              "    .colab-df-convert:hover {\n",
              "      background-color: #E2EBFA;\n",
              "      box-shadow: 0px 1px 2px rgba(60, 64, 67, 0.3), 0px 1px 3px 1px rgba(60, 64, 67, 0.15);\n",
              "      fill: #174EA6;\n",
              "    }\n",
              "\n",
              "    [theme=dark] .colab-df-convert {\n",
              "      background-color: #3B4455;\n",
              "      fill: #D2E3FC;\n",
              "    }\n",
              "\n",
              "    [theme=dark] .colab-df-convert:hover {\n",
              "      background-color: #434B5C;\n",
              "      box-shadow: 0px 1px 3px 1px rgba(0, 0, 0, 0.15);\n",
              "      filter: drop-shadow(0px 1px 2px rgba(0, 0, 0, 0.3));\n",
              "      fill: #FFFFFF;\n",
              "    }\n",
              "  </style>\n",
              "\n",
              "      <script>\n",
              "        const buttonEl =\n",
              "          document.querySelector('#df-9229b3a9-dd17-4d79-9c46-0e54812bb426 button.colab-df-convert');\n",
              "        buttonEl.style.display =\n",
              "          google.colab.kernel.accessAllowed ? 'block' : 'none';\n",
              "\n",
              "        async function convertToInteractive(key) {\n",
              "          const element = document.querySelector('#df-9229b3a9-dd17-4d79-9c46-0e54812bb426');\n",
              "          const dataTable =\n",
              "            await google.colab.kernel.invokeFunction('convertToInteractive',\n",
              "                                                     [key], {});\n",
              "          if (!dataTable) return;\n",
              "\n",
              "          const docLinkHtml = 'Like what you see? Visit the ' +\n",
              "            '<a target=\"_blank\" href=https://colab.research.google.com/notebooks/data_table.ipynb>data table notebook</a>'\n",
              "            + ' to learn more about interactive tables.';\n",
              "          element.innerHTML = '';\n",
              "          dataTable['output_type'] = 'display_data';\n",
              "          await google.colab.output.renderOutput(dataTable, element);\n",
              "          const docLink = document.createElement('div');\n",
              "          docLink.innerHTML = docLinkHtml;\n",
              "          element.appendChild(docLink);\n",
              "        }\n",
              "      </script>\n",
              "    </div>\n",
              "  </div>\n",
              "  "
            ]
          },
          "metadata": {},
          "execution_count": 11
        }
      ],
      "source": [
        "dt_kesehatan = dt_kesehatan.rename(columns={\"Link Image\":\"Link Gambar\"})\n",
        "dt_kesehatan.head(2)"
      ]
    },
    {
      "cell_type": "markdown",
      "source": [
        "## Pre-processing Data"
      ],
      "metadata": {
        "id": "a_-ITxFo1jZH"
      }
    },
    {
      "cell_type": "code",
      "source": [
        "keywords_kebakaran_train = clean_titles(dt_kebakaran['Judul Berita'][:100])\n",
        "keywords_kebakaran_val = clean_titles(dt_kebakaran['Judul Berita'][100:])\n",
        "keywords_kejahatan_train = clean_titles(dt_kejahatan['Judul Berita'][:100])\n",
        "keywords_kejahatan_val = clean_titles(dt_kejahatan['Judul Berita'][100:])\n",
        "keywords_kesehatan_train = clean_titles(dt_kesehatan['Judul Berita'][:100])\n",
        "keywords_kesehatan_val = clean_titles(dt_kesehatan['Judul Berita'][100:])"
      ],
      "metadata": {
        "id": "T-p8kUMAwBol"
      },
      "execution_count": null,
      "outputs": []
    },
    {
      "cell_type": "code",
      "source": [
        "# TRAIN\n",
        "tema_berita = [\"kebakaran\", \"polisi\", \"rumah sakit\"]\n",
        "\n",
        "for tema in tema_berita:\n",
        "  index = next((i for i, d in enumerate(data_train[\"berita\"]) if d[\"tema_berita\"] == tema), None)\n",
        "  if index is not None:\n",
        "    if tema == \"kebakaran\":\n",
        "        data_train[\"berita\"][index][\"keywords\"].extend(keywords_kebakaran_train)\n",
        "    elif tema == \"polisi\":\n",
        "        data_train[\"berita\"][index][\"keywords\"].extend(keywords_kejahatan_train)\n",
        "    elif tema == \"rumah sakit\":\n",
        "        data_train[\"berita\"][index][\"keywords\"].extend(keywords_kesehatan_train)\n",
        "\n",
        "updated_data_train = json.dumps(data_train,indent=2)\n",
        "data_train = json.loads(updated_data_train)"
      ],
      "metadata": {
        "id": "vRffheoEpsEB"
      },
      "execution_count": null,
      "outputs": []
    },
    {
      "cell_type": "code",
      "source": [
        "# VALIDATION\n",
        "tema_berita = [\"kebakaran\", \"polisi\", \"rumah sakit\"]\n",
        "\n",
        "for tema in tema_berita:\n",
        "  index = next((i for i, d in enumerate(data_validation[\"berita\"]) if d[\"tema_berita\"] == tema), None)\n",
        "  if index is not None:\n",
        "    if tema == \"kebakaran\":\n",
        "        data_validation[\"berita\"][index][\"keywords\"].extend(keywords_kebakaran_val)\n",
        "    elif tema == \"polisi\":\n",
        "        data_validation[\"berita\"][index][\"keywords\"].extend(keywords_kejahatan_val)\n",
        "    elif tema == \"rumah sakit\":\n",
        "        data_validation[\"berita\"][index][\"keywords\"].extend(keywords_kesehatan_val)\n",
        "\n",
        "updated_data_validation = json.dumps(data_validation, indent=2)\n",
        "data_validation = json.loads(updated_data_validation)"
      ],
      "metadata": {
        "id": "9q66Zrit3yt-"
      },
      "execution_count": null,
      "outputs": []
    },
    {
      "cell_type": "code",
      "execution_count": null,
      "metadata": {
        "id": "aVQHMb1M5S20"
      },
      "outputs": [],
      "source": [
        "def labelling(json_data):\n",
        "    keywords, themes, recommendation = [], [], []\n",
        "    themes_label = {}\n",
        "\n",
        "    for news in json_data['berita']:\n",
        "        for keyword in news['keywords']:\n",
        "            keywords.append(keyword)\n",
        "            themes.append(news['tema_berita'])\n",
        "            recommendation.append(news['recommendation'])\n",
        "\n",
        "        for tema in news['tema_berita']:\n",
        "            if tema not in themes_label:\n",
        "                themes_label[news['tema_berita']] = news['recommendation']\n",
        "\n",
        "    return keywords, themes, recommendation, themes_label"
      ]
    },
    {
      "cell_type": "code",
      "execution_count": null,
      "metadata": {
        "id": "_v6Hvxvm5S23"
      },
      "outputs": [],
      "source": [
        "keywords, themes, recommendation, labels_recommendation = labelling(data_train)\n",
        "\n",
        "validation_keywords, validation_themes, recommendation, labels_recommendation = labelling(data_validation)"
      ]
    },
    {
      "cell_type": "markdown",
      "metadata": {
        "id": "MHqXQ0iireKi"
      },
      "source": [
        "# Model Build and Compile"
      ]
    },
    {
      "cell_type": "markdown",
      "source": [
        "## Tokenize"
      ],
      "metadata": {
        "id": "Ixrk8C5Fg111"
      }
    },
    {
      "cell_type": "code",
      "execution_count": null,
      "metadata": {
        "colab": {
          "base_uri": "https://localhost:8080/"
        },
        "id": "r2IoNO4Ae-Pe",
        "outputId": "94c9ef57-20ca-4151-c074-cdb735de2985"
      },
      "outputs": [
        {
          "output_type": "stream",
          "name": "stdout",
          "text": [
            "{'kebakaran': 1, 'video': 2, 'plumpang': 3, 'pertamina': 4, 'warga': 5, 'depo': 6, 'korban': 7, 'polisi': 8, 'penyakit': 9, 'udara': 10, 'rumah': 11, 'diabetes': 12, 'polusi': 13, 'tewas': 14, 'akibat': 15, 'jakarta': 16, 'meninggal': 17, 'polri': 18, 'terbakar': 19, 'kena': 20, 'waspada': 21, 'api': 22, 'klaim': 23, 'berat': 24, 'cari': 25, 'kejahatan': 26, 'ilegal': 27, 'susu': 28, 'aturan': 29, 'salah': 30, 'turunkan': 31, 'meningkat': 32, 'total': 33, 'rekan': 34, 'penderita': 35, 'sembuh': 36, 'tv': 37, 'buronan': 38, 'sinopsis': 39, 'elysium': 40, 'bioskop': 41, 'trans': 42, 'juni': 43, 'muda': 44, 'penyebabnya': 45, 'sehat': 46, 'manfaat': 47, 'satunya': 48, 'badan': 49, 'poinpoin': 50, 'pns': 51, 'poligami': 52, 'hindari': 53, 'kebiasaan': 54, 'paruparu': 55, 'lemah': 56, 'kemendag': 57, 'bengkalis': 58, 'konsumsi': 59, 'daging': 60, 'kerbau': 61, 'mdb': 62, 'malaysia': 63, 'diinterogasi': 64, 'latah': 65, 'sekedar': 66, 'perhatian': 67, 'brigadir': 68, 'j': 69, 'orang': 70, 'rs': 71, 'anak': 72, 'damkar': 73, 'gedung': 74, 'diduga': 75, 'foto': 76, 'pelaku': 77, 'aksi': 78, 'kesehatan': 79, 'tersangka': 80, 'sambo': 81, 'korsleting': 82, 'lokasi': 83, 'papua': 84, 'keluarga': 85, 'luka': 86, 'gudang': 87, 'kapolda': 88, 'pria': 89, 'bakar': 90, 'kantor': 91, 'muara': 92, 'angke': 93, 'ratusan': 94, 'pembunuhan': 95, 'listrik': 96, 'makassar': 97, 'jakut': 98, 'dievakuasi': 99, 'darurat': 100, 'jenazah': 101, 'istri': 102, 'uang': 103, 'ditangkap': 104, 'ferdy': 105, 'bunuh': 106, 'polda': 107, 'jokowi': 108, 'padam': 109, 'asap': 110, 'berkobar': 111, 'detikdetik': 112, 'mobil': 113, 'city': 114, 'sakit': 115, 'salak': 116, 'bogor': 117, 'bukti': 118, 'modus': 119, 'pencurian': 120, 'cctv': 121, 'tangkap': 122, 'hukum': 123, 'penangkapan': 124, 'hutan': 125, 'gas': 126, 'evakuasi': 127, 'petugas': 128, 'pabrik': 129, 'bbm': 130, 'buka': 131, 'si': 132, 'jago': 133, 'merah': 134, 'dikerahkan': 135, 'selidiki': 136, 'hebat': 137, 'senayan': 138, 'momen': 139, 'saksi': 140, 'tkp': 141, 'judi': 142, 'kriminalitas': 143, 'online': 144, 'metro': 145, 'motor': 146, 'jalanan': 147, 'masjid': 148, 'dugaan': 149, 'lampung': 150, 'pencabulan': 151, 'dinas': 152, 'pemadam': 153, 'hangus': 154, 'santri': 155, 'asrama': 156, 'jiwa': 157, 'jakbar': 158, 'plastik': 159, 'unit': 160, 'diterjunkan': 161, 'rp': 162, 'area': 163, 'permukiman': 164, 'hanguskan': 165, 'lahap': 166, 'pasar': 167, 'restoran': 168, 'mengungsi': 169, 'pengunjung': 170, 'dilanda': 171, 'pasien': 172, 'penyebab': 173, 'periksa': 174, 'gelar': 175, 'kriminal': 176, 'seksual': 177, 'kekerasan': 178, 'pemalsuan': 179, 'perampokan': 180, 'curi': 181, 'mutilasi': 182, 'dibunuh': 183, 'tembak': 184, 'mediasi': 185, 'buron': 186, 'buntut': 187, 'bekasi': 188, 'bechi': 189, 'mental': 190, 'pelayanan': 191, 'kronologi': 192, 'brimob': 193, 'kalsel': 194, 'autopsi': 195, 'tahan': 196, 'asing': 197, 'roy': 198, 'suryo': 199, 'kakak': 200, 'ledakan': 201, 'sumber': 202, 'tekanan': 203, 'arus': 204, 'pendek': 205, 'semburan': 206, 'bensin': 207, 'penanganan': 208, 'tangki': 209, 'jaktim': 210, 'tol': 211, 'dilaporkan': 212, 'suara': 213, 'lantai': 214, 'filipina': 215, 'tangerang': 216, 'karyawan': 217, 'kerugian': 218, 'malang': 219, 'plaza': 220, 'rest': 221, 'cipali': 222, 'dki': 223, 'pemadaman': 224, 'puluhan': 225, 'lebaran': 226, 'isu': 227, 'medan': 228, 'dunia': 229, 'dogiyai': 230, 'kapal': 231, 'depok': 232, 'nenek': 233, 'ditemukan': 234, 'kampus': 235, 'dikubur': 236, 'ulang': 237, 'tanggung': 238, 'juta': 239, 'tni': 240, 'tanah': 241, 'mayat': 242, 'narkoba': 243, 'penganiayaan': 244, 'pidana': 245, 'penembakan': 246, 'pelanggaran': 247, 'penculikan': 248, 'pasutri': 249, 'terekam': 250, 'geng': 251, 'persen': 252, 'corona': 253, 'pandemi': 254, 'sosial': 255, 'masyarakat': 256, 'hasil': 257, 'fokus': 258, 'aniaya': 259, 'bali': 260, 'mantan': 261, 'qris': 262, 'palsu': 263, 'pelajar': 264, 'masuk': 265, 'usut': 266, 'tkw': 267, 'mahasiswa': 268, 'cerita': 269, 'bocah': 270, 'cs': 271, 'angela': 272, 'ayah': 273, 'bareskrim': 274, 'kanjuruhan': 275, 'pekan': 276, 'ambulans': 277, 'lapor': 278, 'alasan': 279, 'purapura': 280, 'rawat': 281, 'titik': 282, 'olah': 283, 'pakai': 284, 'posko': 285, 'bau': 286, 'menyengat': 287, 'update': 288, 'hong': 289, 'kong': 290, 'jam': 291, 'bandung': 292, 'markas': 293, 'sdm': 294, 'perlindungan': 295, 'kpk': 296, 'diperiksa': 297, 'begal': 298, 'intel': 299, 'beberkan': 300, 'medis': 301, 'percikan': 302, 'pembakaran': 303, 'bangunan': 304, 'insiden': 305, 'mudah': 306, 'korek': 307, 'kobaran': 308, 'kios': 309, 'cuaca': 310, 'duren': 311, 'sawit': 312, 'sampah': 313, 'respons': 314, 'truk': 315, 'tahfiz': 316, 'dilahap': 317, 'rusia': 318, 'jakpus': 319, 'sekolah': 320, 'pos': 321, 'dilalap': 322, 'terluka': 323, 'landa': 324, 'limbah': 325, 'makan': 326, 'alami': 327, 'rsud': 328, 'cat': 329, 'miliar': 330, 'pusat': 331, 'meksiko': 332, 'pedagang': 333, 'tegaskan': 334, 'km': 335, 'kampung': 336, 'padat': 337, 'penduduk': 338, 'utara': 339, 'dipadamkan': 340, 'ruko': 341, 'faktafakta': 342, 'spanyol': 343, 'situasi': 344, 'terkini': 345, 'surabaya': 346, 'berasal': 347, 'kesaksian': 348, 'tangga': 349, 'mal': 350, 'beijing': 351, 'padamkan': 352, 'tingkat': 353, 'ayam': 354, 'tabung': 355, 'bupati': 356, 'dilarikan': 357, 'kilang': 358, 'dumai': 359, 'riau': 360, 'meledak': 361, 'cengkareng': 362, 'picu': 363, 'kambing': 364, 'dampak': 365, 'mataram': 366, 'beras': 367, 'induk': 368, 'cipinang': 369, 'setiabudi': 370, 'bantuan': 371, 'laboratorium': 372, 'dilarang': 373, 'gugat': 374, 'identifikasi': 375, 'panglima': 376, 'bantu': 377, 'rehabilitasi': 378, 'staf': 379, 'ribuan': 380, 'pengungsi': 381, 'puing': 382, 'dahsyat': 383, 'penyidikan': 384, 'kasus': 385, 'maling': 386, 'penipu': 387, 'perampok': 388, 'keamanan': 389, 'investigasi': 390, 'identitas': 391, 'penipuan': 392, 'anjing': 393, 'terlibat': 394, 'dibacok': 395, 'marak': 396, 'rawan': 397, 'terhindar': 398, 'langkah': 399, 'antisipasi': 400, 'jelang': 401, 'angka': 402, 'wabah': 403, 'cegah': 404, 'ragam': 405, 'dalami': 406, 'motif': 407, 'minimarket': 408, 'semarang': 409, 'barang': 410, 'pencopetan': 411, 'dokter': 412, 'pemain': 413, 'karaoke': 414, 'beber': 415, 'kotak': 416, 'amal': 417, 'barcode': 418, 'tua': 419, 'cabuli': 420, 'bayi': 421, 'perempuan': 422, 'sleman': 423, 'bank': 424, 'suami': 425, 'berujung': 426, 'diancam': 427, 'bersenjata': 428, 'dimakamkan': 429, 'selokan': 430, 'pekanbaru': 431, 'juragan': 432, 'menangis': 433, 'pulang': 434, 'sd': 435, 'wowon': 436, 'densus': 437, 'ancaman': 438, 'dairi': 439, 'tangan': 440, 'cekcok': 441, 'keji': 442, 'penjambretan': 443, 'dirut': 444, 'dibegal': 445, 'pengakuan': 446, 'bobol': 447, 'terkait': 448, 'laporan': 449, 'tahanan': 450, 'sidang': 451, 'sopir': 452, 'komisi': 453, 'dpr': 454, 'sumut': 455, 'kompolnas': 456, 'bongkar': 457, 'kandung': 458, 'who': 459, 'perawatan': 460, 'risiko': 461, 'tenaga': 462, 'pemicu': 463, 'darah': 464, 'kanker': 465, 'pencegahan': 466, 'lahan': 467, 'detektor': 468, 'kerusakan': 469, 'tanggap': 470, 'bencana': 471, 'protokol': 472, 'pemantauan': 473, 'kondisi': 474, 'pengungsian': 475, 'pascakebakaran': 476, 'publik': 477, 'imbau': 478, 'dirujuk': 479, 'erick': 480, 'thohir': 481, 'pemprov': 482, 'terima': 483, 'penampakan': 484, 'putri': 485, 'pencakar': 486, 'langit': 487, 'koja': 488, 'panik': 489, 'batal': 490, 'lockdown': 491, 'cium': 492, 'pmi': 493, 'pipa': 494, 'abang': 495, 'maros': 496, 'sulsel': 497, 'pesantren': 498, 'icu': 499, 'toko': 500, 'rugi': 501, 'rekam': 502, 'korupsi': 503, 'pemerasan': 504, 'penggelapan': 505, 'undang': 506, 'ditusuk': 507, 'bandar': 508, 'teddy': 509, 'minahasa': 510, 'sabu': 511, 'kabur': 512, 'hukuman': 513, 'mati': 514, 'drama': 515, 'kejam': 516, 'gontor': 517, 'komentari': 518, 'bebas': 519, 'bersyarat': 520, 'etik': 521, 'rampung': 522, 'lie': 523, 'detector': 524, 'bharada': 525, 'e': 526, 'kuasa': 527, 'kaltara': 528, 'meme': 529, 'stupa': 530, 'nikita': 531, 'mirzani': 532, 'aset': 533, 'lpsk': 534, 'ting': 535, 'tega': 536, 'habisi': 537, 'nyawa': 538, 'rkuhp': 539, 'ipar': 540, 'fisik': 541, 'batu': 542, 'inap': 543, 'menular': 544, 'depresi': 545, 'memadamkan': 546, 'bocor': 547, 'kayu': 548, 'panas': 549, 'suhu': 550, 'tinggi': 551, 'demo': 552, 'pohon': 553, 'sesak': 554, 'napas': 555, 'petir': 556, 'meraktangerang': 557, 'jenuh': 558, 'mondok': 559, 'alquran': 560, 'runtuh': 561, 'sydney': 562, 'australia': 563, 'kemhan': 564, 'moskow': 565, 'guyana': 566, 'tertua': 567, 'bersejarah': 568, 'milik': 569, 'kontrakan': 570, 'pintu': 571, 'tambora': 572, 'ganggu': 573, 'penerbangan': 574, 'bandara': 575, 'soetta': 576, 'al': 577, 'quran': 578, 'gegara': 579, 'lapak': 580, 'oli': 581, 'jasunda': 582, 'bsd': 583, 'abepura': 584, 'peracik': 585, 'capai': 586, 'makanan': 587, 'manado': 588, 'migran': 589, 'tewaskan': 590, 'merugi': 591, 'viral': 592, 'hoaks': 593, 'selesai': 594, 'coklat': 595, 'blitar': 596, 'tsm': 597, 'berhasil': 598, 'sentral': 599, 'pilu': 600, 'syahdu': 601, 'takbir': 602, 'lupa': 603, 'madrid': 604, 'nol': 605, 'lukaluka': 606, 'nihil': 607, 'malam': 608, 'takbiran': 609, 'kabel': 610, 'ngebul': 611, 'lg': 612, 'berlarian': 613, 'lansia': 614, 'samudra': 615, 'anugrah': 616, 'china': 617, 'resto': 618, 'geprek': 619, 'tebet': 620, 'penggantian': 621, 'kimia': 622, 'hamburg': 623, 'diperingati': 624, 'beracun': 625, 'danrem': 626, 'pademangan': 627, 'bima': 628, 'arya': 629, 'obatobatan': 630, 'habis': 631, 'kfc': 632, 'sunter': 633, 'feri': 634, 'tikar': 635, 'fasilitas': 636, 'migrasi': 637, 'penampungan': 638, 'hewan': 639, 'ternak': 640, 'kemiri': 641, 'tanker': 642, 'abk': 643, 'dicari': 644, 'ribu': 645, 'hektar': 646, 'logistik': 647, 'sembako': 648, 'stok': 649, 'aman': 650, 'bugis': 651, 'berisi': 652, 'kardus': 653, 'karung': 654, 'dprd': 655, 'ditelusuri': 656, 'kebayoran': 657, 'telungkup': 658, 'toilet': 659, 'gang': 660, 'sempit': 661, 'ngonten': 662, 'medsos': 663, 'unair': 664, 'c': 665, 'paham': 666, 'nestapa': 667, 'tahunnya': 668, 'tuntut': 669, 'ditawari': 670, 'wisata': 671, 'perang': 672, 'direlokasi': 673, 'pelindo': 674, 'kepala': 675, 'tinjau': 676, 'tim': 677, 'gabungan': 678, 'operatorsupervisor': 679, 'kamp': 680, 'rohingya': 681, 'bangladesh': 682, 'resepsi': 683, 'pernikahan': 684, 'realisasi': 685, 'buffer': 686, 'zone': 687, 'pagi': 688, 'buta': 689, 'ntt': 690, 'ancam': 691, 'polsek': 692, 'tubuh': 693, 'jasad': 694, 'penyelidikan': 695, 'tindak': 696, 'pemerkosaan': 697, 'sanksi': 698, 'kecelakaan': 699, 'bom': 700, 'pencemaran': 701, 'forensik': 702, 'skandal': 703, 'penyerangan': 704, 'nabrak': 705, 'razia': 706, 'keselamatan': 707, 'keadaan': 708, 'keadilan': 709, 'patroli': 710, 'jawab': 711, 'pembajakan': 712, 'studi': 713, 'buktikan': 714, 'kepemilikan': 715, 'pemuka': 716, 'agama': 717, 'karyawati': 718, 'pemotor': 719, 'gangster': 720, 'datangi': 721, 'hipnotis': 722, 'transportasi': 723, 'daring': 724, 'satgas': 725, 'investasi': 726, 'pinjol': 727, 'ramadan': 728, 'kriminolog': 729, 'korelasi': 730, 'minuman': 731, 'alkohol': 732, 'ringkus': 733, 'maju': 734, 'mundur': 735, 'penemuan': 736, 'kuburan': 737, 'massal': 738, 'libia': 739, 'new': 740, 'normal': 741, 'napi': 742, 'asimilasi': 743, 'kambuh': 744, 'faktor': 745, 'ekonomi': 746, 'dendam': 747, 'april': 748, 'turun': 749, 'maksimalkan': 750, 'bhabinkantibmas': 751, 'imbas': 752, 'puteri': 753, 'indonesia': 754, 'farhana': 755, 'nariswari': 756, 'perjuangkan': 757, 'gender': 758, 'tema': 759, 'sejarah': 760, 'sedunia': 761, 'cibubur': 762, 'psbb': 763, 'mendominasi': 764, 'doa': 765, 'mengusir': 766, 'setan': 767, 'pameran': 768, 'penjahat': 769, 'diciduk': 770, 'pembakar': 771, 'ditolak': 772, 'kirab': 773, 'timnas': 774, 'diamankan': 775, 'dipanggil': 776, 'pelayan': 777, 'karens': 778, 'dinner': 779, 'wna': 780, 'telur': 781, 'tunai': 782, 'kandas': 783, 'nigeria': 784, 'kelapa': 785, 'gading': 786, 'psm': 787, 'sekuriti': 788, 'racun': 789, 'kerja': 790, 'bintaro': 791, 'istiqlal': 792, 'tiri': 793, 'hamil': 794, 'melahirkan': 795, 'dibunu': 796, 'giring': 797, 'jambret': 798, 'nyanyi': 799, 'happy': 800, 'birthday': 801, 'to': 802, 'you': 803, 'jembatan': 804, 'sentani': 805, 'jayapura': 806, 'smp': 807, 'pacar': 808, 'dapur': 809, 'pegawai': 810, 'mencuri': 811, 'histeris': 812, 'psk': 813, 'dideportasi': 814, 'maraknya': 815, 'perilaku': 816, 'perundungan': 817, 'pemilik': 818, 'delman': 819, 'kudanya': 820, 'digondol': 821, 'lionel': 822, 'messi': 823, 'yusi': 824, 'purawati': 825, 'dicor': 826, 'jpo': 827, 'phinisi': 828, 'pesepeda': 829, 'jaksel': 830, 'pembunuh': 831, 'goreng': 832, 'waspadai': 833, 'terapis': 834, 'jepit': 835, 'pemerintah': 836, 'saudi': 837, 'tppo': 838, 'kpppa': 839, 'potensi': 840, 'siswa': 841, 'mojokerto': 842, 'perkosa': 843, 'tk': 844, 'ui': 845, 'ditabrak': 846, 'damai': 847, 'otak': 848, 'ginjal': 849, 'dilimpahkan': 850, 'jaksa': 851, 'ngadu': 852, 'hilang': 853, 'dituding': 854, 'mangkir': 855, 'kali': 856, 'praperadilan': 857, 'john': 858, 'sondang': 859, 'buntung': 860, 'ecky': 861, 'cek': 862, 'dna': 863, 'pengacara': 864, 'jpu': 865, 'gagal': 866, 'tunjukkan': 867, 'dibebaskan': 868, 'berencana': 869, 'buru': 870, 'net': 871, 'tikam': 872, 'sahabat': 873, 'bayar': 874, 'tuak': 875, 'tebas': 876, 'pergelangan': 877, 'tetangga': 878, 'pangandaran': 879, 'berusia': 880, 'fakta': 881, 'menilik': 882, 'kacamata': 883, 'kriminologi': 884, 'hubungan': 885, 'asmara': 886, 'taspen': 887, 'kamaruddin': 888, 'warteg': 889, 'celurit': 890, 'raib': 891, 'sianida': 892, 'pencuri': 893, 'mesin': 894, 'atm': 895, 'film': 896, 'terbitkan': 897, 'lp': 898, 'jaya': 899, 'aplikasi': 900, 'dalang': 901, 'dituntut': 902, 'bui': 903, 'kecewa': 904, 'divonis': 905, 'penjara': 906, 'daftar': 907, 'dihalangi': 908, 'oknum': 909, 'melapor': 910, 'iii': 911, 'kalideres': 912, 'lakukan': 913, 'lazim': 914, 'pasang': 915, 'spanduk': 916, 'tolak': 917, 'ktt': 918, 'g': 919, 'penyintas': 920, 'mabes': 921, 'tambang': 922, 'kaltim': 923, 'ismail': 924, 'bolong': 925, 'kucing': 926, 'sejenius': 927, 'sherlock': 928, 'holmes': 929, 'cerai': 930, 'brutal': 931, 'rampas': 932, 'as': 933, 'dorong': 934, 'jatuh': 935, 'rel': 936, 'kereta': 937, 'penusukan': 938, 'sensus': 939, 'gaya': 940, 'hidup': 941, 'pertolongan': 942, 'ugd': 943, 'virus': 944, 'sebaran': 945, 'kemenkes': 946, 'infeksi': 947, 'penularan': 948, 'flu': 949, 'gejala': 950, 'tertular': 951, 'obat': 952, 'pengobatan': 953, 'vaksin': 954, 'operasi': 955, 'nyeri': 956, 'lemas': 957, 'psikologis': 958, 'sindrom': 959, 'jantung': 960, 'mengonsumsi': 961, 'diagnosis': 962, 'cedera': 963, 'tebal': 964, 'masih': 965, 'kabut': 966, 'lindung': 967, 'diungsikan': 968, 'migas': 969, 'korslet': 970, 'mall': 971, 'kebakar': 972, 'zona': 973, 'bahaya': 974, 'bahan': 975, 'konsleting': 976, 'pemulihan': 977, 'kewaspadaan': 978, 'kebocoran': 979, 'menjalar': 980, 'penyuluhan': 981, 'deteksi': 982, 'latihan': 983, 'peringatan': 984, 'analisis': 985, 'penyelamatan': 986, 'kelalaian': 987, 'ekstrem': 988, 'relawan': 989, 'peduli': 990, 'trauma': 991, 'healing': 992, 'anakanak': 993, 'kedatangan': 994, 'diserbu': 995, 'alat': 996, 'tertimbun': 997, 'pencarian': 998, 'dilanjutkan': 999, 'minggu': 1000, 'setor': 1001, 'antemortem': 1002, 'jadikan': 1003, 'konten': 1004, 'media': 1005, 'pgn': 1006, 'salurkan': 1007, 'terdampak': 1008, 'kapolri': 1009, 'soroti': 1010, 'maruf': 1011, 'amin': 1012, 'sabar': 1013, 'ditanggung': 1014, 'resah': 1015, 'beroperasi': 1016, 'balita': 1017, 'utamakan': 1018, 'disterilkan': 1019, 'pengamat': 1020, 'pindahkan': 1021, 'solusi': 1022, 'kantong': 1023, 'pasca': 1024, 'luluh': 1025, 'lantak': 1026, 'jaga': 1027, 'pasokan': 1028, 'kisah': 1029, 'selamatkan': 1030, 'usia': 1031, 'maaf': 1032, 'biaya': 1033, 'dibawa': 1034, 'barikade': 1035, 'menyala': 1036, 'pemukiman': 1037, 'suplai': 1038, 'disokong': 1039, 'terminal': 1040, 'pendinginan': 1041, 'ksad': 1042, 'dudung': 1043, 'fadil': 1044, 'imran': 1045, 'terjun': 1046, 'kerabat': 1047, 'dibarikade': 1048, 'merembet': 1049, 'rw': 1050, 'hajat': 1051, 'nikah': 1052, 'anggota': 1053, 'dengar': 1054, 'terpisah': 1055, 'objek': 1056, 'breaking': 1057, 'news': 1058, 'benarkan': 1059, 'penerimaan': 1060, 'berhamburan': 1061, 'melanda': 1062, 'set': 1063, 'top': 1064, 'box': 1065, 'personel': 1066, 'pemkot': 1067, 'pontianak': 1068, 'segel': 1069, 'kkb': 1070, 'tembaki': 1071, 'tnipolri': 1072, 'puncak': 1073, 'pondok': 1074, 'protes': 1075, 'pelantikan': 1076, 'raja': 1077, 'camat': 1078, 'huamual': 1079, 'seram': 1080, 'maluku': 1081, 'dibakar': 1082, 'ditinggal': 1083, 'berjualan': 1084, 'pwri': 1085, 'cilandak': 1086, 'ruang': 1087, 'terdekat': 1088, 'toserba': 1089, 'tokma': 1090, 'tambun': 1091, 'lpg': 1092, 'gandeng': 1093, 'labfor': 1094, 'jatim': 1095, 'enam': 1096, 'ambon': 1097, 'ruangan': 1098, 'nabire': 1099, 'kramat': 1100, 'atap': 1101, 'agung': 1102, 'batam': 1103, 'las': 1104, 'penegakan': 1105, 'jejak': 1106, 'interogasi': 1107, 'pengadilan': 1108, 'anti': 1109, 'narkotika': 1110, 'penyelundupan': 1111, 'pengeroyokan': 1112, 'terorisme': 1113, 'cyber': 1114, 'peretasan': 1115, 'dalam': 1116, 'perjudian': 1117, 'penyiksaan': 1118, 'pengedar': 1119, 'preman': 1120, 'narapidana': 1121, 'bandit': 1122, 'penyusup': 1123, 'pengamanan': 1124, 'hak': 1125, 'asasi': 1126, 'manusia': 1127, 'pencucian': 1128, 'perampasan': 1129, 'kendaraan': 1130, 'pengerusakan': 1131, 'rusuh': 1132, 'tawuran': 1133, 'bullying': 1134, 'intimidasi': 1135, 'penghinaan': 1136, 'penindasan': 1137, 'pengancaman': 1138, 'cimahi': 1139, 'mengaji': 1140, 'tawas': 1141, 'ala': 1142, 'ganti': 1143, 'keluhan': 1144, 'represif': 1145, 'hedon': 1146, 'nilai': 1147, 'kepercayaan': 1148, 'runyam': 1149, 'kamboja': 1150, 'apin': 1151, 'bk': 1152, 'berbaju': 1153, 'soekarno': 1154, 'hatta': 1155, 'kilogram': 1156, 'septic': 1157, 'tank': 1158, 'serang': 1159, 'busur': 1160, 'panah': 1161, 'kontroversi': 1162, 'lukas': 1163, 'enembe': 1164, 'jutadidatangi': 1165, 'utusan': 1166, 'hasnaeni': 1167, 'menjerit': 1168, 'bacok': 1169, 'pimpinan': 1170, 'ogah': 1171, 'kematian': 1172, 'jubir': 1173, 'khusus': 1174, 'kasih': 1175, 'bripka': 1176, 'rr': 1177, 'pulangkan': 1178, 'terduga': 1179, 'asusila': 1180, 'uji': 1181, 'kebohongan': 1182, 'persidangan': 1183, 'hotman': 1184, 'paris': 1185, 'razman': 1186, 'cakarcakaran': 1187, 'dijadwalkan': 1188, 'september': 1189, 'palembang': 1190, 'vikaris': 1191, 'kupang': 1192, 'alor': 1193, 'pinangki': 1194, 'kewenangan': 1195, 'kemenkumham': 1196, 'kombes': 1197, 'agus': 1198, 'nurpatria': 1199, 'kanit': 1200, 'provos': 1201, 'kedinasan': 1202, 'pss': 1203, 'dirampok': 1204, 'art': 1205, 'bertanding': 1206, 'temukan': 1207, 'vital': 1208, 'gambarkan': 1209, 'ott': 1210, 'rektor': 1211, 'negeri': 1212, 'terancam': 1213, 'dramatis': 1214, 'ditempatkan': 1215, 'mako': 1216, 'hadapi': 1217, 'langsung': 1218, 'moeldoko': 1219, 'ditangani': 1220, 'aparat': 1221, 'imigrasi': 1222, 'i': 1223, 'pantau': 1224, 'pengusutan': 1225, 'kejari': 1226, 'asn': 1227, 'plts': 1228, 'kutai': 1229, 'timur': 1230, 'tetapkan': 1231, 'teroris': 1232, 'pendukung': 1233, 'ji': 1234, 'jad': 1235, 'aceh': 1236, 'ditahan': 1237, 'kompak': 1238, 'prarekonstruksi': 1239, 'komnas': 1240, 'ham': 1241, 'penggerebekan': 1242, 'berdarah': 1243, 'brasil': 1244, 'gratifikasi': 1245, 'lili': 1246, 'pintauli': 1247, 'diusulkan': 1248, 'diusut': 1249, 'penegak': 1250, 'pemeriksaan': 1251, 'eks': 1252, 'presiden': 1253, 'act': 1254, 'dicecar': 1255, 'teknis': 1256, 'pembelian': 1257, 'pelukan': 1258, 'temuan': 1259, 'konstruksi': 1260, 'pastikan': 1261, 'libatkan': 1262, 'eksternal': 1263, 'resmi': 1264, 'permohonan': 1265, 'yasonna': 1266, 'wantiwanti': 1267, 'rizieq': 1268, 'shihab': 1269, 'taati': 1270, 'jalan': 1271, 'paman': 1272, 'mardani': 1273, 'maming': 1274, 'hemat': 1275, 'bicara': 1276, 'pertemuan': 1277, 'sambokapolda': 1278, 'diklaim': 1279, 'pengaruhi': 1280, 'spekulasi': 1281, 'biar': 1282, 'ahli': 1283, 'permintaan': 1284, 'karo': 1285, 'paminal': 1286, 'propam': 1287, 'status': 1288, 'ditentukan': 1289, 'garagara': 1290, 'kebun': 1291, 'adik': 1292, 'ditembak': 1293, 'arahan': 1294, 'halangi': 1295, 'msat': 1296, 'muhammadiyah': 1297, 'melebar': 1298, 'mata': 1299, 'peran': 1300, 'simpatisan': 1301, 'hambat': 1302, 'tenggak': 1303, 'miras': 1304, 'oplosan': 1305, 'ayu': 1306, 'mengenal': 1307, 'babarsari': 1308, 'daerah': 1309, 'yogya': 1310, 'gotham': 1311, 'emosi': 1312, 'dilecehkan': 1313, 'hati': 1314, 'dipinjami': 1315, 'tercinta': 1316, 'kesal': 1317, 'berhenti': 1318, 'bayinya': 1319, 'disiram': 1320, 'air': 1321, 'keras': 1322, 'satpam': 1323, 'juru': 1324, 'parkir': 1325, 'gagalkan': 1326, 'ylbhi': 1327, 'kritik': 1328, 'pasal': 1329, 'zina': 1330, 'berpotensi': 1331, 'perkawinan': 1332, 'kejagung': 1333, 'limpahkan': 1334, 'berkas': 1335, 'perkara': 1336, 'ekspor': 1337, 'cpo': 1338, 'siswi': 1339, 'madrasah': 1340, 'aliyah': 1341, 'diperkosa': 1342, 'dituduh': 1343, 'benny': 1344, 'harman': 1345, 'incar': 1346, 'harta': 1347, 'kabupaten': 1348, 'kokain': 1349, 'kg': 1350, 'selat': 1351, 'sunda': 1352, 'dimusnahkan': 1353, 'icjr': 1354, 'harap': 1355, 'pelecehan': 1356, 'sesuai': 1357, 'uu': 1358, 'tpks': 1359, 'perwira': 1360, 'mertua': 1361, 'calon': 1362, 'ditegur': 1363, 'merokok': 1364, 'ekor': 1365, 'burung': 1366, 'park': 1367, 'and': 1368, 'zoo': 1369, 'dicuri': 1370, 'sekjen': 1371, 'pan': 1372, 'peluang': 1373, 'ade': 1374, 'armando': 1375, 'geruduk': 1376, 'arisan': 1377, 'bodong': 1378, 'ngaku': 1379, 'm': 1380, 'seng': 1381, 'usir': 1382, 'jin': 1383, 'ketua': 1384, 'yayasan': 1385, 'banyuwangi': 1386, 'asuh': 1387, 'perampas': 1388, 'tas': 1389, 'dihakimi': 1390, 'rampok': 1391, 'hp': 1392, 'teror': 1393, 'pelemparan': 1394, 'kawanan': 1395, 'bajing': 1396, 'loncat': 1397, 'cinta': 1398, 'segitiga': 1399, 'duka': 1400, 'kulon': 1401, 'progo': 1402, 'sampang': 1403, 'isi': 1404, 'yogyakarta': 1405, 'curanmor': 1406, 'pemulung': 1407, 'klinik': 1408, 'emergency': 1409, 'room': 1410, 'radiologi': 1411, 'bedah': 1412, 'imunisasi': 1413, 'gangguan': 1414, 'terapi': 1415, 'obesitas': 1416, 'stroke': 1417, 'alergi': 1418, 'distancing': 1419, 'masker': 1420, 'cuci': 1421, 'karantina': 1422, 'imunitas': 1423, 'antibiotik': 1424, 'antibodi': 1425, 'global': 1426, 'stres': 1427, 'kecemasan': 1428, 'farmasi': 1429, 'apoteker': 1430, 'bpjs': 1431, 'biomedis': 1432, 'gawat': 1433, 'diagnosa': 1434, 'gizi': 1435, 'kronis': 1436, 'asuransi': 1437, 'perawat': 1438}\n"
          ]
        }
      ],
      "source": [
        "# Tokenize\n",
        "trunc_type='post'\n",
        "padding_type='post'\n",
        "tokenizer = Tokenizer()\n",
        "\n",
        "def preprocess_text(train_data, val_data):\n",
        "  all_keywords = train_data + val_data\n",
        "  tokenizer.fit_on_texts(all_keywords)\n",
        "\n",
        "  # generate sequences\n",
        "  training_sequences = tokenizer.texts_to_sequences(train_data)\n",
        "  validation_sequences = tokenizer.texts_to_sequences(val_data)\n",
        "\n",
        "  word_index = tokenizer.word_index\n",
        "  print(word_index)\n",
        "  max_sequence_length = max(len(seq) for seq in training_sequences + validation_sequences)\n",
        "\n",
        "  # generate pad\n",
        "  padded_train_sequences = pad_sequences(training_sequences, maxlen=max_sequence_length )\n",
        "  padded_val_sequences = pad_sequences(validation_sequences, maxlen=max_sequence_length)\n",
        "  return padded_train_sequences, padded_val_sequences, word_index, max_sequence_length\n",
        "\n",
        "label_mapping = {'kebakaran': 0, 'polisi': 1, 'rumah sakit': 2}\n",
        "num_classes = len(label_mapping)\n",
        "\n",
        "X_train, X_validation, word_index, max_sequence_length = preprocess_text(keywords, validation_keywords)\n",
        "\n",
        "y_train = tf.keras.utils.to_categorical([label_mapping[label] for label in themes[:len(X_train)]], num_classes=num_classes)\n",
        "y_validation = tf.keras.utils.to_categorical([label_mapping[label] for label in validation_themes[:len(X_validation)]], num_classes=num_classes)"
      ]
    },
    {
      "cell_type": "code",
      "execution_count": null,
      "metadata": {
        "id": "3BUfdbx3tky1"
      },
      "outputs": [],
      "source": [
        "model = tf.keras.Sequential([\n",
        "    tf.keras.layers.Embedding(len(word_index)+1,  100, input_length=max_sequence_length),\n",
        "    tf.keras.layers.Bidirectional(tf.keras.layers.LSTM(256, return_sequences=True)),\n",
        "    tf.keras.layers.Dropout(0.5),\n",
        "    tf.keras.layers.LSTM(128),\n",
        "    tf.keras.layers.Dropout(0.2),\n",
        "    tf.keras.layers.Dense(num_classes, activation='softmax')\n",
        "])"
      ]
    },
    {
      "cell_type": "code",
      "execution_count": null,
      "metadata": {
        "id": "H3lkwyjhtdKp"
      },
      "outputs": [],
      "source": [
        "initial_learning_rate = 0.001\n",
        "lr_schedule = tf.keras.optimizers.schedules.ExponentialDecay(\n",
        "    initial_learning_rate, decay_steps=1000, decay_rate=0.95, staircase=True\n",
        ")\n",
        "optimizer = tf.keras.optimizers.Adam(learning_rate=lr_schedule)\n",
        "model.compile(optimizer=optimizer, loss='categorical_crossentropy', metrics=['accuracy'])"
      ]
    },
    {
      "cell_type": "code",
      "execution_count": null,
      "metadata": {
        "colab": {
          "base_uri": "https://localhost:8080/"
        },
        "id": "2zlMr5z3jKVl",
        "outputId": "e5234bd6-3c49-4d13-bd52-df3d6f18b803"
      },
      "outputs": [
        {
          "output_type": "stream",
          "name": "stdout",
          "text": [
            "Epoch 1/10\n",
            "136/136 [==============================] - 18s 82ms/step - loss: 0.8094 - accuracy: 0.5831 - val_loss: 0.5605 - val_accuracy: 0.7664\n",
            "Epoch 2/10\n",
            "136/136 [==============================] - 9s 69ms/step - loss: 0.4368 - accuracy: 0.8394 - val_loss: 0.5468 - val_accuracy: 0.7691\n",
            "Epoch 3/10\n",
            "136/136 [==============================] - 9s 65ms/step - loss: 0.3020 - accuracy: 0.9000 - val_loss: 0.5511 - val_accuracy: 0.7816\n",
            "Epoch 4/10\n",
            "136/136 [==============================] - 9s 63ms/step - loss: 0.2383 - accuracy: 0.9186 - val_loss: 0.6104 - val_accuracy: 0.7794\n",
            "Epoch 5/10\n",
            "136/136 [==============================] - 10s 71ms/step - loss: 0.2106 - accuracy: 0.9186 - val_loss: 0.5766 - val_accuracy: 0.7695\n",
            "Epoch 6/10\n",
            "136/136 [==============================] - 12s 91ms/step - loss: 0.1939 - accuracy: 0.9167 - val_loss: 0.5905 - val_accuracy: 0.7691\n",
            "Epoch 7/10\n",
            "136/136 [==============================] - 8s 60ms/step - loss: 0.1906 - accuracy: 0.9135 - val_loss: 0.5991 - val_accuracy: 0.7883\n",
            "Epoch 8/10\n",
            "136/136 [==============================] - 10s 71ms/step - loss: 0.1869 - accuracy: 0.9199 - val_loss: 0.5925 - val_accuracy: 0.7887\n",
            "Epoch 9/10\n",
            "136/136 [==============================] - 9s 66ms/step - loss: 0.1804 - accuracy: 0.9209 - val_loss: 0.6304 - val_accuracy: 0.7959\n",
            "Epoch 10/10\n",
            "136/136 [==============================] - 9s 62ms/step - loss: 0.1744 - accuracy: 0.9292 - val_loss: 0.6373 - val_accuracy: 0.7874\n"
          ]
        }
      ],
      "source": [
        "history = model.fit(X_train, y_train, epochs=10, batch_size=16, validation_data=(X_validation, y_validation))"
      ]
    },
    {
      "cell_type": "code",
      "execution_count": null,
      "metadata": {
        "colab": {
          "base_uri": "https://localhost:8080/"
        },
        "id": "BG05_O3FOmbu",
        "outputId": "512e8aa4-d081-4052-f63f-a869bd471eea"
      },
      "outputs": [
        {
          "output_type": "stream",
          "name": "stdout",
          "text": [
            "Model: \"sequential\"\n",
            "_________________________________________________________________\n",
            " Layer (type)                Output Shape              Param #   \n",
            "=================================================================\n",
            " embedding (Embedding)       (None, 4, 100)            143900    \n",
            "                                                                 \n",
            " bidirectional (Bidirectiona  (None, 4, 512)           731136    \n",
            " l)                                                              \n",
            "                                                                 \n",
            " dropout (Dropout)           (None, 4, 512)            0         \n",
            "                                                                 \n",
            " lstm_1 (LSTM)               (None, 128)               328192    \n",
            "                                                                 \n",
            " dropout_1 (Dropout)         (None, 128)               0         \n",
            "                                                                 \n",
            " dense (Dense)               (None, 3)                 387       \n",
            "                                                                 \n",
            "=================================================================\n",
            "Total params: 1,203,615\n",
            "Trainable params: 1,203,615\n",
            "Non-trainable params: 0\n",
            "_________________________________________________________________\n"
          ]
        }
      ],
      "source": [
        "model.summary()"
      ]
    },
    {
      "cell_type": "code",
      "execution_count": null,
      "metadata": {
        "colab": {
          "base_uri": "https://localhost:8080/",
          "height": 449
        },
        "id": "lWXgFaA_lvKo",
        "outputId": "28f8f3a8-0269-437a-a21c-42ba663fad97"
      },
      "outputs": [
        {
          "output_type": "display_data",
          "data": {
            "text/plain": [
              "<Figure size 640x480 with 1 Axes>"
            ],
            "image/png": "[encoded data removed]"
          },
          "metadata": {}
        }
      ],
      "source": [
        "def plot_graphs(history, metric):\n",
        "  plt.plot(history.history[metric])\n",
        "  plt.xlabel(\"Epochs\")\n",
        "  plt.ylabel(metric)\n",
        "  plt.show\n",
        "\n",
        "plot_graphs(history, \"accuracy\")\n",
        "plot_graphs(history, \"val_accuracy\")"
      ]
    },
    {
      "cell_type": "code",
      "execution_count": null,
      "metadata": {
        "colab": {
          "base_uri": "https://localhost:8080/",
          "height": 449
        },
        "id": "TcGLvQzkmkEo",
        "outputId": "6144b503-52c2-4be7-fe95-b806657c1dd3"
      },
      "outputs": [
        {
          "output_type": "display_data",
          "data": {
            "text/plain": [
              "<Figure size 640x480 with 1 Axes>"
            ],
            "image/png": "[encoded data removed]"
          },
          "metadata": {}
        }
      ],
      "source": [
        "plot_graphs(history, \"loss\")"
      ]
    },
    {
      "cell_type": "markdown",
      "metadata": {
        "id": "FitMHZ_Qnu7P"
      },
      "source": [
        "# Model Evaluation"
      ]
    },
    {
      "cell_type": "markdown",
      "metadata": {
        "id": "iKzrcmZLT9O2"
      },
      "source": [
        "## Load Title Articles"
      ]
    },
    {
      "cell_type": "code",
      "source": [
        "data_test = pd.read_csv(\"/content/drive/MyDrive/capstone/data testing/data test.csv\")"
      ],
      "metadata": {
        "id": "Eot9ZovJWJ1i"
      },
      "execution_count": null,
      "outputs": []
    },
    {
      "cell_type": "code",
      "execution_count": null,
      "metadata": {
        "colab": {
          "base_uri": "https://localhost:8080/",
          "height": 423
        },
        "id": "-XQrwHJma73j",
        "outputId": "7fee167a-bdab-45b3-dfa4-717476a9a1e2"
      },
      "outputs": [
        {
          "output_type": "execute_result",
          "data": {
            "text/plain": [
              "                                          Judul Berita       themes\n",
              "0    Beri Waktu Sebulan, Korban Minta Dirut Pertami...    kebakaran\n",
              "1    Urusan yang Belum Selesai dari Kebakaran Depo ...    kebakaran\n",
              "2    Saat Warga Bahu-membahu Padamkan Kebakaran Kab...    kebakaran\n",
              "3    Kabel Optik di Jatinegara Terbakar, Warga: Seb...    kebakaran\n",
              "4    Kebakaran Landa Pasar Caringin Bandung, Satu O...    kebakaran\n",
              "..                                                 ...          ...\n",
              "355  Demi Kesehatan Mental, Apple Rilis Deretan Fit...  rumah sakit\n",
              "356  7 Gaya Hidup Baik demi Terbebas dari Penyakit ...  rumah sakit\n",
              "357  Jenis-jenis Vitamin yang Larut dalam Air dan C...  rumah sakit\n",
              "358  Asap Kebakaran Hutan Kanada Picu Peringatan Ke...  rumah sakit\n",
              "359  Indentifikasi Bahaya dalam K3 (Keselamatan dan...  rumah sakit\n",
              "\n",
              "[360 rows x 2 columns]"
            ],
            "text/html": [
              "\n",
              "  <div id=\"df-7eb0904e-8b30-472b-bd23-cf6f942a5efb\">\n",
              "    <div class=\"colab-df-container\">\n",
              "      <div>\n",
              "<style scoped>\n",
              "    .dataframe tbody tr th:only-of-type {\n",
              "        vertical-align: middle;\n",
              "    }\n",
              "\n",
              "    .dataframe tbody tr th {\n",
              "        vertical-align: top;\n",
              "    }\n",
              "\n",
              "    .dataframe thead th {\n",
              "        text-align: right;\n",
              "    }\n",
              "</style>\n",
              "<table border=\"1\" class=\"dataframe\">\n",
              "  <thead>\n",
              "    <tr style=\"text-align: right;\">\n",
              "      <th></th>\n",
              "      <th>Judul Berita</th>\n",
              "      <th>themes</th>\n",
              "    </tr>\n",
              "  </thead>\n",
              "  <tbody>\n",
              "    <tr>\n",
              "      <th>0</th>\n",
              "      <td>Beri Waktu Sebulan, Korban Minta Dirut Pertami...</td>\n",
              "      <td>kebakaran</td>\n",
              "    </tr>\n",
              "    <tr>\n",
              "      <th>1</th>\n",
              "      <td>Urusan yang Belum Selesai dari Kebakaran Depo ...</td>\n",
              "      <td>kebakaran</td>\n",
              "    </tr>\n",
              "    <tr>\n",
              "      <th>2</th>\n",
              "      <td>Saat Warga Bahu-membahu Padamkan Kebakaran Kab...</td>\n",
              "      <td>kebakaran</td>\n",
              "    </tr>\n",
              "    <tr>\n",
              "      <th>3</th>\n",
              "      <td>Kabel Optik di Jatinegara Terbakar, Warga: Seb...</td>\n",
              "      <td>kebakaran</td>\n",
              "    </tr>\n",
              "    <tr>\n",
              "      <th>4</th>\n",
              "      <td>Kebakaran Landa Pasar Caringin Bandung, Satu O...</td>\n",
              "      <td>kebakaran</td>\n",
              "    </tr>\n",
              "    <tr>\n",
              "      <th>...</th>\n",
              "      <td>...</td>\n",
              "      <td>...</td>\n",
              "    </tr>\n",
              "    <tr>\n",
              "      <th>355</th>\n",
              "      <td>Demi Kesehatan Mental, Apple Rilis Deretan Fit...</td>\n",
              "      <td>rumah sakit</td>\n",
              "    </tr>\n",
              "    <tr>\n",
              "      <th>356</th>\n",
              "      <td>7 Gaya Hidup Baik demi Terbebas dari Penyakit ...</td>\n",
              "      <td>rumah sakit</td>\n",
              "    </tr>\n",
              "    <tr>\n",
              "      <th>357</th>\n",
              "      <td>Jenis-jenis Vitamin yang Larut dalam Air dan C...</td>\n",
              "      <td>rumah sakit</td>\n",
              "    </tr>\n",
              "    <tr>\n",
              "      <th>358</th>\n",
              "      <td>Asap Kebakaran Hutan Kanada Picu Peringatan Ke...</td>\n",
              "      <td>rumah sakit</td>\n",
              "    </tr>\n",
              "    <tr>\n",
              "      <th>359</th>\n",
              "      <td>Indentifikasi Bahaya dalam K3 (Keselamatan dan...</td>\n",
              "      <td>rumah sakit</td>\n",
              "    </tr>\n",
              "  </tbody>\n",
              "</table>\n",
              "<p>360 rows × 2 columns</p>\n",
              "</div>\n",
              "      <button class=\"colab-df-convert\" onclick=\"convertToInteractive('df-7eb0904e-8b30-472b-bd23-cf6f942a5efb')\"\n",
              "              title=\"Convert this dataframe to an interactive table.\"\n",
              "              style=\"display:none;\">\n",
              "        \n",
              "  <svg xmlns=\"http://www.w3.org/2000/svg\" height=\"24px\"viewBox=\"0 0 24 24\"\n",
              "       width=\"24px\">\n",
              "    <path d=\"M0 0h24v24H0V0z\" fill=\"none\"/>\n",
              "    <path d=\"M18.56 5.44l.94 2.06.94-2.06 2.06-.94-2.06-.94-.94-2.06-.94 2.06-2.06.94zm-11 1L8.5 8.5l.94-2.06 2.06-.94-2.06-.94L8.5 2.5l-.94 2.06-2.06.94zm10 10l.94 2.06.94-2.06 2.06-.94-2.06-.94-.94-2.06-.94 2.06-2.06.94z\"/><path d=\"M17.41 7.96l-1.37-1.37c-.4-.4-.92-.59-1.43-.59-.52 0-1.04.2-1.43.59L10.3 9.45l-7.72 7.72c-.78.78-.78 2.05 0 2.83L4 21.41c.39.39.9.59 1.41.59.51 0 1.02-.2 1.41-.59l7.78-7.78 2.81-2.81c.8-.78.8-2.07 0-2.86zM5.41 20L4 18.59l7.72-7.72 1.47 1.35L5.41 20z\"/>\n",
              "  </svg>\n",
              "      </button>\n",
              "      \n",
              "  <style>\n",
              "    .colab-df-container {\n",
              "      display:flex;\n",
              "      flex-wrap:wrap;\n",
              "      gap: 12px;\n",
              "    }\n",
              "\n",
              "    .colab-df-convert {\n",
              "      background-color: #E8F0FE;\n",
              "      border: none;\n",
              "      border-radius: 50%;\n",
              "      cursor: pointer;\n",
              "      display: none;\n",
              "      fill: #1967D2;\n",
              "      height: 32px;\n",
              "      padding: 0 0 0 0;\n",
              "      width: 32px;\n",
              "    }\n",
              "\n",
              "    .colab-df-convert:hover {\n",
              "      background-color: #E2EBFA;\n",
              "      box-shadow: 0px 1px 2px rgba(60, 64, 67, 0.3), 0px 1px 3px 1px rgba(60, 64, 67, 0.15);\n",
              "      fill: #174EA6;\n",
              "    }\n",
              "\n",
              "    [theme=dark] .colab-df-convert {\n",
              "      background-color: #3B4455;\n",
              "      fill: #D2E3FC;\n",
              "    }\n",
              "\n",
              "    [theme=dark] .colab-df-convert:hover {\n",
              "      background-color: #434B5C;\n",
              "      box-shadow: 0px 1px 3px 1px rgba(0, 0, 0, 0.15);\n",
              "      filter: drop-shadow(0px 1px 2px rgba(0, 0, 0, 0.3));\n",
              "      fill: #FFFFFF;\n",
              "    }\n",
              "  </style>\n",
              "\n",
              "      <script>\n",
              "        const buttonEl =\n",
              "          document.querySelector('#df-7eb0904e-8b30-472b-bd23-cf6f942a5efb button.colab-df-convert');\n",
              "        buttonEl.style.display =\n",
              "          google.colab.kernel.accessAllowed ? 'block' : 'none';\n",
              "\n",
              "        async function convertToInteractive(key) {\n",
              "          const element = document.querySelector('#df-7eb0904e-8b30-472b-bd23-cf6f942a5efb');\n",
              "          const dataTable =\n",
              "            await google.colab.kernel.invokeFunction('convertToInteractive',\n",
              "                                                     [key], {});\n",
              "          if (!dataTable) return;\n",
              "\n",
              "          const docLinkHtml = 'Like what you see? Visit the ' +\n",
              "            '<a target=\"_blank\" href=https://colab.research.google.com/notebooks/data_table.ipynb>data table notebook</a>'\n",
              "            + ' to learn more about interactive tables.';\n",
              "          element.innerHTML = '';\n",
              "          dataTable['output_type'] = 'display_data';\n",
              "          await google.colab.output.renderOutput(dataTable, element);\n",
              "          const docLink = document.createElement('div');\n",
              "          docLink.innerHTML = docLinkHtml;\n",
              "          element.appendChild(docLink);\n",
              "        }\n",
              "      </script>\n",
              "    </div>\n",
              "  </div>\n",
              "  "
            ]
          },
          "metadata": {},
          "execution_count": 29
        }
      ],
      "source": [
        "data_test"
      ]
    },
    {
      "cell_type": "markdown",
      "metadata": {
        "id": "L1Gytl7H1eNq"
      },
      "source": [
        "## Pre-process titles"
      ]
    },
    {
      "cell_type": "code",
      "execution_count": null,
      "metadata": {
        "id": "3MC4Zej9x0vp"
      },
      "outputs": [],
      "source": [
        "def clean_titles(titles):\n",
        "    clean = []\n",
        "    stopwords_id = stopwords.words('indonesian')\n",
        "\n",
        "    for title in titles:\n",
        "        title = title.lower()\n",
        "        title = re.sub(r'\\d+', '', title)\n",
        "        title = re.sub(r'[^\\w\\s]', '', title)\n",
        "\n",
        "        words = title.split()\n",
        "        clean_words = [word for word in words if word not in stopwords_id]\n",
        "        clean_words = ' '.join(clean_words)\n",
        "        clean.append(clean_words)\n",
        "        cleaned_titles = ' '.join([str(word) for word in clean])\n",
        "\n",
        "    return cleaned_titles"
      ]
    },
    {
      "cell_type": "markdown",
      "metadata": {
        "id": "s5q6-_WV1TwL"
      },
      "source": [
        "## Test titles"
      ]
    },
    {
      "cell_type": "code",
      "execution_count": null,
      "metadata": {
        "colab": {
          "base_uri": "https://localhost:8080/"
        },
        "id": "QFj6Vmj-1nuy",
        "outputId": "e7e8862c-181a-4906-a441-765761d6043c"
      },
      "outputs": [
        {
          "output_type": "stream",
          "name": "stdout",
          "text": [
            "['Peran Kunci Laser dalam Industri Kesehatan', 'Asap Kebakaran Hutan Kanada Picu Peringatan Kesehatan di New York dan Ottawa', '8 Manfaat Kafein untuk Kesehatan yang Potensial', 'Minta Erick Thohir Selesaikan Masalah Kebakaran Depo Plumpang, Warga Tanah Merah Pengin Nonton Indonesia Vs Argentina', 'Antisipasi Serangan Siber, APPI: Perusahaan Wajib Perkuat Sistem Keamanan Digital', 'Minta Erick Thohir Selesaikan Masalah Kebakaran Depo Plumpang, Warga Tanah Merah Pengin Nonton Indonesia Vs Argentina', 'Asap Kebakaran Hutan Kanada Picu Peringatan Kesehatan di New York dan Ottawa', 'Tanda Gigitan Nyamuk yang Bawa Masalah bagi Kesehatan', 'Isak Tangis Korban Kebakaran Depo Pertamina Plumpang Ceritakan 5 Anggota Keluarga yang Terbakar Hidup-hidup', '3 Bulan Tragedi Berlalu, Pemerintah Belum Tuntaskan Masalah Kebakaran Depo Pertamina Plumpang']\n",
            "kebakaran      6\n",
            "rumah sakit    3\n",
            "polisi         1\n",
            "Name: Judul Berita, dtype: int64\n"
          ]
        }
      ],
      "source": [
        "sample = data_test['Judul Berita'].sample(10)\n",
        "print(list(sample))\n",
        "label_counts = sample.apply(lambda x: data_test.loc[data_test['Judul Berita'] == x, 'themes'].iloc[0]).value_counts()\n",
        "print(label_counts)"
      ]
    },
    {
      "cell_type": "code",
      "execution_count": null,
      "metadata": {
        "id": "6scQW3p2ipHi"
      },
      "outputs": [],
      "source": [
        "testing = clean_titles(sample)"
      ]
    },
    {
      "cell_type": "code",
      "source": [
        "print(testing)"
      ],
      "metadata": {
        "colab": {
          "base_uri": "https://localhost:8080/"
        },
        "id": "uzn_OjajkzqM",
        "outputId": "2708af8f-6083-4836-b1ac-13d365e7ab3b"
      },
      "execution_count": null,
      "outputs": [
        {
          "output_type": "stream",
          "name": "stdout",
          "text": [
            "peran kunci laser industri kesehatan asap kebakaran hutan kanada picu peringatan kesehatan new york ottawa manfaat kafein kesehatan potensial erick thohir selesaikan kebakaran depo plumpang warga tanah merah pengin nonton indonesia vs argentina antisipasi serangan siber appi perusahaan wajib perkuat sistem keamanan digital erick thohir selesaikan kebakaran depo plumpang warga tanah merah pengin nonton indonesia vs argentina asap kebakaran hutan kanada picu peringatan kesehatan new york ottawa tanda gigitan nyamuk bawa kesehatan isak tangis korban kebakaran depo pertamina plumpang ceritakan anggota keluarga terbakar hiduphidup tragedi pemerintah tuntaskan kebakaran depo pertamina plumpang\n"
          ]
        }
      ]
    },
    {
      "cell_type": "code",
      "execution_count": null,
      "metadata": {
        "colab": {
          "base_uri": "https://localhost:8080/"
        },
        "id": "byNtGBC1lEAY",
        "outputId": "be92d632-5f6d-45a6-ead1-6ad71c540951"
      },
      "outputs": [
        {
          "output_type": "stream",
          "name": "stdout",
          "text": [
            "1/1 [==============================] - 0s 45ms/step\n",
            "Rekomendasi: kebakaran\n"
          ]
        }
      ],
      "source": [
        "test_sequence = tokenizer.texts_to_sequences([testing])\n",
        "padded_test_sequence = pad_sequences(test_sequence, maxlen=max_sequence_length)\n",
        "prediction = model.predict(padded_test_sequence)[0]\n",
        "\n",
        "recommended_hobby_index = tf.argmax(prediction).numpy()\n",
        "recommended_hobby = [label for label, index in label_mapping.items() if index == recommended_hobby_index][0]\n",
        "\n",
        "print(\"Rekomendasi: \" + recommended_hobby)"
      ]
    },
    {
      "cell_type": "markdown",
      "metadata": {
        "id": "ZfNvscNs-n7c"
      },
      "source": [
        "# Convert Model"
      ]
    },
    {
      "cell_type": "markdown",
      "metadata": {
        "id": "BVRagAU-NdLz"
      },
      "source": [
        "## Saved to h5 format"
      ]
    },
    {
      "cell_type": "code",
      "execution_count": null,
      "metadata": {
        "id": "uCFrE3mI6C1U"
      },
      "outputs": [],
      "source": [
        "export_dir = '/content/drive/MyDrive/capstone/model_v2/'\n",
        "model.save(\"my_h5_model_v2.h5\")\n",
        "reconstructed_model = tf.keras.models.load_model(\"my_h5_model_v2.h5\")\n",
        "tf.saved_model.save(model, export_dir)"
      ]
    }
  ],
  "metadata": {
    "colab": {
      "provenance": [],
      "toc_visible": true
    },
    "kernelspec": {
      "display_name": "Python 3",
      "name": "python3"
    },
    "language_info": {
      "name": "python"
    }
  },
  "nbformat": 4,
  "nbformat_minor": 0
}