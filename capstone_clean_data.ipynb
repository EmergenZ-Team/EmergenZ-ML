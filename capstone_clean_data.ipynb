{
  "nbformat": 4,
  "nbformat_minor": 0,
  "metadata": {
    "colab": {
      "provenance": []
    },
    "kernelspec": {
      "name": "python3",
      "display_name": "Python 3"
    },
    "language_info": {
      "name": "python"
    }
  },
  "cells": [
    {
      "cell_type": "markdown",
      "source": [
        "# Load datasets"
      ],
      "metadata": {
        "id": "QCgo_FzpaqeH"
      }
    },
    {
      "cell_type": "markdown",
      "source": [
        "## Library"
      ],
      "metadata": {
        "id": "3UadfD_PtErd"
      }
    },
    {
      "cell_type": "code",
      "source": [
        "import json\n",
        "import re\n",
        "import pandas as pd\n",
        "import matplotlib.pyplot as plt\n",
        "import nltk\n",
        "from nltk.corpus import stopwords\n",
        "nltk.download('punkt') \n",
        "nltk.download('stopwords')\n",
        "import tensorflow as tf\n",
        "from tensorflow.keras.preprocessing.text import Tokenizer\n",
        "from tensorflow.keras.preprocessing.sequence import pad_sequences\n",
        "\n",
        "print(tf.__version__)"
      ],
      "metadata": {
        "id": "zU0Joj-ocIaN",
        "colab": {
          "base_uri": "https://localhost:8080/"
        },
        "outputId": "217dbab6-b08c-451c-c40d-61c51fd756c2"
      },
      "execution_count": 181,
      "outputs": [
        {
          "output_type": "stream",
          "name": "stdout",
          "text": [
            "2.12.0\n"
          ]
        },
        {
          "output_type": "stream",
          "name": "stderr",
          "text": [
            "[nltk_data] Downloading package punkt to /root/nltk_data...\n",
            "[nltk_data]   Package punkt is already up-to-date!\n",
            "[nltk_data] Downloading package stopwords to /root/nltk_data...\n",
            "[nltk_data]   Package stopwords is already up-to-date!\n"
          ]
        }
      ]
    },
    {
      "cell_type": "markdown",
      "source": [
        "## Load data"
      ],
      "metadata": {
        "id": "s0zTDh4gttPb"
      }
    },
    {
      "cell_type": "code",
      "source": [
        "from google.colab import drive\n",
        "drive.mount('/content/drive')"
      ],
      "metadata": {
        "colab": {
          "base_uri": "https://localhost:8080/"
        },
        "id": "4InH9NgiKvOm",
        "outputId": "4fc79c90-89c6-42a1-bbeb-bc1be736d94e"
      },
      "execution_count": 182,
      "outputs": [
        {
          "output_type": "stream",
          "name": "stdout",
          "text": [
            "Drive already mounted at /content/drive; to attempt to forcibly remount, call drive.mount(\"/content/drive\", force_remount=True).\n"
          ]
        }
      ]
    },
    {
      "cell_type": "code",
      "source": [
        "# load data train \n",
        "with open(\"/content/drive/MyDrive/capstone/datasets/train.json\", \"r\") as data_train:\n",
        "  data_train = json.load(data_train)\n",
        "\n",
        "# load data validation\n",
        "with open(\"/content/drive/MyDrive/capstone/datasets/validation_old.json\", \"r\") as data_validation:\n",
        "  data_validation = json.load(data_validation)"
      ],
      "metadata": {
        "id": "Jx8XOwZQauyA"
      },
      "execution_count": 183,
      "outputs": []
    },
    {
      "cell_type": "code",
      "source": [
        "def labelling(json_data):\n",
        "    keywords, themes, recommendation = [], [], []\n",
        "    themes_label = {}\n",
        "\n",
        "    for news in json_data['berita']:\n",
        "        for keyword in news['keywords']:\n",
        "            keywords.append(keyword)\n",
        "            themes.append(news['tema_berita'])\n",
        "            recommendation.append(news['recommendation'])\n",
        "\n",
        "        for tema in news['tema_berita']:\n",
        "            if tema not in themes_label:\n",
        "                themes_label[news['tema_berita']] = news['recommendation']\n",
        "\n",
        "    return keywords, themes, recommendation, themes_label"
      ],
      "metadata": {
        "id": "Ntsq11fLa26V"
      },
      "execution_count": 184,
      "outputs": []
    },
    {
      "cell_type": "code",
      "source": [
        "keywords, themes, recommendation, labels_recommendation = labelling(data_train)\n",
        "\n",
        "validation_keywords, validation_themes, recommendation, labels_recommendation = labelling(data_validation)"
      ],
      "metadata": {
        "id": "v_SUYumHbfqF"
      },
      "execution_count": 185,
      "outputs": []
    },
    {
      "cell_type": "code",
      "source": [
        "print(\"==== TRAIN.JSON ====\")\n",
        "print(\"keywords: \",keywords)\n",
        "print(\"tema_berita: \",themes)\n",
        "print(\"recommendation: \",recommendation)\n",
        "print(\"key-value | tema_berita - recommendation: \",labels_recommendation)    \n",
        "print(type(labels_recommendation))\n",
        "\n",
        "len(keywords)"
      ],
      "metadata": {
        "colab": {
          "base_uri": "https://localhost:8080/"
        },
        "id": "uFNXKEQclNRO",
        "outputId": "05aafb49-8629-46ac-b870-7b3d562da2e3"
      },
      "execution_count": 186,
      "outputs": [
        {
          "output_type": "stream",
          "name": "stdout",
          "text": [
            "==== TRAIN.JSON ====\n",
            "keywords:  ['rumah', 'hutan', 'luka', 'api', 'damkar', 'padam', 'memadamkan', 'terbakar', 'bocor', 'gas', 'ledakan', 'kebakaran', 'gedung', 'korban', 'evakuasi', 'gudang', 'luka bakar', 'pemadam', 'petugas', 'listrik', 'percikan', 'asap', 'pabrik', 'berkobar', 'sumber api', 'pembakaran', 'bakar', 'kayu', 'panas', 'suhu', 'tekanan tinggi', 'arus pendek', 'korsleting', 'bangunan', 'hangus', 'insiden', 'meninggal', 'demo', 'pohon', 'tewas', 'semburan', 'bensin', 'pertamina', 'mudah terbakar', 'penanganan', 'sesak napas', 'bangunan', 'korek', 'lokasi', 'tangki', 'kobaran', 'kios', 'cuaca', 'petir', 'kriminal', 'kejahatan', 'ancam', 'polisi', 'kantor polisi', 'polsek', 'mayat', 'tubuh', 'korban', 'jasad', 'meninggal', 'penyelidikan', 'penyidikan', 'narkoba', 'bukti', 'penganiayaan', 'tindak pidana', 'tersangka', 'kasus', 'pemerkosaan', 'seksual', 'pidana', 'sanksi', 'kecelakaan', 'polri', 'bom', 'maling', 'penipu', 'pencemaran', 'judi', 'perampok', 'kekerasan', 'penembakan', 'keamanan', 'forensik', 'skandal', 'modus', 'penyerangan', 'pelaku', 'nabrak', 'razia', 'investigasi', 'pelanggaran', 'kriminalitas', 'keselamatan', 'keadaan darurat', 'keadilan', 'patroli', 'tanggung jawab', 'penculikan', 'pemalsuan', 'pembajakan', 'pencurian identitas', 'perampokan', 'kesehatan', 'sakit', 'penyakit', 'ambulans', 'gaya hidup', 'dokter', 'pertolongan', 'ugd', 'virus', 'mayat', 'jenazah', 'sebaran', 'kemenkes', 'who', 'rumah sakit', 'WHO', 'infeksi', 'penularan', 'mental', 'flu', 'gejala', 'penderita', 'sembuh', 'tertular', 'obat', 'pengobatan', 'meninggal', 'perawatan', 'risiko', 'pandemi', 'vaksin', 'tenaga kesehatan', 'wabah', 'operasi', 'nyeri', 'waspada', 'lemas', 'pemicu', 'darah', 'psikologis', 'tekanan', 'sindrom', 'darurat', 'jantung', 'diabetes', 'mengonsumsi', 'kanker', 'pencegahan', 'diagnosis', 'pemicu', 'rawat', 'korban', 'cedera', 'dinas kesehatan']\n",
            "tema_berita:  ['kebakaran', 'kebakaran', 'kebakaran', 'kebakaran', 'kebakaran', 'kebakaran', 'kebakaran', 'kebakaran', 'kebakaran', 'kebakaran', 'kebakaran', 'kebakaran', 'kebakaran', 'kebakaran', 'kebakaran', 'kebakaran', 'kebakaran', 'kebakaran', 'kebakaran', 'kebakaran', 'kebakaran', 'kebakaran', 'kebakaran', 'kebakaran', 'kebakaran', 'kebakaran', 'kebakaran', 'kebakaran', 'kebakaran', 'kebakaran', 'kebakaran', 'kebakaran', 'kebakaran', 'kebakaran', 'kebakaran', 'kebakaran', 'kebakaran', 'kebakaran', 'kebakaran', 'kebakaran', 'kebakaran', 'kebakaran', 'kebakaran', 'kebakaran', 'kebakaran', 'kebakaran', 'kebakaran', 'kebakaran', 'kebakaran', 'kebakaran', 'kebakaran', 'kebakaran', 'kebakaran', 'kebakaran', 'polisi', 'polisi', 'polisi', 'polisi', 'polisi', 'polisi', 'polisi', 'polisi', 'polisi', 'polisi', 'polisi', 'polisi', 'polisi', 'polisi', 'polisi', 'polisi', 'polisi', 'polisi', 'polisi', 'polisi', 'polisi', 'polisi', 'polisi', 'polisi', 'polisi', 'polisi', 'polisi', 'polisi', 'polisi', 'polisi', 'polisi', 'polisi', 'polisi', 'polisi', 'polisi', 'polisi', 'polisi', 'polisi', 'polisi', 'polisi', 'polisi', 'polisi', 'polisi', 'polisi', 'polisi', 'polisi', 'polisi', 'polisi', 'polisi', 'polisi', 'polisi', 'polisi', 'polisi', 'polisi', 'rumah sakit', 'rumah sakit', 'rumah sakit', 'rumah sakit', 'rumah sakit', 'rumah sakit', 'rumah sakit', 'rumah sakit', 'rumah sakit', 'rumah sakit', 'rumah sakit', 'rumah sakit', 'rumah sakit', 'rumah sakit', 'rumah sakit', 'rumah sakit', 'rumah sakit', 'rumah sakit', 'rumah sakit', 'rumah sakit', 'rumah sakit', 'rumah sakit', 'rumah sakit', 'rumah sakit', 'rumah sakit', 'rumah sakit', 'rumah sakit', 'rumah sakit', 'rumah sakit', 'rumah sakit', 'rumah sakit', 'rumah sakit', 'rumah sakit', 'rumah sakit', 'rumah sakit', 'rumah sakit', 'rumah sakit', 'rumah sakit', 'rumah sakit', 'rumah sakit', 'rumah sakit', 'rumah sakit', 'rumah sakit', 'rumah sakit', 'rumah sakit', 'rumah sakit', 'rumah sakit', 'rumah sakit', 'rumah sakit', 'rumah sakit', 'rumah sakit', 'rumah sakit', 'rumah sakit', 'rumah sakit']\n",
            "recommendation:  [['Kebakaran', 'Pemadam Kebakaran'], ['Kebakaran', 'Pemadam Kebakaran'], ['Kebakaran', 'Pemadam Kebakaran'], ['Kebakaran', 'Pemadam Kebakaran'], ['Kebakaran', 'Pemadam Kebakaran'], ['Kebakaran', 'Pemadam Kebakaran'], ['Kebakaran', 'Pemadam Kebakaran'], ['Kebakaran', 'Pemadam Kebakaran'], ['Kebakaran', 'Pemadam Kebakaran'], ['Kebakaran', 'Pemadam Kebakaran'], ['Kebakaran', 'Pemadam Kebakaran'], ['Kebakaran', 'Pemadam Kebakaran'], ['Kebakaran', 'Pemadam Kebakaran'], ['Kebakaran', 'Pemadam Kebakaran'], ['Kebakaran', 'Pemadam Kebakaran'], ['Kebakaran', 'Pemadam Kebakaran'], ['Kebakaran', 'Pemadam Kebakaran'], ['Kebakaran', 'Pemadam Kebakaran'], ['Kebakaran', 'Pemadam Kebakaran'], ['Kebakaran', 'Pemadam Kebakaran'], ['Kebakaran', 'Pemadam Kebakaran'], ['Kebakaran', 'Pemadam Kebakaran'], ['Kebakaran', 'Pemadam Kebakaran'], ['Kebakaran', 'Pemadam Kebakaran'], ['Kebakaran', 'Pemadam Kebakaran'], ['Kebakaran', 'Pemadam Kebakaran'], ['Kebakaran', 'Pemadam Kebakaran'], ['Kebakaran', 'Pemadam Kebakaran'], ['Kebakaran', 'Pemadam Kebakaran'], ['Kebakaran', 'Pemadam Kebakaran'], ['Kebakaran', 'Pemadam Kebakaran'], ['Kebakaran', 'Pemadam Kebakaran'], ['Kebakaran', 'Pemadam Kebakaran'], ['Kebakaran', 'Pemadam Kebakaran'], ['Kebakaran', 'Pemadam Kebakaran'], ['Kebakaran', 'Pemadam Kebakaran'], ['Kebakaran', 'Pemadam Kebakaran'], ['Kebakaran', 'Pemadam Kebakaran'], ['Kebakaran', 'Pemadam Kebakaran'], ['Kebakaran', 'Pemadam Kebakaran'], ['Kebakaran', 'Pemadam Kebakaran'], ['Kebakaran', 'Pemadam Kebakaran'], ['Kebakaran', 'Pemadam Kebakaran'], ['Kebakaran', 'Pemadam Kebakaran'], ['Kebakaran', 'Pemadam Kebakaran'], ['Kebakaran', 'Pemadam Kebakaran'], ['Kebakaran', 'Pemadam Kebakaran'], ['Kebakaran', 'Pemadam Kebakaran'], ['Kebakaran', 'Pemadam Kebakaran'], ['Kebakaran', 'Pemadam Kebakaran'], ['Kebakaran', 'Pemadam Kebakaran'], ['Kebakaran', 'Pemadam Kebakaran'], ['Kebakaran', 'Pemadam Kebakaran'], ['Kebakaran', 'Pemadam Kebakaran'], ['Kebakaran', 'Pemadam Kebakaran'], ['Kebakaran', 'Pemadam Kebakaran'], ['Kebakaran', 'Pemadam Kebakaran'], ['Kebakaran', 'Pemadam Kebakaran'], ['Kejahatan', 'Polisi'], ['Kejahatan', 'Polisi'], ['Kejahatan', 'Polisi'], ['Kejahatan', 'Polisi'], ['Kejahatan', 'Polisi'], ['Kejahatan', 'Polisi'], ['Kejahatan', 'Polisi'], ['Kejahatan', 'Polisi'], ['Kejahatan', 'Polisi'], ['Kejahatan', 'Polisi'], ['Kejahatan', 'Polisi'], ['Kejahatan', 'Polisi'], ['Kejahatan', 'Polisi'], ['Kejahatan', 'Polisi'], ['Kejahatan', 'Polisi'], ['Kejahatan', 'Polisi'], ['Kejahatan', 'Polisi'], ['Kejahatan', 'Polisi'], ['Kejahatan', 'Polisi'], ['Kejahatan', 'Polisi'], ['Kejahatan', 'Polisi'], ['Kejahatan', 'Polisi'], ['Kejahatan', 'Polisi'], ['Kejahatan', 'Polisi'], ['Kejahatan', 'Polisi'], ['Kejahatan', 'Polisi'], ['Kejahatan', 'Polisi'], ['Kejahatan', 'Polisi'], ['Kejahatan', 'Polisi'], ['Kejahatan', 'Polisi'], ['Kejahatan', 'Polisi'], ['Kejahatan', 'Polisi'], ['Kejahatan', 'Polisi'], ['Kejahatan', 'Polisi'], ['Kejahatan', 'Polisi'], ['Kejahatan', 'Polisi'], ['Kejahatan', 'Polisi'], ['Kejahatan', 'Polisi'], ['Kejahatan', 'Polisi'], ['Kejahatan', 'Polisi'], ['Kejahatan', 'Polisi'], ['Kejahatan', 'Polisi'], ['Kejahatan', 'Polisi'], ['Kejahatan', 'Polisi'], ['Kejahatan', 'Polisi'], ['Kejahatan', 'Polisi'], ['Kejahatan', 'Polisi'], ['Kejahatan', 'Polisi'], ['Kejahatan', 'Polisi'], ['Kejahatan', 'Polisi'], ['Kejahatan', 'Polisi'], ['Kejahatan', 'Polisi'], ['Kejahatan', 'Polisi'], ['Kejahatan', 'Polisi'], ['Kejahatan', 'Polisi'], ['Rumah Sakit', 'Penyakit', 'Kesehatan'], ['Rumah Sakit', 'Penyakit', 'Kesehatan'], ['Rumah Sakit', 'Penyakit', 'Kesehatan'], ['Rumah Sakit', 'Penyakit', 'Kesehatan'], ['Rumah Sakit', 'Penyakit', 'Kesehatan'], ['Rumah Sakit', 'Penyakit', 'Kesehatan'], ['Rumah Sakit', 'Penyakit', 'Kesehatan'], ['Rumah Sakit', 'Penyakit', 'Kesehatan'], ['Rumah Sakit', 'Penyakit', 'Kesehatan'], ['Rumah Sakit', 'Penyakit', 'Kesehatan'], ['Rumah Sakit', 'Penyakit', 'Kesehatan'], ['Rumah Sakit', 'Penyakit', 'Kesehatan'], ['Rumah Sakit', 'Penyakit', 'Kesehatan'], ['Rumah Sakit', 'Penyakit', 'Kesehatan'], ['Rumah Sakit', 'Penyakit', 'Kesehatan'], ['Rumah Sakit', 'Penyakit', 'Kesehatan'], ['Rumah Sakit', 'Penyakit', 'Kesehatan'], ['Rumah Sakit', 'Penyakit', 'Kesehatan'], ['Rumah Sakit', 'Penyakit', 'Kesehatan'], ['Rumah Sakit', 'Penyakit', 'Kesehatan'], ['Rumah Sakit', 'Penyakit', 'Kesehatan'], ['Rumah Sakit', 'Penyakit', 'Kesehatan'], ['Rumah Sakit', 'Penyakit', 'Kesehatan'], ['Rumah Sakit', 'Penyakit', 'Kesehatan'], ['Rumah Sakit', 'Penyakit', 'Kesehatan'], ['Rumah Sakit', 'Penyakit', 'Kesehatan'], ['Rumah Sakit', 'Penyakit', 'Kesehatan'], ['Rumah Sakit', 'Penyakit', 'Kesehatan'], ['Rumah Sakit', 'Penyakit', 'Kesehatan'], ['Rumah Sakit', 'Penyakit', 'Kesehatan'], ['Rumah Sakit', 'Penyakit', 'Kesehatan'], ['Rumah Sakit', 'Penyakit', 'Kesehatan'], ['Rumah Sakit', 'Penyakit', 'Kesehatan'], ['Rumah Sakit', 'Penyakit', 'Kesehatan'], ['Rumah Sakit', 'Penyakit', 'Kesehatan'], ['Rumah Sakit', 'Penyakit', 'Kesehatan'], ['Rumah Sakit', 'Penyakit', 'Kesehatan'], ['Rumah Sakit', 'Penyakit', 'Kesehatan'], ['Rumah Sakit', 'Penyakit', 'Kesehatan'], ['Rumah Sakit', 'Penyakit', 'Kesehatan'], ['Rumah Sakit', 'Penyakit', 'Kesehatan'], ['Rumah Sakit', 'Penyakit', 'Kesehatan'], ['Rumah Sakit', 'Penyakit', 'Kesehatan'], ['Rumah Sakit', 'Penyakit', 'Kesehatan'], ['Rumah Sakit', 'Penyakit', 'Kesehatan'], ['Rumah Sakit', 'Penyakit', 'Kesehatan'], ['Rumah Sakit', 'Penyakit', 'Kesehatan'], ['Rumah Sakit', 'Penyakit', 'Kesehatan'], ['Rumah Sakit', 'Penyakit', 'Kesehatan'], ['Rumah Sakit', 'Penyakit', 'Kesehatan'], ['Rumah Sakit', 'Penyakit', 'Kesehatan'], ['Rumah Sakit', 'Penyakit', 'Kesehatan'], ['Rumah Sakit', 'Penyakit', 'Kesehatan'], ['Rumah Sakit', 'Penyakit', 'Kesehatan'], ['Rumah Sakit', 'Penyakit', 'Kesehatan']]\n",
            "key-value | tema_berita - recommendation:  {'kebakaran': ['Kebakaran', 'Pemadam Kebakaran'], 'polisi': ['Kejahatan', 'Polisi'], 'rumah sakit': ['Rumah Sakit', 'Penyakit', 'Kesehatan']}\n",
            "<class 'dict'>\n"
          ]
        },
        {
          "output_type": "execute_result",
          "data": {
            "text/plain": [
              "162"
            ]
          },
          "metadata": {},
          "execution_count": 186
        }
      ]
    },
    {
      "cell_type": "code",
      "source": [
        "print(\"==== VALIDATION.JSON ====\")\n",
        "print(\"Validation Keywords: \",validation_keywords)\n",
        "print(\"Validation Themes: \",validation_themes)\n",
        "print(\"recommendation: \",recommendation)\n",
        "print(\"key-value | tema_berita - recommendation: \",labels_recommendation)    \n",
        "len(validation_keywords)"
      ],
      "metadata": {
        "colab": {
          "base_uri": "https://localhost:8080/"
        },
        "id": "6fu6_kWclbwu",
        "outputId": "c1023466-1be6-430b-886d-1a31cd308614"
      },
      "execution_count": 187,
      "outputs": [
        {
          "output_type": "stream",
          "name": "stdout",
          "text": [
            "==== VALIDATION.JSON ====\n",
            "Validation Keywords:  ['kebakaran', 'api', 'dievakuasi', 'meninggal dunia', 'asap tebal', 'bbm', 'api masih berkobar', 'kebakaran hutan', 'dahsyat', 'kasus', 'kabut asap', 'pemadam kebakaran', 'padamkan kebakaran', 'lahan terbakar', 'bakar', 'hutan lindung terbakar', 'diungsikan', 'korban', 'migas', 'pembakaran hutan', 'korslet listrik', 'sumber api', 'mall kebakar', 'polusi udara', 'kebakaran gedung', 'kebakaran rumah', 'detektor asap', 'tabung pemadam', 'penyebab kebakaran', 'kerugian akibat kebakaran', 'pencegahan kebakaran', 'evakuasi darurat', 'zona bahaya', 'bahan mudah terbakar', 'kerusakan', 'konsleting listrik', 'detektor', 'pemulihan', 'pemadaman', 'tanggap', 'kewaspadaan', 'bencana', 'titik api', 'kebocoran gas', 'api menjalar', 'penyuluhan kebakaran', 'deteksi api', 'latihan evakuasi kebakaran', 'peringatan', 'protokol', 'pemantauan', 'tanggap darurat', 'analisis risiko kebakaran', 'penyelamatan korban kebakaran', 'korsleting listrik', 'kelalaian', 'cuaca ekstrem', 'korek api', 'hukum', 'Penegakan', 'perlindungan', 'penangkapan', 'rekam jejak', 'pemantauan', 'interogasi', 'pengadilan', 'mediasi', 'anti korupsi', 'narkotika', 'pencurian', 'pemalsuan uang', 'penyelundupan narkoba', 'pengeroyokan', 'terorisme', 'pemerasan', 'kejahatan cyber', 'penggelapan', 'pencabulan', 'peretasan', 'pemalsuan identitas', 'kekerasan dalam rumah tangga', 'kekerasan seksual', 'perjudian ilegal', 'penyiksaan', 'penculikan', 'undang-undang', 'pengedar narkoba', 'preman', 'perampok', 'buronan', 'narapidana', 'bandit', 'penyusup', 'petugas keamanan', 'laporan polisi', 'pengamanan', 'kekerasan jalanan', 'pelanggaran hak asasi manusia', 'pencucian uang', 'pencabulan', 'penggelapan', 'perampasan', 'pemalsuan', 'pencurian kendaraan', 'pengerusakan', 'rusuh', 'tawuran', 'pemerasan', 'bullying', 'intimidasi', 'penghinaan', 'penindasan', 'pengancaman', 'rawat inap', 'pelayanan kesehatan', 'klinik', 'emergency room', 'ICU', 'ambulans', 'radiologi', 'bedah', 'medis', 'rawat inap', 'pasien', 'pelayanan Darurat', 'penyakit Menular', 'kesehatan mental', 'tenaga medis', 'rekam medis', 'imunisasi', 'gangguan mental', 'terapi', 'obesitas', 'stroke', 'kanker', 'alergi', 'depresi', 'protokol kesehatan', 'distancing sosial', 'masker', 'cuci tangan', 'karantina', 'lockdown', 'imunitas', 'antibiotik', 'antibodi', 'penyakit menular', 'kesehatan global', 'kesehatan masyarakat', 'tekanan darah', 'stres', 'kecemasan', 'depresi', 'farmasi', 'apoteker', 'bpjs', 'rehabilitasi', 'laboratorium', 'biomedis', 'unit gawat darurat', 'diagnosa', 'pelayanan gizi', 'kronis', 'kesehatan mental', 'asuransi kesehatan', 'pasien', 'perawat', 'kesehatan fisik']\n",
            "Validation Themes:  ['kebakaran', 'kebakaran', 'kebakaran', 'kebakaran', 'kebakaran', 'kebakaran', 'kebakaran', 'kebakaran', 'kebakaran', 'kebakaran', 'kebakaran', 'kebakaran', 'kebakaran', 'kebakaran', 'kebakaran', 'kebakaran', 'kebakaran', 'kebakaran', 'kebakaran', 'kebakaran', 'kebakaran', 'kebakaran', 'kebakaran', 'kebakaran', 'kebakaran', 'kebakaran', 'kebakaran', 'kebakaran', 'kebakaran', 'kebakaran', 'kebakaran', 'kebakaran', 'kebakaran', 'kebakaran', 'kebakaran', 'kebakaran', 'kebakaran', 'kebakaran', 'kebakaran', 'kebakaran', 'kebakaran', 'kebakaran', 'kebakaran', 'kebakaran', 'kebakaran', 'kebakaran', 'kebakaran', 'kebakaran', 'kebakaran', 'kebakaran', 'kebakaran', 'kebakaran', 'kebakaran', 'kebakaran', 'kebakaran', 'kebakaran', 'kebakaran', 'kebakaran', 'polisi', 'polisi', 'polisi', 'polisi', 'polisi', 'polisi', 'polisi', 'polisi', 'polisi', 'polisi', 'polisi', 'polisi', 'polisi', 'polisi', 'polisi', 'polisi', 'polisi', 'polisi', 'polisi', 'polisi', 'polisi', 'polisi', 'polisi', 'polisi', 'polisi', 'polisi', 'polisi', 'polisi', 'polisi', 'polisi', 'polisi', 'polisi', 'polisi', 'polisi', 'polisi', 'polisi', 'polisi', 'polisi', 'polisi', 'polisi', 'polisi', 'polisi', 'polisi', 'polisi', 'polisi', 'polisi', 'polisi', 'polisi', 'polisi', 'polisi', 'polisi', 'polisi', 'polisi', 'polisi', 'polisi', 'rumah sakit', 'rumah sakit', 'rumah sakit', 'rumah sakit', 'rumah sakit', 'rumah sakit', 'rumah sakit', 'rumah sakit', 'rumah sakit', 'rumah sakit', 'rumah sakit', 'rumah sakit', 'rumah sakit', 'rumah sakit', 'rumah sakit', 'rumah sakit', 'rumah sakit', 'rumah sakit', 'rumah sakit', 'rumah sakit', 'rumah sakit', 'rumah sakit', 'rumah sakit', 'rumah sakit', 'rumah sakit', 'rumah sakit', 'rumah sakit', 'rumah sakit', 'rumah sakit', 'rumah sakit', 'rumah sakit', 'rumah sakit', 'rumah sakit', 'rumah sakit', 'rumah sakit', 'rumah sakit', 'rumah sakit', 'rumah sakit', 'rumah sakit', 'rumah sakit', 'rumah sakit', 'rumah sakit', 'rumah sakit', 'rumah sakit', 'rumah sakit', 'rumah sakit', 'rumah sakit', 'rumah sakit', 'rumah sakit', 'rumah sakit', 'rumah sakit', 'rumah sakit', 'rumah sakit', 'rumah sakit', 'rumah sakit']\n",
            "recommendation:  [['Kebakaran', 'Pemadam Kebakaran'], ['Kebakaran', 'Pemadam Kebakaran'], ['Kebakaran', 'Pemadam Kebakaran'], ['Kebakaran', 'Pemadam Kebakaran'], ['Kebakaran', 'Pemadam Kebakaran'], ['Kebakaran', 'Pemadam Kebakaran'], ['Kebakaran', 'Pemadam Kebakaran'], ['Kebakaran', 'Pemadam Kebakaran'], ['Kebakaran', 'Pemadam Kebakaran'], ['Kebakaran', 'Pemadam Kebakaran'], ['Kebakaran', 'Pemadam Kebakaran'], ['Kebakaran', 'Pemadam Kebakaran'], ['Kebakaran', 'Pemadam Kebakaran'], ['Kebakaran', 'Pemadam Kebakaran'], ['Kebakaran', 'Pemadam Kebakaran'], ['Kebakaran', 'Pemadam Kebakaran'], ['Kebakaran', 'Pemadam Kebakaran'], ['Kebakaran', 'Pemadam Kebakaran'], ['Kebakaran', 'Pemadam Kebakaran'], ['Kebakaran', 'Pemadam Kebakaran'], ['Kebakaran', 'Pemadam Kebakaran'], ['Kebakaran', 'Pemadam Kebakaran'], ['Kebakaran', 'Pemadam Kebakaran'], ['Kebakaran', 'Pemadam Kebakaran'], ['Kebakaran', 'Pemadam Kebakaran'], ['Kebakaran', 'Pemadam Kebakaran'], ['Kebakaran', 'Pemadam Kebakaran'], ['Kebakaran', 'Pemadam Kebakaran'], ['Kebakaran', 'Pemadam Kebakaran'], ['Kebakaran', 'Pemadam Kebakaran'], ['Kebakaran', 'Pemadam Kebakaran'], ['Kebakaran', 'Pemadam Kebakaran'], ['Kebakaran', 'Pemadam Kebakaran'], ['Kebakaran', 'Pemadam Kebakaran'], ['Kebakaran', 'Pemadam Kebakaran'], ['Kebakaran', 'Pemadam Kebakaran'], ['Kebakaran', 'Pemadam Kebakaran'], ['Kebakaran', 'Pemadam Kebakaran'], ['Kebakaran', 'Pemadam Kebakaran'], ['Kebakaran', 'Pemadam Kebakaran'], ['Kebakaran', 'Pemadam Kebakaran'], ['Kebakaran', 'Pemadam Kebakaran'], ['Kebakaran', 'Pemadam Kebakaran'], ['Kebakaran', 'Pemadam Kebakaran'], ['Kebakaran', 'Pemadam Kebakaran'], ['Kebakaran', 'Pemadam Kebakaran'], ['Kebakaran', 'Pemadam Kebakaran'], ['Kebakaran', 'Pemadam Kebakaran'], ['Kebakaran', 'Pemadam Kebakaran'], ['Kebakaran', 'Pemadam Kebakaran'], ['Kebakaran', 'Pemadam Kebakaran'], ['Kebakaran', 'Pemadam Kebakaran'], ['Kebakaran', 'Pemadam Kebakaran'], ['Kebakaran', 'Pemadam Kebakaran'], ['Kebakaran', 'Pemadam Kebakaran'], ['Kebakaran', 'Pemadam Kebakaran'], ['Kebakaran', 'Pemadam Kebakaran'], ['Kebakaran', 'Pemadam Kebakaran'], ['Kejahatan', 'Polisi'], ['Kejahatan', 'Polisi'], ['Kejahatan', 'Polisi'], ['Kejahatan', 'Polisi'], ['Kejahatan', 'Polisi'], ['Kejahatan', 'Polisi'], ['Kejahatan', 'Polisi'], ['Kejahatan', 'Polisi'], ['Kejahatan', 'Polisi'], ['Kejahatan', 'Polisi'], ['Kejahatan', 'Polisi'], ['Kejahatan', 'Polisi'], ['Kejahatan', 'Polisi'], ['Kejahatan', 'Polisi'], ['Kejahatan', 'Polisi'], ['Kejahatan', 'Polisi'], ['Kejahatan', 'Polisi'], ['Kejahatan', 'Polisi'], ['Kejahatan', 'Polisi'], ['Kejahatan', 'Polisi'], ['Kejahatan', 'Polisi'], ['Kejahatan', 'Polisi'], ['Kejahatan', 'Polisi'], ['Kejahatan', 'Polisi'], ['Kejahatan', 'Polisi'], ['Kejahatan', 'Polisi'], ['Kejahatan', 'Polisi'], ['Kejahatan', 'Polisi'], ['Kejahatan', 'Polisi'], ['Kejahatan', 'Polisi'], ['Kejahatan', 'Polisi'], ['Kejahatan', 'Polisi'], ['Kejahatan', 'Polisi'], ['Kejahatan', 'Polisi'], ['Kejahatan', 'Polisi'], ['Kejahatan', 'Polisi'], ['Kejahatan', 'Polisi'], ['Kejahatan', 'Polisi'], ['Kejahatan', 'Polisi'], ['Kejahatan', 'Polisi'], ['Kejahatan', 'Polisi'], ['Kejahatan', 'Polisi'], ['Kejahatan', 'Polisi'], ['Kejahatan', 'Polisi'], ['Kejahatan', 'Polisi'], ['Kejahatan', 'Polisi'], ['Kejahatan', 'Polisi'], ['Kejahatan', 'Polisi'], ['Kejahatan', 'Polisi'], ['Kejahatan', 'Polisi'], ['Kejahatan', 'Polisi'], ['Kejahatan', 'Polisi'], ['Kejahatan', 'Polisi'], ['Kejahatan', 'Polisi'], ['Kejahatan', 'Polisi'], ['Rumah Sakit', 'Penyakit', 'Kesehatan'], ['Rumah Sakit', 'Penyakit', 'Kesehatan'], ['Rumah Sakit', 'Penyakit', 'Kesehatan'], ['Rumah Sakit', 'Penyakit', 'Kesehatan'], ['Rumah Sakit', 'Penyakit', 'Kesehatan'], ['Rumah Sakit', 'Penyakit', 'Kesehatan'], ['Rumah Sakit', 'Penyakit', 'Kesehatan'], ['Rumah Sakit', 'Penyakit', 'Kesehatan'], ['Rumah Sakit', 'Penyakit', 'Kesehatan'], ['Rumah Sakit', 'Penyakit', 'Kesehatan'], ['Rumah Sakit', 'Penyakit', 'Kesehatan'], ['Rumah Sakit', 'Penyakit', 'Kesehatan'], ['Rumah Sakit', 'Penyakit', 'Kesehatan'], ['Rumah Sakit', 'Penyakit', 'Kesehatan'], ['Rumah Sakit', 'Penyakit', 'Kesehatan'], ['Rumah Sakit', 'Penyakit', 'Kesehatan'], ['Rumah Sakit', 'Penyakit', 'Kesehatan'], ['Rumah Sakit', 'Penyakit', 'Kesehatan'], ['Rumah Sakit', 'Penyakit', 'Kesehatan'], ['Rumah Sakit', 'Penyakit', 'Kesehatan'], ['Rumah Sakit', 'Penyakit', 'Kesehatan'], ['Rumah Sakit', 'Penyakit', 'Kesehatan'], ['Rumah Sakit', 'Penyakit', 'Kesehatan'], ['Rumah Sakit', 'Penyakit', 'Kesehatan'], ['Rumah Sakit', 'Penyakit', 'Kesehatan'], ['Rumah Sakit', 'Penyakit', 'Kesehatan'], ['Rumah Sakit', 'Penyakit', 'Kesehatan'], ['Rumah Sakit', 'Penyakit', 'Kesehatan'], ['Rumah Sakit', 'Penyakit', 'Kesehatan'], ['Rumah Sakit', 'Penyakit', 'Kesehatan'], ['Rumah Sakit', 'Penyakit', 'Kesehatan'], ['Rumah Sakit', 'Penyakit', 'Kesehatan'], ['Rumah Sakit', 'Penyakit', 'Kesehatan'], ['Rumah Sakit', 'Penyakit', 'Kesehatan'], ['Rumah Sakit', 'Penyakit', 'Kesehatan'], ['Rumah Sakit', 'Penyakit', 'Kesehatan'], ['Rumah Sakit', 'Penyakit', 'Kesehatan'], ['Rumah Sakit', 'Penyakit', 'Kesehatan'], ['Rumah Sakit', 'Penyakit', 'Kesehatan'], ['Rumah Sakit', 'Penyakit', 'Kesehatan'], ['Rumah Sakit', 'Penyakit', 'Kesehatan'], ['Rumah Sakit', 'Penyakit', 'Kesehatan'], ['Rumah Sakit', 'Penyakit', 'Kesehatan'], ['Rumah Sakit', 'Penyakit', 'Kesehatan'], ['Rumah Sakit', 'Penyakit', 'Kesehatan'], ['Rumah Sakit', 'Penyakit', 'Kesehatan'], ['Rumah Sakit', 'Penyakit', 'Kesehatan'], ['Rumah Sakit', 'Penyakit', 'Kesehatan'], ['Rumah Sakit', 'Penyakit', 'Kesehatan'], ['Rumah Sakit', 'Penyakit', 'Kesehatan'], ['Rumah Sakit', 'Penyakit', 'Kesehatan'], ['Rumah Sakit', 'Penyakit', 'Kesehatan'], ['Rumah Sakit', 'Penyakit', 'Kesehatan'], ['Rumah Sakit', 'Penyakit', 'Kesehatan'], ['Rumah Sakit', 'Penyakit', 'Kesehatan']]\n",
            "key-value | tema_berita - recommendation:  {'kebakaran': ['Kebakaran', 'Pemadam Kebakaran'], 'polisi': ['Kejahatan', 'Polisi'], 'rumah sakit': ['Rumah Sakit', 'Penyakit', 'Kesehatan']}\n"
          ]
        },
        {
          "output_type": "execute_result",
          "data": {
            "text/plain": [
              "168"
            ]
          },
          "metadata": {},
          "execution_count": 187
        }
      ]
    },
    {
      "cell_type": "code",
      "source": [
        "#@title old labelling\n",
        "# # train.json\n",
        "# keywords, themes, recommendation = [], [], []\n",
        "# labels_recommendation = {}\n",
        "\n",
        "# for berita in data_train['berita']:\n",
        "#   for keyword in berita['keywords']:\n",
        "#     keywords.append(keyword)\n",
        "#     if  berita['tema_berita'] not in themes:\n",
        "#       themes.append(berita['tema_berita'])\n",
        "#       recommendation.append(berita['recommendation'])\n",
        "  \n",
        "#   for rekomendasi in berita['recommendation']:\n",
        "#     labels_recommendation[berita['tema_berita']] = berita['recommendation']\n",
        "\n",
        "\n",
        "# # validation.json\n",
        "# validation_keywords, validation_themes, recommendation = [], [], []\n",
        "# labels_recommendation = {}\n",
        "\n",
        "# for berita in data_validation['berita']:\n",
        "#   for keyword in berita['keywords']:\n",
        "#     validation_keywords.append(keyword)\n",
        "#     if  berita['tema_berita'] not in validation_themes:\n",
        "#       validation_themes.append(berita['tema_berita'])\n",
        "#       recommendation.append(berita['recommendation'])\n",
        "  \n",
        "#   for rekomendasi in berita['recommendation']:\n",
        "#     labels_recommendation[berita['tema_berita']] = berita['recommendation']"
      ],
      "metadata": {
        "cellView": "form",
        "id": "-OuOJbn6a-E_"
      },
      "execution_count": 188,
      "outputs": []
    },
    {
      "cell_type": "code",
      "source": [
        "#@title old validation\n",
        "# validation.json\n",
        "# valid_keywords, valid_themes = [],[]\n",
        "# labels = []\n",
        "# labels_recommendation = {}\n",
        "\n",
        "# for berita in data_valid['berita']:\n",
        "#   labels.append(berita['tema_berita'])\n",
        "#   labels_recommendation[berita['tema_berita']] = [] # dict\n",
        "  \n",
        "#   for keyword in berita['keywords']:\n",
        "#     valid_keywords.append(keyword)\n",
        "#     valid_themes.append(berita['tema_berita'])\n",
        "  \n",
        "#   for rekomendasi in berita['recommendation']:\n",
        "#     labels_recommendation[berita['tema_berita']].append(rekomendasi)"
      ],
      "metadata": {
        "id": "v3-wVU9akx7n",
        "cellView": "form"
      },
      "execution_count": 189,
      "outputs": []
    },
    {
      "cell_type": "markdown",
      "source": [
        "# Tokenize"
      ],
      "metadata": {
        "id": "OwTE_o0cBhiv"
      }
    },
    {
      "cell_type": "code",
      "source": [
        "# Tokenize\n",
        "trunc_type='post'\n",
        "padding_type='post'\n",
        "tokenizer = Tokenizer()\n",
        "\n",
        "def preprocess_text(train_data, val_data):\n",
        "  all_keywords = train_data + val_data \n",
        "  tokenizer.fit_on_texts(all_keywords)\n",
        "\n",
        "  # generate sequences \n",
        "  training_sequences = tokenizer.texts_to_sequences(train_data)\n",
        "  validation_sequences = tokenizer.texts_to_sequences(val_data)\n",
        "\n",
        "  word_index = tokenizer.word_index\n",
        "  print(word_index)\n",
        "  max_sequence_length = max(len(seq) for seq in training_sequences + validation_sequences)\n",
        "  \n",
        "  # generate pad\n",
        "  padded_train_sequences = pad_sequences(training_sequences, maxlen=max_sequence_length )\n",
        "  padded_val_sequences = pad_sequences(validation_sequences, maxlen=max_sequence_length)\n",
        "  return padded_train_sequences, padded_val_sequences, word_index, max_sequence_length\n",
        "\n",
        "label_mapping = {'kebakaran': 0, 'polisi': 1, 'rumah sakit': 2}\n",
        "num_classes = len(label_mapping)\n",
        "\n",
        "X_train, X_validation, word_index, max_sequence_length = preprocess_text(keywords, validation_keywords)\n",
        "\n",
        "y_train = tf.keras.utils.to_categorical([label_mapping[label] for label in themes[:len(X_train)]], num_classes=num_classes)\n",
        "y_validation = tf.keras.utils.to_categorical([label_mapping[label] for label in validation_themes[:len(X_validation)]], num_classes=num_classes)"
      ],
      "metadata": {
        "id": "r2IoNO4Ae-Pe",
        "colab": {
          "base_uri": "https://localhost:8080/"
        },
        "outputId": "b457f6db-a5bd-447f-d1cb-57dbf5b3ea01"
      },
      "execution_count": 190,
      "outputs": [
        {
          "output_type": "stream",
          "name": "stdout",
          "text": [
            "{'kebakaran': 1, 'kesehatan': 2, 'api': 3, 'darurat': 4, 'terbakar': 5, 'korban': 6, 'rumah': 7, 'hutan': 8, 'listrik': 9, 'asap': 10, 'meninggal': 11, 'kekerasan': 12, 'pemalsuan': 13, 'mental': 14, 'evakuasi': 15, 'bakar': 16, 'pemadam': 17, 'tekanan': 18, 'polisi': 19, 'narkoba': 20, 'pencurian': 21, 'penyakit': 22, 'rawat': 23, 'pelayanan': 24, 'medis': 25, 'luka': 26, 'gas': 27, 'gedung': 28, 'petugas': 29, 'berkobar': 30, 'sumber': 31, 'pembakaran': 32, 'korsleting': 33, 'bangunan': 34, 'mudah': 35, 'korek': 36, 'cuaca': 37, 'kejahatan': 38, 'mayat': 39, 'pidana': 40, 'kasus': 41, 'seksual': 42, 'perampok': 43, 'keamanan': 44, 'pelanggaran': 45, 'penculikan': 46, 'identitas': 47, 'sakit': 48, 'ambulans': 49, 'who': 50, 'risiko': 51, 'tenaga': 52, 'pemicu': 53, 'darah': 54, 'kanker': 55, 'pencegahan': 56, 'detektor': 57, 'tanggap': 58, 'protokol': 59, 'pemantauan': 60, 'rekam': 61, 'uang': 62, 'pemerasan': 63, 'penggelapan': 64, 'pencabulan': 65, 'undang': 66, 'inap': 67, 'pasien': 68, 'menular': 69, 'depresi': 70, 'damkar': 71, 'padam': 72, 'memadamkan': 73, 'bocor': 74, 'ledakan': 75, 'gudang': 76, 'percikan': 77, 'pabrik': 78, 'kayu': 79, 'panas': 80, 'suhu': 81, 'tinggi': 82, 'arus': 83, 'pendek': 84, 'hangus': 85, 'insiden': 86, 'demo': 87, 'pohon': 88, 'tewas': 89, 'semburan': 90, 'bensin': 91, 'pertamina': 92, 'penanganan': 93, 'sesak': 94, 'napas': 95, 'lokasi': 96, 'tangki': 97, 'kobaran': 98, 'kios': 99, 'petir': 100, 'kriminal': 101, 'ancam': 102, 'kantor': 103, 'polsek': 104, 'tubuh': 105, 'jasad': 106, 'penyelidikan': 107, 'penyidikan': 108, 'bukti': 109, 'penganiayaan': 110, 'tindak': 111, 'tersangka': 112, 'pemerkosaan': 113, 'sanksi': 114, 'kecelakaan': 115, 'polri': 116, 'bom': 117, 'maling': 118, 'penipu': 119, 'pencemaran': 120, 'judi': 121, 'penembakan': 122, 'forensik': 123, 'skandal': 124, 'modus': 125, 'penyerangan': 126, 'pelaku': 127, 'nabrak': 128, 'razia': 129, 'investigasi': 130, 'kriminalitas': 131, 'keselamatan': 132, 'keadaan': 133, 'keadilan': 134, 'patroli': 135, 'tanggung': 136, 'jawab': 137, 'pembajakan': 138, 'perampokan': 139, 'gaya': 140, 'hidup': 141, 'dokter': 142, 'pertolongan': 143, 'ugd': 144, 'virus': 145, 'jenazah': 146, 'sebaran': 147, 'kemenkes': 148, 'infeksi': 149, 'penularan': 150, 'flu': 151, 'gejala': 152, 'penderita': 153, 'sembuh': 154, 'tertular': 155, 'obat': 156, 'pengobatan': 157, 'perawatan': 158, 'pandemi': 159, 'vaksin': 160, 'wabah': 161, 'operasi': 162, 'nyeri': 163, 'waspada': 164, 'lemas': 165, 'psikologis': 166, 'sindrom': 167, 'jantung': 168, 'diabetes': 169, 'mengonsumsi': 170, 'diagnosis': 171, 'cedera': 172, 'dinas': 173, 'dievakuasi': 174, 'dunia': 175, 'tebal': 176, 'bbm': 177, 'masih': 178, 'dahsyat': 179, 'kabut': 180, 'padamkan': 181, 'lahan': 182, 'lindung': 183, 'diungsikan': 184, 'migas': 185, 'korslet': 186, 'mall': 187, 'kebakar': 188, 'polusi': 189, 'udara': 190, 'tabung': 191, 'penyebab': 192, 'kerugian': 193, 'akibat': 194, 'zona': 195, 'bahaya': 196, 'bahan': 197, 'kerusakan': 198, 'konsleting': 199, 'pemulihan': 200, 'pemadaman': 201, 'kewaspadaan': 202, 'bencana': 203, 'titik': 204, 'kebocoran': 205, 'menjalar': 206, 'penyuluhan': 207, 'deteksi': 208, 'latihan': 209, 'peringatan': 210, 'analisis': 211, 'penyelamatan': 212, 'kelalaian': 213, 'ekstrem': 214, 'hukum': 215, 'penegakan': 216, 'perlindungan': 217, 'penangkapan': 218, 'jejak': 219, 'interogasi': 220, 'pengadilan': 221, 'mediasi': 222, 'anti': 223, 'korupsi': 224, 'narkotika': 225, 'penyelundupan': 226, 'pengeroyokan': 227, 'terorisme': 228, 'cyber': 229, 'peretasan': 230, 'dalam': 231, 'tangga': 232, 'perjudian': 233, 'ilegal': 234, 'penyiksaan': 235, 'pengedar': 236, 'preman': 237, 'buronan': 238, 'narapidana': 239, 'bandit': 240, 'penyusup': 241, 'laporan': 242, 'pengamanan': 243, 'jalanan': 244, 'hak': 245, 'asasi': 246, 'manusia': 247, 'pencucian': 248, 'perampasan': 249, 'kendaraan': 250, 'pengerusakan': 251, 'rusuh': 252, 'tawuran': 253, 'bullying': 254, 'intimidasi': 255, 'penghinaan': 256, 'penindasan': 257, 'pengancaman': 258, 'klinik': 259, 'emergency': 260, 'room': 261, 'icu': 262, 'radiologi': 263, 'bedah': 264, 'imunisasi': 265, 'gangguan': 266, 'terapi': 267, 'obesitas': 268, 'stroke': 269, 'alergi': 270, 'distancing': 271, 'sosial': 272, 'masker': 273, 'cuci': 274, 'tangan': 275, 'karantina': 276, 'lockdown': 277, 'imunitas': 278, 'antibiotik': 279, 'antibodi': 280, 'global': 281, 'masyarakat': 282, 'stres': 283, 'kecemasan': 284, 'farmasi': 285, 'apoteker': 286, 'bpjs': 287, 'rehabilitasi': 288, 'laboratorium': 289, 'biomedis': 290, 'unit': 291, 'gawat': 292, 'diagnosa': 293, 'gizi': 294, 'kronis': 295, 'asuransi': 296, 'perawat': 297, 'fisik': 298}\n"
          ]
        }
      ]
    },
    {
      "cell_type": "code",
      "source": [
        "print(len(X_train))\n",
        "print(len(y_train))"
      ],
      "metadata": {
        "colab": {
          "base_uri": "https://localhost:8080/"
        },
        "id": "uRYIEtEtZDN6",
        "outputId": "1cc909f3-6cbf-452d-f594-e680e13af6e2"
      },
      "execution_count": 191,
      "outputs": [
        {
          "output_type": "stream",
          "name": "stdout",
          "text": [
            "162\n",
            "162\n"
          ]
        }
      ]
    },
    {
      "cell_type": "code",
      "source": [
        "word_index"
      ],
      "metadata": {
        "colab": {
          "base_uri": "https://localhost:8080/"
        },
        "id": "1EpmfSyYepOe",
        "outputId": "fc60d344-189b-46c6-bdf8-19532b4647a2"
      },
      "execution_count": 192,
      "outputs": [
        {
          "output_type": "execute_result",
          "data": {
            "text/plain": [
              "{'kebakaran': 1,\n",
              " 'kesehatan': 2,\n",
              " 'api': 3,\n",
              " 'darurat': 4,\n",
              " 'terbakar': 5,\n",
              " 'korban': 6,\n",
              " 'rumah': 7,\n",
              " 'hutan': 8,\n",
              " 'listrik': 9,\n",
              " 'asap': 10,\n",
              " 'meninggal': 11,\n",
              " 'kekerasan': 12,\n",
              " 'pemalsuan': 13,\n",
              " 'mental': 14,\n",
              " 'evakuasi': 15,\n",
              " 'bakar': 16,\n",
              " 'pemadam': 17,\n",
              " 'tekanan': 18,\n",
              " 'polisi': 19,\n",
              " 'narkoba': 20,\n",
              " 'pencurian': 21,\n",
              " 'penyakit': 22,\n",
              " 'rawat': 23,\n",
              " 'pelayanan': 24,\n",
              " 'medis': 25,\n",
              " 'luka': 26,\n",
              " 'gas': 27,\n",
              " 'gedung': 28,\n",
              " 'petugas': 29,\n",
              " 'berkobar': 30,\n",
              " 'sumber': 31,\n",
              " 'pembakaran': 32,\n",
              " 'korsleting': 33,\n",
              " 'bangunan': 34,\n",
              " 'mudah': 35,\n",
              " 'korek': 36,\n",
              " 'cuaca': 37,\n",
              " 'kejahatan': 38,\n",
              " 'mayat': 39,\n",
              " 'pidana': 40,\n",
              " 'kasus': 41,\n",
              " 'seksual': 42,\n",
              " 'perampok': 43,\n",
              " 'keamanan': 44,\n",
              " 'pelanggaran': 45,\n",
              " 'penculikan': 46,\n",
              " 'identitas': 47,\n",
              " 'sakit': 48,\n",
              " 'ambulans': 49,\n",
              " 'who': 50,\n",
              " 'risiko': 51,\n",
              " 'tenaga': 52,\n",
              " 'pemicu': 53,\n",
              " 'darah': 54,\n",
              " 'kanker': 55,\n",
              " 'pencegahan': 56,\n",
              " 'detektor': 57,\n",
              " 'tanggap': 58,\n",
              " 'protokol': 59,\n",
              " 'pemantauan': 60,\n",
              " 'rekam': 61,\n",
              " 'uang': 62,\n",
              " 'pemerasan': 63,\n",
              " 'penggelapan': 64,\n",
              " 'pencabulan': 65,\n",
              " 'undang': 66,\n",
              " 'inap': 67,\n",
              " 'pasien': 68,\n",
              " 'menular': 69,\n",
              " 'depresi': 70,\n",
              " 'damkar': 71,\n",
              " 'padam': 72,\n",
              " 'memadamkan': 73,\n",
              " 'bocor': 74,\n",
              " 'ledakan': 75,\n",
              " 'gudang': 76,\n",
              " 'percikan': 77,\n",
              " 'pabrik': 78,\n",
              " 'kayu': 79,\n",
              " 'panas': 80,\n",
              " 'suhu': 81,\n",
              " 'tinggi': 82,\n",
              " 'arus': 83,\n",
              " 'pendek': 84,\n",
              " 'hangus': 85,\n",
              " 'insiden': 86,\n",
              " 'demo': 87,\n",
              " 'pohon': 88,\n",
              " 'tewas': 89,\n",
              " 'semburan': 90,\n",
              " 'bensin': 91,\n",
              " 'pertamina': 92,\n",
              " 'penanganan': 93,\n",
              " 'sesak': 94,\n",
              " 'napas': 95,\n",
              " 'lokasi': 96,\n",
              " 'tangki': 97,\n",
              " 'kobaran': 98,\n",
              " 'kios': 99,\n",
              " 'petir': 100,\n",
              " 'kriminal': 101,\n",
              " 'ancam': 102,\n",
              " 'kantor': 103,\n",
              " 'polsek': 104,\n",
              " 'tubuh': 105,\n",
              " 'jasad': 106,\n",
              " 'penyelidikan': 107,\n",
              " 'penyidikan': 108,\n",
              " 'bukti': 109,\n",
              " 'penganiayaan': 110,\n",
              " 'tindak': 111,\n",
              " 'tersangka': 112,\n",
              " 'pemerkosaan': 113,\n",
              " 'sanksi': 114,\n",
              " 'kecelakaan': 115,\n",
              " 'polri': 116,\n",
              " 'bom': 117,\n",
              " 'maling': 118,\n",
              " 'penipu': 119,\n",
              " 'pencemaran': 120,\n",
              " 'judi': 121,\n",
              " 'penembakan': 122,\n",
              " 'forensik': 123,\n",
              " 'skandal': 124,\n",
              " 'modus': 125,\n",
              " 'penyerangan': 126,\n",
              " 'pelaku': 127,\n",
              " 'nabrak': 128,\n",
              " 'razia': 129,\n",
              " 'investigasi': 130,\n",
              " 'kriminalitas': 131,\n",
              " 'keselamatan': 132,\n",
              " 'keadaan': 133,\n",
              " 'keadilan': 134,\n",
              " 'patroli': 135,\n",
              " 'tanggung': 136,\n",
              " 'jawab': 137,\n",
              " 'pembajakan': 138,\n",
              " 'perampokan': 139,\n",
              " 'gaya': 140,\n",
              " 'hidup': 141,\n",
              " 'dokter': 142,\n",
              " 'pertolongan': 143,\n",
              " 'ugd': 144,\n",
              " 'virus': 145,\n",
              " 'jenazah': 146,\n",
              " 'sebaran': 147,\n",
              " 'kemenkes': 148,\n",
              " 'infeksi': 149,\n",
              " 'penularan': 150,\n",
              " 'flu': 151,\n",
              " 'gejala': 152,\n",
              " 'penderita': 153,\n",
              " 'sembuh': 154,\n",
              " 'tertular': 155,\n",
              " 'obat': 156,\n",
              " 'pengobatan': 157,\n",
              " 'perawatan': 158,\n",
              " 'pandemi': 159,\n",
              " 'vaksin': 160,\n",
              " 'wabah': 161,\n",
              " 'operasi': 162,\n",
              " 'nyeri': 163,\n",
              " 'waspada': 164,\n",
              " 'lemas': 165,\n",
              " 'psikologis': 166,\n",
              " 'sindrom': 167,\n",
              " 'jantung': 168,\n",
              " 'diabetes': 169,\n",
              " 'mengonsumsi': 170,\n",
              " 'diagnosis': 171,\n",
              " 'cedera': 172,\n",
              " 'dinas': 173,\n",
              " 'dievakuasi': 174,\n",
              " 'dunia': 175,\n",
              " 'tebal': 176,\n",
              " 'bbm': 177,\n",
              " 'masih': 178,\n",
              " 'dahsyat': 179,\n",
              " 'kabut': 180,\n",
              " 'padamkan': 181,\n",
              " 'lahan': 182,\n",
              " 'lindung': 183,\n",
              " 'diungsikan': 184,\n",
              " 'migas': 185,\n",
              " 'korslet': 186,\n",
              " 'mall': 187,\n",
              " 'kebakar': 188,\n",
              " 'polusi': 189,\n",
              " 'udara': 190,\n",
              " 'tabung': 191,\n",
              " 'penyebab': 192,\n",
              " 'kerugian': 193,\n",
              " 'akibat': 194,\n",
              " 'zona': 195,\n",
              " 'bahaya': 196,\n",
              " 'bahan': 197,\n",
              " 'kerusakan': 198,\n",
              " 'konsleting': 199,\n",
              " 'pemulihan': 200,\n",
              " 'pemadaman': 201,\n",
              " 'kewaspadaan': 202,\n",
              " 'bencana': 203,\n",
              " 'titik': 204,\n",
              " 'kebocoran': 205,\n",
              " 'menjalar': 206,\n",
              " 'penyuluhan': 207,\n",
              " 'deteksi': 208,\n",
              " 'latihan': 209,\n",
              " 'peringatan': 210,\n",
              " 'analisis': 211,\n",
              " 'penyelamatan': 212,\n",
              " 'kelalaian': 213,\n",
              " 'ekstrem': 214,\n",
              " 'hukum': 215,\n",
              " 'penegakan': 216,\n",
              " 'perlindungan': 217,\n",
              " 'penangkapan': 218,\n",
              " 'jejak': 219,\n",
              " 'interogasi': 220,\n",
              " 'pengadilan': 221,\n",
              " 'mediasi': 222,\n",
              " 'anti': 223,\n",
              " 'korupsi': 224,\n",
              " 'narkotika': 225,\n",
              " 'penyelundupan': 226,\n",
              " 'pengeroyokan': 227,\n",
              " 'terorisme': 228,\n",
              " 'cyber': 229,\n",
              " 'peretasan': 230,\n",
              " 'dalam': 231,\n",
              " 'tangga': 232,\n",
              " 'perjudian': 233,\n",
              " 'ilegal': 234,\n",
              " 'penyiksaan': 235,\n",
              " 'pengedar': 236,\n",
              " 'preman': 237,\n",
              " 'buronan': 238,\n",
              " 'narapidana': 239,\n",
              " 'bandit': 240,\n",
              " 'penyusup': 241,\n",
              " 'laporan': 242,\n",
              " 'pengamanan': 243,\n",
              " 'jalanan': 244,\n",
              " 'hak': 245,\n",
              " 'asasi': 246,\n",
              " 'manusia': 247,\n",
              " 'pencucian': 248,\n",
              " 'perampasan': 249,\n",
              " 'kendaraan': 250,\n",
              " 'pengerusakan': 251,\n",
              " 'rusuh': 252,\n",
              " 'tawuran': 253,\n",
              " 'bullying': 254,\n",
              " 'intimidasi': 255,\n",
              " 'penghinaan': 256,\n",
              " 'penindasan': 257,\n",
              " 'pengancaman': 258,\n",
              " 'klinik': 259,\n",
              " 'emergency': 260,\n",
              " 'room': 261,\n",
              " 'icu': 262,\n",
              " 'radiologi': 263,\n",
              " 'bedah': 264,\n",
              " 'imunisasi': 265,\n",
              " 'gangguan': 266,\n",
              " 'terapi': 267,\n",
              " 'obesitas': 268,\n",
              " 'stroke': 269,\n",
              " 'alergi': 270,\n",
              " 'distancing': 271,\n",
              " 'sosial': 272,\n",
              " 'masker': 273,\n",
              " 'cuci': 274,\n",
              " 'tangan': 275,\n",
              " 'karantina': 276,\n",
              " 'lockdown': 277,\n",
              " 'imunitas': 278,\n",
              " 'antibiotik': 279,\n",
              " 'antibodi': 280,\n",
              " 'global': 281,\n",
              " 'masyarakat': 282,\n",
              " 'stres': 283,\n",
              " 'kecemasan': 284,\n",
              " 'farmasi': 285,\n",
              " 'apoteker': 286,\n",
              " 'bpjs': 287,\n",
              " 'rehabilitasi': 288,\n",
              " 'laboratorium': 289,\n",
              " 'biomedis': 290,\n",
              " 'unit': 291,\n",
              " 'gawat': 292,\n",
              " 'diagnosa': 293,\n",
              " 'gizi': 294,\n",
              " 'kronis': 295,\n",
              " 'asuransi': 296,\n",
              " 'perawat': 297,\n",
              " 'fisik': 298}"
            ]
          },
          "metadata": {},
          "execution_count": 192
        }
      ]
    },
    {
      "cell_type": "markdown",
      "source": [
        "# Model Build and Compile"
      ],
      "metadata": {
        "id": "MHqXQ0iireKi"
      }
    },
    {
      "cell_type": "code",
      "source": [
        "model = tf.keras.Sequential([\n",
        "    tf.keras.layers.Embedding(len(word_index)+1,  100, input_length=max_sequence_length),\n",
        "    tf.keras.layers.LSTM(128),\n",
        "    tf.keras.layers.Dropout(0.2),\n",
        "    tf.keras.layers.Dense(64, activation='relu'),\n",
        "    tf.keras.layers.Dropout(0.1),\n",
        "    tf.keras.layers.Dense(num_classes, activation='softmax') #output\n",
        "])"
      ],
      "metadata": {
        "id": "v5H8COYyrfB3"
      },
      "execution_count": 288,
      "outputs": []
    },
    {
      "cell_type": "code",
      "source": [
        "model.compile(loss='categorical_crossentropy', optimizer='adam', metrics=['accuracy'])"
      ],
      "metadata": {
        "id": "H3lkwyjhtdKp"
      },
      "execution_count": 289,
      "outputs": []
    },
    {
      "cell_type": "code",
      "source": [
        "history = model.fit(X_train, y_train, epochs=100, batch_size=16, validation_data=(X_validation, y_validation))"
      ],
      "metadata": {
        "colab": {
          "base_uri": "https://localhost:8080/"
        },
        "id": "2zlMr5z3jKVl",
        "outputId": "67ff39f4-8e98-4933-b5d6-535d36f1794f"
      },
      "execution_count": 290,
      "outputs": [
        {
          "output_type": "stream",
          "name": "stdout",
          "text": [
            "Epoch 1/100\n",
            "11/11 [==============================] - 4s 78ms/step - loss: 1.1023 - accuracy: 0.2654 - val_loss: 1.0965 - val_accuracy: 0.3333\n",
            "Epoch 2/100\n",
            "11/11 [==============================] - 0s 15ms/step - loss: 1.0962 - accuracy: 0.3457 - val_loss: 1.0944 - val_accuracy: 0.3393\n",
            "Epoch 3/100\n",
            "11/11 [==============================] - 0s 19ms/step - loss: 1.0897 - accuracy: 0.4321 - val_loss: 1.0898 - val_accuracy: 0.3810\n",
            "Epoch 4/100\n",
            "11/11 [==============================] - 0s 14ms/step - loss: 1.0794 - accuracy: 0.4198 - val_loss: 1.0803 - val_accuracy: 0.5298\n",
            "Epoch 5/100\n",
            "11/11 [==============================] - 0s 16ms/step - loss: 1.0561 - accuracy: 0.7778 - val_loss: 1.0589 - val_accuracy: 0.5774\n",
            "Epoch 6/100\n",
            "11/11 [==============================] - 0s 19ms/step - loss: 1.0001 - accuracy: 0.6358 - val_loss: 1.0153 - val_accuracy: 0.5655\n",
            "Epoch 7/100\n",
            "11/11 [==============================] - 0s 16ms/step - loss: 0.8573 - accuracy: 0.9074 - val_loss: 0.9181 - val_accuracy: 0.6429\n",
            "Epoch 8/100\n",
            "11/11 [==============================] - 0s 16ms/step - loss: 0.5872 - accuracy: 0.9444 - val_loss: 0.7790 - val_accuracy: 0.6548\n",
            "Epoch 9/100\n",
            "11/11 [==============================] - 0s 16ms/step - loss: 0.2843 - accuracy: 0.9383 - val_loss: 0.7695 - val_accuracy: 0.5833\n",
            "Epoch 10/100\n",
            "11/11 [==============================] - 0s 18ms/step - loss: 0.1360 - accuracy: 0.9630 - val_loss: 0.8773 - val_accuracy: 0.6250\n",
            "Epoch 11/100\n",
            "11/11 [==============================] - 0s 18ms/step - loss: 0.1473 - accuracy: 0.9630 - val_loss: 0.7712 - val_accuracy: 0.5893\n",
            "Epoch 12/100\n",
            "11/11 [==============================] - 0s 18ms/step - loss: 0.1031 - accuracy: 0.9568 - val_loss: 0.7332 - val_accuracy: 0.6429\n",
            "Epoch 13/100\n",
            "11/11 [==============================] - 0s 18ms/step - loss: 0.0915 - accuracy: 0.9630 - val_loss: 0.8199 - val_accuracy: 0.6369\n",
            "Epoch 14/100\n",
            "11/11 [==============================] - 0s 18ms/step - loss: 0.1037 - accuracy: 0.9630 - val_loss: 0.7562 - val_accuracy: 0.6369\n",
            "Epoch 15/100\n",
            "11/11 [==============================] - 0s 17ms/step - loss: 0.0817 - accuracy: 0.9753 - val_loss: 0.7524 - val_accuracy: 0.6429\n",
            "Epoch 16/100\n",
            "11/11 [==============================] - 0s 19ms/step - loss: 0.0714 - accuracy: 0.9753 - val_loss: 0.7535 - val_accuracy: 0.6607\n",
            "Epoch 17/100\n",
            "11/11 [==============================] - 0s 15ms/step - loss: 0.0765 - accuracy: 0.9568 - val_loss: 0.7578 - val_accuracy: 0.6548\n",
            "Epoch 18/100\n",
            "11/11 [==============================] - 0s 15ms/step - loss: 0.0667 - accuracy: 0.9568 - val_loss: 0.7390 - val_accuracy: 0.6607\n",
            "Epoch 19/100\n",
            "11/11 [==============================] - 0s 19ms/step - loss: 0.0706 - accuracy: 0.9630 - val_loss: 0.7439 - val_accuracy: 0.6488\n",
            "Epoch 20/100\n",
            "11/11 [==============================] - 0s 22ms/step - loss: 0.0909 - accuracy: 0.9691 - val_loss: 0.9126 - val_accuracy: 0.6250\n",
            "Epoch 21/100\n",
            "11/11 [==============================] - 0s 24ms/step - loss: 0.0918 - accuracy: 0.9691 - val_loss: 0.7258 - val_accuracy: 0.6488\n",
            "Epoch 22/100\n",
            "11/11 [==============================] - 0s 23ms/step - loss: 0.0483 - accuracy: 0.9815 - val_loss: 0.7310 - val_accuracy: 0.6548\n",
            "Epoch 23/100\n",
            "11/11 [==============================] - 0s 25ms/step - loss: 0.0662 - accuracy: 0.9691 - val_loss: 0.7508 - val_accuracy: 0.6488\n",
            "Epoch 24/100\n",
            "11/11 [==============================] - 0s 22ms/step - loss: 0.0712 - accuracy: 0.9691 - val_loss: 0.7807 - val_accuracy: 0.6607\n",
            "Epoch 25/100\n",
            "11/11 [==============================] - 0s 25ms/step - loss: 0.0837 - accuracy: 0.9691 - val_loss: 0.7448 - val_accuracy: 0.6488\n",
            "Epoch 26/100\n",
            "11/11 [==============================] - 0s 23ms/step - loss: 0.0607 - accuracy: 0.9691 - val_loss: 0.7291 - val_accuracy: 0.6548\n",
            "Epoch 27/100\n",
            "11/11 [==============================] - 0s 24ms/step - loss: 0.0692 - accuracy: 0.9630 - val_loss: 0.7310 - val_accuracy: 0.6429\n",
            "Epoch 28/100\n",
            "11/11 [==============================] - 0s 22ms/step - loss: 0.0697 - accuracy: 0.9630 - val_loss: 0.7271 - val_accuracy: 0.6607\n",
            "Epoch 29/100\n",
            "11/11 [==============================] - 0s 22ms/step - loss: 0.0767 - accuracy: 0.9630 - val_loss: 0.8919 - val_accuracy: 0.6250\n",
            "Epoch 30/100\n",
            "11/11 [==============================] - 0s 25ms/step - loss: 0.0873 - accuracy: 0.9691 - val_loss: 0.7573 - val_accuracy: 0.6607\n",
            "Epoch 31/100\n",
            "11/11 [==============================] - 0s 22ms/step - loss: 0.0732 - accuracy: 0.9691 - val_loss: 0.7480 - val_accuracy: 0.6310\n",
            "Epoch 32/100\n",
            "11/11 [==============================] - 0s 21ms/step - loss: 0.0809 - accuracy: 0.9568 - val_loss: 0.7230 - val_accuracy: 0.6488\n",
            "Epoch 33/100\n",
            "11/11 [==============================] - 0s 22ms/step - loss: 0.0747 - accuracy: 0.9568 - val_loss: 0.7304 - val_accuracy: 0.6369\n",
            "Epoch 34/100\n",
            "11/11 [==============================] - 0s 25ms/step - loss: 0.0695 - accuracy: 0.9630 - val_loss: 0.7559 - val_accuracy: 0.6310\n",
            "Epoch 35/100\n",
            "11/11 [==============================] - 0s 24ms/step - loss: 0.0696 - accuracy: 0.9568 - val_loss: 0.7261 - val_accuracy: 0.6488\n",
            "Epoch 36/100\n",
            "11/11 [==============================] - 0s 17ms/step - loss: 0.0546 - accuracy: 0.9691 - val_loss: 0.7391 - val_accuracy: 0.6488\n",
            "Epoch 37/100\n",
            "11/11 [==============================] - 0s 18ms/step - loss: 0.0601 - accuracy: 0.9630 - val_loss: 0.7365 - val_accuracy: 0.6488\n",
            "Epoch 38/100\n",
            "11/11 [==============================] - 0s 19ms/step - loss: 0.0698 - accuracy: 0.9568 - val_loss: 0.7326 - val_accuracy: 0.6488\n",
            "Epoch 39/100\n",
            "11/11 [==============================] - 0s 16ms/step - loss: 0.0647 - accuracy: 0.9630 - val_loss: 0.7312 - val_accuracy: 0.6488\n",
            "Epoch 40/100\n",
            "11/11 [==============================] - 0s 18ms/step - loss: 0.0482 - accuracy: 0.9753 - val_loss: 0.7545 - val_accuracy: 0.6488\n",
            "Epoch 41/100\n",
            "11/11 [==============================] - 0s 15ms/step - loss: 0.0491 - accuracy: 0.9630 - val_loss: 0.7585 - val_accuracy: 0.6667\n",
            "Epoch 42/100\n",
            "11/11 [==============================] - 0s 14ms/step - loss: 0.0520 - accuracy: 0.9753 - val_loss: 0.7551 - val_accuracy: 0.6369\n",
            "Epoch 43/100\n",
            "11/11 [==============================] - 0s 16ms/step - loss: 0.0510 - accuracy: 0.9691 - val_loss: 0.7510 - val_accuracy: 0.6607\n",
            "Epoch 44/100\n",
            "11/11 [==============================] - 0s 19ms/step - loss: 0.0656 - accuracy: 0.9568 - val_loss: 0.7726 - val_accuracy: 0.6667\n",
            "Epoch 45/100\n",
            "11/11 [==============================] - 0s 15ms/step - loss: 0.0720 - accuracy: 0.9506 - val_loss: 0.7822 - val_accuracy: 0.6250\n",
            "Epoch 46/100\n",
            "11/11 [==============================] - 0s 15ms/step - loss: 0.0716 - accuracy: 0.9630 - val_loss: 0.7397 - val_accuracy: 0.6429\n",
            "Epoch 47/100\n",
            "11/11 [==============================] - 0s 18ms/step - loss: 0.0905 - accuracy: 0.9691 - val_loss: 0.8953 - val_accuracy: 0.6310\n",
            "Epoch 48/100\n",
            "11/11 [==============================] - 0s 15ms/step - loss: 0.0847 - accuracy: 0.9691 - val_loss: 0.7507 - val_accuracy: 0.6310\n",
            "Epoch 49/100\n",
            "11/11 [==============================] - 0s 19ms/step - loss: 0.0676 - accuracy: 0.9815 - val_loss: 0.7155 - val_accuracy: 0.6488\n",
            "Epoch 50/100\n",
            "11/11 [==============================] - 0s 15ms/step - loss: 0.0667 - accuracy: 0.9630 - val_loss: 0.7235 - val_accuracy: 0.6488\n",
            "Epoch 51/100\n",
            "11/11 [==============================] - 0s 18ms/step - loss: 0.0641 - accuracy: 0.9630 - val_loss: 0.7291 - val_accuracy: 0.6548\n",
            "Epoch 52/100\n",
            "11/11 [==============================] - 0s 14ms/step - loss: 0.0643 - accuracy: 0.9753 - val_loss: 0.8424 - val_accuracy: 0.5595\n",
            "Epoch 53/100\n",
            "11/11 [==============================] - 0s 18ms/step - loss: 0.0684 - accuracy: 0.9691 - val_loss: 0.8113 - val_accuracy: 0.5774\n",
            "Epoch 54/100\n",
            "11/11 [==============================] - 0s 17ms/step - loss: 0.0668 - accuracy: 0.9691 - val_loss: 0.7656 - val_accuracy: 0.6369\n",
            "Epoch 55/100\n",
            "11/11 [==============================] - 0s 15ms/step - loss: 0.0561 - accuracy: 0.9753 - val_loss: 0.7470 - val_accuracy: 0.6548\n",
            "Epoch 56/100\n",
            "11/11 [==============================] - 0s 17ms/step - loss: 0.0558 - accuracy: 0.9630 - val_loss: 0.7440 - val_accuracy: 0.6667\n",
            "Epoch 57/100\n",
            "11/11 [==============================] - 0s 18ms/step - loss: 0.0603 - accuracy: 0.9630 - val_loss: 0.7428 - val_accuracy: 0.6488\n",
            "Epoch 58/100\n",
            "11/11 [==============================] - 0s 16ms/step - loss: 0.0499 - accuracy: 0.9753 - val_loss: 0.7470 - val_accuracy: 0.6667\n",
            "Epoch 59/100\n",
            "11/11 [==============================] - 0s 18ms/step - loss: 0.0604 - accuracy: 0.9691 - val_loss: 0.7499 - val_accuracy: 0.6488\n",
            "Epoch 60/100\n",
            "11/11 [==============================] - 0s 20ms/step - loss: 0.0608 - accuracy: 0.9568 - val_loss: 0.7506 - val_accuracy: 0.6369\n",
            "Epoch 61/100\n",
            "11/11 [==============================] - 0s 17ms/step - loss: 0.0566 - accuracy: 0.9630 - val_loss: 0.7423 - val_accuracy: 0.6607\n",
            "Epoch 62/100\n",
            "11/11 [==============================] - 0s 18ms/step - loss: 0.0600 - accuracy: 0.9630 - val_loss: 0.7859 - val_accuracy: 0.6250\n",
            "Epoch 63/100\n",
            "11/11 [==============================] - 0s 15ms/step - loss: 0.0723 - accuracy: 0.9630 - val_loss: 0.7569 - val_accuracy: 0.6369\n",
            "Epoch 64/100\n",
            "11/11 [==============================] - 0s 19ms/step - loss: 0.0609 - accuracy: 0.9630 - val_loss: 0.7388 - val_accuracy: 0.6369\n",
            "Epoch 65/100\n",
            "11/11 [==============================] - 0s 16ms/step - loss: 0.0640 - accuracy: 0.9691 - val_loss: 0.7372 - val_accuracy: 0.6488\n",
            "Epoch 66/100\n",
            "11/11 [==============================] - 0s 17ms/step - loss: 0.0560 - accuracy: 0.9630 - val_loss: 0.7359 - val_accuracy: 0.6607\n",
            "Epoch 67/100\n",
            "11/11 [==============================] - 0s 15ms/step - loss: 0.0600 - accuracy: 0.9568 - val_loss: 0.7412 - val_accuracy: 0.6607\n",
            "Epoch 68/100\n",
            "11/11 [==============================] - 0s 15ms/step - loss: 0.0601 - accuracy: 0.9568 - val_loss: 0.7509 - val_accuracy: 0.6607\n",
            "Epoch 69/100\n",
            "11/11 [==============================] - 0s 15ms/step - loss: 0.0623 - accuracy: 0.9568 - val_loss: 0.7449 - val_accuracy: 0.6548\n",
            "Epoch 70/100\n",
            "11/11 [==============================] - 0s 15ms/step - loss: 0.0586 - accuracy: 0.9630 - val_loss: 0.7425 - val_accuracy: 0.6429\n",
            "Epoch 71/100\n",
            "11/11 [==============================] - 0s 20ms/step - loss: 0.0524 - accuracy: 0.9630 - val_loss: 0.7422 - val_accuracy: 0.6429\n",
            "Epoch 72/100\n",
            "11/11 [==============================] - 0s 16ms/step - loss: 0.0527 - accuracy: 0.9753 - val_loss: 0.7794 - val_accuracy: 0.6250\n",
            "Epoch 73/100\n",
            "11/11 [==============================] - 0s 15ms/step - loss: 0.0601 - accuracy: 0.9691 - val_loss: 0.7537 - val_accuracy: 0.6369\n",
            "Epoch 74/100\n",
            "11/11 [==============================] - 0s 15ms/step - loss: 0.0575 - accuracy: 0.9630 - val_loss: 0.7475 - val_accuracy: 0.6607\n",
            "Epoch 75/100\n",
            "11/11 [==============================] - 0s 18ms/step - loss: 0.0515 - accuracy: 0.9691 - val_loss: 0.7503 - val_accuracy: 0.6488\n",
            "Epoch 76/100\n",
            "11/11 [==============================] - 0s 19ms/step - loss: 0.0538 - accuracy: 0.9691 - val_loss: 0.7510 - val_accuracy: 0.6607\n",
            "Epoch 77/100\n",
            "11/11 [==============================] - 0s 18ms/step - loss: 0.0537 - accuracy: 0.9691 - val_loss: 0.7522 - val_accuracy: 0.6667\n",
            "Epoch 78/100\n",
            "11/11 [==============================] - 0s 15ms/step - loss: 0.0523 - accuracy: 0.9753 - val_loss: 0.7575 - val_accuracy: 0.6548\n",
            "Epoch 79/100\n",
            "11/11 [==============================] - 0s 18ms/step - loss: 0.0533 - accuracy: 0.9753 - val_loss: 0.7572 - val_accuracy: 0.6488\n",
            "Epoch 80/100\n",
            "11/11 [==============================] - 0s 15ms/step - loss: 0.0599 - accuracy: 0.9630 - val_loss: 0.7543 - val_accuracy: 0.6369\n",
            "Epoch 81/100\n",
            "11/11 [==============================] - 0s 16ms/step - loss: 0.0442 - accuracy: 0.9877 - val_loss: 0.7603 - val_accuracy: 0.6488\n",
            "Epoch 82/100\n",
            "11/11 [==============================] - 0s 18ms/step - loss: 0.0493 - accuracy: 0.9691 - val_loss: 0.7608 - val_accuracy: 0.6607\n",
            "Epoch 83/100\n",
            "11/11 [==============================] - 0s 19ms/step - loss: 0.0605 - accuracy: 0.9630 - val_loss: 0.7593 - val_accuracy: 0.6548\n",
            "Epoch 84/100\n",
            "11/11 [==============================] - 0s 18ms/step - loss: 0.0856 - accuracy: 0.9630 - val_loss: 0.8255 - val_accuracy: 0.6310\n",
            "Epoch 85/100\n",
            "11/11 [==============================] - 0s 15ms/step - loss: 0.0689 - accuracy: 0.9691 - val_loss: 0.7447 - val_accuracy: 0.6310\n",
            "Epoch 86/100\n",
            "11/11 [==============================] - 0s 19ms/step - loss: 0.0590 - accuracy: 0.9753 - val_loss: 0.7318 - val_accuracy: 0.6488\n",
            "Epoch 87/100\n",
            "11/11 [==============================] - 0s 20ms/step - loss: 0.0534 - accuracy: 0.9815 - val_loss: 0.7349 - val_accuracy: 0.6607\n",
            "Epoch 88/100\n",
            "11/11 [==============================] - 0s 18ms/step - loss: 0.0584 - accuracy: 0.9630 - val_loss: 0.7389 - val_accuracy: 0.6726\n",
            "Epoch 89/100\n",
            "11/11 [==============================] - 0s 21ms/step - loss: 0.0596 - accuracy: 0.9691 - val_loss: 0.7405 - val_accuracy: 0.6488\n",
            "Epoch 90/100\n",
            "11/11 [==============================] - 0s 26ms/step - loss: 0.0566 - accuracy: 0.9691 - val_loss: 0.7445 - val_accuracy: 0.6548\n",
            "Epoch 91/100\n",
            "11/11 [==============================] - 0s 26ms/step - loss: 0.0573 - accuracy: 0.9691 - val_loss: 0.7436 - val_accuracy: 0.6726\n",
            "Epoch 92/100\n",
            "11/11 [==============================] - 0s 25ms/step - loss: 0.0532 - accuracy: 0.9630 - val_loss: 0.7427 - val_accuracy: 0.6667\n",
            "Epoch 93/100\n",
            "11/11 [==============================] - 0s 22ms/step - loss: 0.0598 - accuracy: 0.9691 - val_loss: 0.7452 - val_accuracy: 0.6429\n",
            "Epoch 94/100\n",
            "11/11 [==============================] - 0s 23ms/step - loss: 0.0592 - accuracy: 0.9568 - val_loss: 0.7448 - val_accuracy: 0.6548\n",
            "Epoch 95/100\n",
            "11/11 [==============================] - 0s 25ms/step - loss: 0.0598 - accuracy: 0.9630 - val_loss: 0.7462 - val_accuracy: 0.6369\n",
            "Epoch 96/100\n",
            "11/11 [==============================] - 0s 23ms/step - loss: 0.0562 - accuracy: 0.9506 - val_loss: 0.7444 - val_accuracy: 0.6548\n",
            "Epoch 97/100\n",
            "11/11 [==============================] - 0s 22ms/step - loss: 0.0505 - accuracy: 0.9691 - val_loss: 0.7896 - val_accuracy: 0.5833\n",
            "Epoch 98/100\n",
            "11/11 [==============================] - 0s 24ms/step - loss: 0.0615 - accuracy: 0.9691 - val_loss: 0.7806 - val_accuracy: 0.5893\n",
            "Epoch 99/100\n",
            "11/11 [==============================] - 0s 23ms/step - loss: 0.0562 - accuracy: 0.9691 - val_loss: 0.7657 - val_accuracy: 0.6548\n",
            "Epoch 100/100\n",
            "11/11 [==============================] - 0s 25ms/step - loss: 0.0574 - accuracy: 0.9630 - val_loss: 0.7588 - val_accuracy: 0.6607\n"
          ]
        }
      ]
    },
    {
      "cell_type": "code",
      "source": [
        "model.summary()"
      ],
      "metadata": {
        "id": "BG05_O3FOmbu",
        "colab": {
          "base_uri": "https://localhost:8080/"
        },
        "outputId": "4972f107-cb6c-421d-b797-5805a86cb64a"
      },
      "execution_count": 291,
      "outputs": [
        {
          "output_type": "stream",
          "name": "stdout",
          "text": [
            "Model: \"sequential_19\"\n",
            "_________________________________________________________________\n",
            " Layer (type)                Output Shape              Param #   \n",
            "=================================================================\n",
            " embedding_18 (Embedding)    (None, 4, 100)            29900     \n",
            "                                                                 \n",
            " lstm_18 (LSTM)              (None, 128)               117248    \n",
            "                                                                 \n",
            " dropout_4 (Dropout)         (None, 128)               0         \n",
            "                                                                 \n",
            " dense_21 (Dense)            (None, 64)                8256      \n",
            "                                                                 \n",
            " dropout_5 (Dropout)         (None, 64)                0         \n",
            "                                                                 \n",
            " dense_22 (Dense)            (None, 3)                 195       \n",
            "                                                                 \n",
            "=================================================================\n",
            "Total params: 155,599\n",
            "Trainable params: 155,599\n",
            "Non-trainable params: 0\n",
            "_________________________________________________________________\n"
          ]
        }
      ]
    },
    {
      "cell_type": "code",
      "source": [
        "def plot_graphs(history, metric):\n",
        "  plt.plot(history.history[metric])\n",
        "  #plt.plot(history.history[f'val_{metric}'])\n",
        "  plt.xlabel(\"Epochs\")\n",
        "  plt.ylabel(metric)\n",
        "  #plt.legend([metric, f'val{metric}'])\n",
        "  plt.show\n",
        "\n",
        "plot_graphs(history, \"accuracy\")"
      ],
      "metadata": {
        "colab": {
          "base_uri": "https://localhost:8080/",
          "height": 449
        },
        "id": "lWXgFaA_lvKo",
        "outputId": "c0bef6cb-f46e-4ac5-92e9-da8d684742df"
      },
      "execution_count": 292,
      "outputs": [
        {
          "output_type": "display_data",
          "data": {
            "text/plain": [
              "<Figure size 640x480 with 1 Axes>"
            ],
            "image/png": "[encoded data removed]"
          },
          "metadata": {}
        }
      ]
    },
    {
      "cell_type": "code",
      "source": [
        "plot_graphs(history, \"loss\")"
      ],
      "metadata": {
        "colab": {
          "base_uri": "https://localhost:8080/",
          "height": 449
        },
        "id": "TcGLvQzkmkEo",
        "outputId": "4a971e2e-b6a7-45ff-fc9d-132edd90b131"
      },
      "execution_count": 293,
      "outputs": [
        {
          "output_type": "display_data",
          "data": {
            "text/plain": [
              "<Figure size 640x480 with 1 Axes>"
            ],
            "image/png": "[encoded data removed]"
          },
          "metadata": {}
        }
      ]
    },
    {
      "cell_type": "markdown",
      "source": [
        "# Model Testing"
      ],
      "metadata": {
        "id": "FitMHZ_Qnu7P"
      }
    },
    {
      "cell_type": "markdown",
      "source": [
        "## Load Title Articles"
      ],
      "metadata": {
        "id": "iKzrcmZLT9O2"
      }
    },
    {
      "cell_type": "code",
      "source": [
        "dt_kebakaran = pd.read_csv(\"/content/drive/MyDrive/capstone/data_testing/Kebakaran.csv\")\n",
        "dt_kebakaran['Label'] = \"Kebakaran\"\n",
        "dt_kebakaran.head(5)"
      ],
      "metadata": {
        "colab": {
          "base_uri": "https://localhost:8080/",
          "height": 285
        },
        "id": "QRVQ3g0bUxJo",
        "outputId": "ae28d472-a683-49f7-807d-886393379821"
      },
      "execution_count": 294,
      "outputs": [
        {
          "output_type": "execute_result",
          "data": {
            "text/plain": [
              "                                        Judul Berita  \\\n",
              "0  Jenuh Mondok, 3 Santri Bakar Asrama Tahfiz Al-...   \n",
              "1  VIDEO: Detik-detik Gedung Runtuh usai Dilahap ...   \n",
              "2  Kemhan Rusia Dilaporkan Kebakaran, Moskow Buka...   \n",
              "3  Kebakaran di Lantai 7 Asrama Polri Jakpus, Tak...   \n",
              "4  20 Orang Tewas dalam Kebakaran Asrama Sekolah ...   \n",
              "\n",
              "                                         Link Berita  \\\n",
              "0  https://www.cnnindonesia.com/nasional/20230525...   \n",
              "1  https://www.cnnindonesia.com/internasional/202...   \n",
              "2  https://www.cnnindonesia.com/internasional/202...   \n",
              "3  https://www.cnnindonesia.com/nasional/20230523...   \n",
              "4  https://www.cnnindonesia.com/internasional/202...   \n",
              "\n",
              "                                         Link Gambar      Label  \n",
              "0  https://akcdn.detik.net.id/visual/2020/01/01/7...  Kebakaran  \n",
              "1  https://akcdn.detik.net.id/visual/2023/05/25/t...  Kebakaran  \n",
              "2  https://akcdn.detik.net.id/visual/2023/05/04/i...  Kebakaran  \n",
              "3  https://akcdn.detik.net.id/visual/2020/01/01/2...  Kebakaran  \n",
              "4  https://akcdn.detik.net.id/visual/2021/07/19/i...  Kebakaran  "
            ],
            "text/html": [
              "\n",
              "  <div id=\"df-932b1a6e-1f77-4cab-ac64-6b0eaf0fa65e\">\n",
              "    <div class=\"colab-df-container\">\n",
              "      <div>\n",
              "<style scoped>\n",
              "    .dataframe tbody tr th:only-of-type {\n",
              "        vertical-align: middle;\n",
              "    }\n",
              "\n",
              "    .dataframe tbody tr th {\n",
              "        vertical-align: top;\n",
              "    }\n",
              "\n",
              "    .dataframe thead th {\n",
              "        text-align: right;\n",
              "    }\n",
              "</style>\n",
              "<table border=\"1\" class=\"dataframe\">\n",
              "  <thead>\n",
              "    <tr style=\"text-align: right;\">\n",
              "      <th></th>\n",
              "      <th>Judul Berita</th>\n",
              "      <th>Link Berita</th>\n",
              "      <th>Link Gambar</th>\n",
              "      <th>Label</th>\n",
              "    </tr>\n",
              "  </thead>\n",
              "  <tbody>\n",
              "    <tr>\n",
              "      <th>0</th>\n",
              "      <td>Jenuh Mondok, 3 Santri Bakar Asrama Tahfiz Al-...</td>\n",
              "      <td>https://www.cnnindonesia.com/nasional/20230525...</td>\n",
              "      <td>https://akcdn.detik.net.id/visual/2020/01/01/7...</td>\n",
              "      <td>Kebakaran</td>\n",
              "    </tr>\n",
              "    <tr>\n",
              "      <th>1</th>\n",
              "      <td>VIDEO: Detik-detik Gedung Runtuh usai Dilahap ...</td>\n",
              "      <td>https://www.cnnindonesia.com/internasional/202...</td>\n",
              "      <td>https://akcdn.detik.net.id/visual/2023/05/25/t...</td>\n",
              "      <td>Kebakaran</td>\n",
              "    </tr>\n",
              "    <tr>\n",
              "      <th>2</th>\n",
              "      <td>Kemhan Rusia Dilaporkan Kebakaran, Moskow Buka...</td>\n",
              "      <td>https://www.cnnindonesia.com/internasional/202...</td>\n",
              "      <td>https://akcdn.detik.net.id/visual/2023/05/04/i...</td>\n",
              "      <td>Kebakaran</td>\n",
              "    </tr>\n",
              "    <tr>\n",
              "      <th>3</th>\n",
              "      <td>Kebakaran di Lantai 7 Asrama Polri Jakpus, Tak...</td>\n",
              "      <td>https://www.cnnindonesia.com/nasional/20230523...</td>\n",
              "      <td>https://akcdn.detik.net.id/visual/2020/01/01/2...</td>\n",
              "      <td>Kebakaran</td>\n",
              "    </tr>\n",
              "    <tr>\n",
              "      <th>4</th>\n",
              "      <td>20 Orang Tewas dalam Kebakaran Asrama Sekolah ...</td>\n",
              "      <td>https://www.cnnindonesia.com/internasional/202...</td>\n",
              "      <td>https://akcdn.detik.net.id/visual/2021/07/19/i...</td>\n",
              "      <td>Kebakaran</td>\n",
              "    </tr>\n",
              "  </tbody>\n",
              "</table>\n",
              "</div>\n",
              "      <button class=\"colab-df-convert\" onclick=\"convertToInteractive('df-932b1a6e-1f77-4cab-ac64-6b0eaf0fa65e')\"\n",
              "              title=\"Convert this dataframe to an interactive table.\"\n",
              "              style=\"display:none;\">\n",
              "        \n",
              "  <svg xmlns=\"http://www.w3.org/2000/svg\" height=\"24px\"viewBox=\"0 0 24 24\"\n",
              "       width=\"24px\">\n",
              "    <path d=\"M0 0h24v24H0V0z\" fill=\"none\"/>\n",
              "    <path d=\"M18.56 5.44l.94 2.06.94-2.06 2.06-.94-2.06-.94-.94-2.06-.94 2.06-2.06.94zm-11 1L8.5 8.5l.94-2.06 2.06-.94-2.06-.94L8.5 2.5l-.94 2.06-2.06.94zm10 10l.94 2.06.94-2.06 2.06-.94-2.06-.94-.94-2.06-.94 2.06-2.06.94z\"/><path d=\"M17.41 7.96l-1.37-1.37c-.4-.4-.92-.59-1.43-.59-.52 0-1.04.2-1.43.59L10.3 9.45l-7.72 7.72c-.78.78-.78 2.05 0 2.83L4 21.41c.39.39.9.59 1.41.59.51 0 1.02-.2 1.41-.59l7.78-7.78 2.81-2.81c.8-.78.8-2.07 0-2.86zM5.41 20L4 18.59l7.72-7.72 1.47 1.35L5.41 20z\"/>\n",
              "  </svg>\n",
              "      </button>\n",
              "      \n",
              "  <style>\n",
              "    .colab-df-container {\n",
              "      display:flex;\n",
              "      flex-wrap:wrap;\n",
              "      gap: 12px;\n",
              "    }\n",
              "\n",
              "    .colab-df-convert {\n",
              "      background-color: #E8F0FE;\n",
              "      border: none;\n",
              "      border-radius: 50%;\n",
              "      cursor: pointer;\n",
              "      display: none;\n",
              "      fill: #1967D2;\n",
              "      height: 32px;\n",
              "      padding: 0 0 0 0;\n",
              "      width: 32px;\n",
              "    }\n",
              "\n",
              "    .colab-df-convert:hover {\n",
              "      background-color: #E2EBFA;\n",
              "      box-shadow: 0px 1px 2px rgba(60, 64, 67, 0.3), 0px 1px 3px 1px rgba(60, 64, 67, 0.15);\n",
              "      fill: #174EA6;\n",
              "    }\n",
              "\n",
              "    [theme=dark] .colab-df-convert {\n",
              "      background-color: #3B4455;\n",
              "      fill: #D2E3FC;\n",
              "    }\n",
              "\n",
              "    [theme=dark] .colab-df-convert:hover {\n",
              "      background-color: #434B5C;\n",
              "      box-shadow: 0px 1px 3px 1px rgba(0, 0, 0, 0.15);\n",
              "      filter: drop-shadow(0px 1px 2px rgba(0, 0, 0, 0.3));\n",
              "      fill: #FFFFFF;\n",
              "    }\n",
              "  </style>\n",
              "\n",
              "      <script>\n",
              "        const buttonEl =\n",
              "          document.querySelector('#df-932b1a6e-1f77-4cab-ac64-6b0eaf0fa65e button.colab-df-convert');\n",
              "        buttonEl.style.display =\n",
              "          google.colab.kernel.accessAllowed ? 'block' : 'none';\n",
              "\n",
              "        async function convertToInteractive(key) {\n",
              "          const element = document.querySelector('#df-932b1a6e-1f77-4cab-ac64-6b0eaf0fa65e');\n",
              "          const dataTable =\n",
              "            await google.colab.kernel.invokeFunction('convertToInteractive',\n",
              "                                                     [key], {});\n",
              "          if (!dataTable) return;\n",
              "\n",
              "          const docLinkHtml = 'Like what you see? Visit the ' +\n",
              "            '<a target=\"_blank\" href=https://colab.research.google.com/notebooks/data_table.ipynb>data table notebook</a>'\n",
              "            + ' to learn more about interactive tables.';\n",
              "          element.innerHTML = '';\n",
              "          dataTable['output_type'] = 'display_data';\n",
              "          await google.colab.output.renderOutput(dataTable, element);\n",
              "          const docLink = document.createElement('div');\n",
              "          docLink.innerHTML = docLinkHtml;\n",
              "          element.appendChild(docLink);\n",
              "        }\n",
              "      </script>\n",
              "    </div>\n",
              "  </div>\n",
              "  "
            ]
          },
          "metadata": {},
          "execution_count": 294
        }
      ]
    },
    {
      "cell_type": "code",
      "source": [
        "dt_kejahatan = pd.read_csv(\"/content/drive/MyDrive/capstone/data_testing/Kejahatan.csv\")\n",
        "dt_kejahatan['Label'] = \"Polisi\"\n",
        "dt_kesehatan = pd.read_csv(\"/content/drive/MyDrive/capstone/data_testing/kesehatan.csv\")\n",
        "dt_kesehatan['Label'] = \"Rumah Sakit\"\n",
        "\n",
        "dt_kebakaran = dt_kebakaran[['Judul Berita','Label']]\n",
        "dt_kejahatan = dt_kejahatan[['Judul Berita','Label']]\n",
        "dt_kesehatan = dt_kesehatan[['Judul Berita','Label']]"
      ],
      "metadata": {
        "id": "KWYhjQn3Vl2V"
      },
      "execution_count": 295,
      "outputs": []
    },
    {
      "cell_type": "code",
      "source": [
        "all_titles = pd.concat([dt_kebakaran, dt_kejahatan, dt_kesehatan], axis=0)"
      ],
      "metadata": {
        "id": "svpCS8FsayJO"
      },
      "execution_count": 296,
      "outputs": []
    },
    {
      "cell_type": "code",
      "source": [
        "all_titles"
      ],
      "metadata": {
        "colab": {
          "base_uri": "https://localhost:8080/",
          "height": 423
        },
        "id": "-XQrwHJma73j",
        "outputId": "3c36ed1b-14c2-4185-f1a2-88995f93dcb6"
      },
      "execution_count": 297,
      "outputs": [
        {
          "output_type": "execute_result",
          "data": {
            "text/plain": [
              "                                         Judul Berita        Label\n",
              "0   Jenuh Mondok, 3 Santri Bakar Asrama Tahfiz Al-...    Kebakaran\n",
              "1   VIDEO: Detik-detik Gedung Runtuh usai Dilahap ...    Kebakaran\n",
              "2   Kemhan Rusia Dilaporkan Kebakaran, Moskow Buka...    Kebakaran\n",
              "3   Kebakaran di Lantai 7 Asrama Polri Jakpus, Tak...    Kebakaran\n",
              "4   20 Orang Tewas dalam Kebakaran Asrama Sekolah ...    Kebakaran\n",
              "..                                                ...          ...\n",
              "45  Kenali Faktor Risiko Penyebab Sifilis pada Lak...  Rumah Sakit\n",
              "46  Doa setelah Membaca Surat Al Kahfi Lengkap Lat...  Rumah Sakit\n",
              "47  90 Persen Hepatitis B Ditularkan Ibu ke Anak, ...  Rumah Sakit\n",
              "48  Kemenkes Mau Pangan Lokal Gantikan Biskuit Bal...  Rumah Sakit\n",
              "49  Populer karena Andien, Apa Itu Teknik Pernapas...  Rumah Sakit\n",
              "\n",
              "[148 rows x 2 columns]"
            ],
            "text/html": [
              "\n",
              "  <div id=\"df-782d7917-8ecf-4b53-bd1b-703119a74652\">\n",
              "    <div class=\"colab-df-container\">\n",
              "      <div>\n",
              "<style scoped>\n",
              "    .dataframe tbody tr th:only-of-type {\n",
              "        vertical-align: middle;\n",
              "    }\n",
              "\n",
              "    .dataframe tbody tr th {\n",
              "        vertical-align: top;\n",
              "    }\n",
              "\n",
              "    .dataframe thead th {\n",
              "        text-align: right;\n",
              "    }\n",
              "</style>\n",
              "<table border=\"1\" class=\"dataframe\">\n",
              "  <thead>\n",
              "    <tr style=\"text-align: right;\">\n",
              "      <th></th>\n",
              "      <th>Judul Berita</th>\n",
              "      <th>Label</th>\n",
              "    </tr>\n",
              "  </thead>\n",
              "  <tbody>\n",
              "    <tr>\n",
              "      <th>0</th>\n",
              "      <td>Jenuh Mondok, 3 Santri Bakar Asrama Tahfiz Al-...</td>\n",
              "      <td>Kebakaran</td>\n",
              "    </tr>\n",
              "    <tr>\n",
              "      <th>1</th>\n",
              "      <td>VIDEO: Detik-detik Gedung Runtuh usai Dilahap ...</td>\n",
              "      <td>Kebakaran</td>\n",
              "    </tr>\n",
              "    <tr>\n",
              "      <th>2</th>\n",
              "      <td>Kemhan Rusia Dilaporkan Kebakaran, Moskow Buka...</td>\n",
              "      <td>Kebakaran</td>\n",
              "    </tr>\n",
              "    <tr>\n",
              "      <th>3</th>\n",
              "      <td>Kebakaran di Lantai 7 Asrama Polri Jakpus, Tak...</td>\n",
              "      <td>Kebakaran</td>\n",
              "    </tr>\n",
              "    <tr>\n",
              "      <th>4</th>\n",
              "      <td>20 Orang Tewas dalam Kebakaran Asrama Sekolah ...</td>\n",
              "      <td>Kebakaran</td>\n",
              "    </tr>\n",
              "    <tr>\n",
              "      <th>...</th>\n",
              "      <td>...</td>\n",
              "      <td>...</td>\n",
              "    </tr>\n",
              "    <tr>\n",
              "      <th>45</th>\n",
              "      <td>Kenali Faktor Risiko Penyebab Sifilis pada Lak...</td>\n",
              "      <td>Rumah Sakit</td>\n",
              "    </tr>\n",
              "    <tr>\n",
              "      <th>46</th>\n",
              "      <td>Doa setelah Membaca Surat Al Kahfi Lengkap Lat...</td>\n",
              "      <td>Rumah Sakit</td>\n",
              "    </tr>\n",
              "    <tr>\n",
              "      <th>47</th>\n",
              "      <td>90 Persen Hepatitis B Ditularkan Ibu ke Anak, ...</td>\n",
              "      <td>Rumah Sakit</td>\n",
              "    </tr>\n",
              "    <tr>\n",
              "      <th>48</th>\n",
              "      <td>Kemenkes Mau Pangan Lokal Gantikan Biskuit Bal...</td>\n",
              "      <td>Rumah Sakit</td>\n",
              "    </tr>\n",
              "    <tr>\n",
              "      <th>49</th>\n",
              "      <td>Populer karena Andien, Apa Itu Teknik Pernapas...</td>\n",
              "      <td>Rumah Sakit</td>\n",
              "    </tr>\n",
              "  </tbody>\n",
              "</table>\n",
              "<p>148 rows × 2 columns</p>\n",
              "</div>\n",
              "      <button class=\"colab-df-convert\" onclick=\"convertToInteractive('df-782d7917-8ecf-4b53-bd1b-703119a74652')\"\n",
              "              title=\"Convert this dataframe to an interactive table.\"\n",
              "              style=\"display:none;\">\n",
              "        \n",
              "  <svg xmlns=\"http://www.w3.org/2000/svg\" height=\"24px\"viewBox=\"0 0 24 24\"\n",
              "       width=\"24px\">\n",
              "    <path d=\"M0 0h24v24H0V0z\" fill=\"none\"/>\n",
              "    <path d=\"M18.56 5.44l.94 2.06.94-2.06 2.06-.94-2.06-.94-.94-2.06-.94 2.06-2.06.94zm-11 1L8.5 8.5l.94-2.06 2.06-.94-2.06-.94L8.5 2.5l-.94 2.06-2.06.94zm10 10l.94 2.06.94-2.06 2.06-.94-2.06-.94-.94-2.06-.94 2.06-2.06.94z\"/><path d=\"M17.41 7.96l-1.37-1.37c-.4-.4-.92-.59-1.43-.59-.52 0-1.04.2-1.43.59L10.3 9.45l-7.72 7.72c-.78.78-.78 2.05 0 2.83L4 21.41c.39.39.9.59 1.41.59.51 0 1.02-.2 1.41-.59l7.78-7.78 2.81-2.81c.8-.78.8-2.07 0-2.86zM5.41 20L4 18.59l7.72-7.72 1.47 1.35L5.41 20z\"/>\n",
              "  </svg>\n",
              "      </button>\n",
              "      \n",
              "  <style>\n",
              "    .colab-df-container {\n",
              "      display:flex;\n",
              "      flex-wrap:wrap;\n",
              "      gap: 12px;\n",
              "    }\n",
              "\n",
              "    .colab-df-convert {\n",
              "      background-color: #E8F0FE;\n",
              "      border: none;\n",
              "      border-radius: 50%;\n",
              "      cursor: pointer;\n",
              "      display: none;\n",
              "      fill: #1967D2;\n",
              "      height: 32px;\n",
              "      padding: 0 0 0 0;\n",
              "      width: 32px;\n",
              "    }\n",
              "\n",
              "    .colab-df-convert:hover {\n",
              "      background-color: #E2EBFA;\n",
              "      box-shadow: 0px 1px 2px rgba(60, 64, 67, 0.3), 0px 1px 3px 1px rgba(60, 64, 67, 0.15);\n",
              "      fill: #174EA6;\n",
              "    }\n",
              "\n",
              "    [theme=dark] .colab-df-convert {\n",
              "      background-color: #3B4455;\n",
              "      fill: #D2E3FC;\n",
              "    }\n",
              "\n",
              "    [theme=dark] .colab-df-convert:hover {\n",
              "      background-color: #434B5C;\n",
              "      box-shadow: 0px 1px 3px 1px rgba(0, 0, 0, 0.15);\n",
              "      filter: drop-shadow(0px 1px 2px rgba(0, 0, 0, 0.3));\n",
              "      fill: #FFFFFF;\n",
              "    }\n",
              "  </style>\n",
              "\n",
              "      <script>\n",
              "        const buttonEl =\n",
              "          document.querySelector('#df-782d7917-8ecf-4b53-bd1b-703119a74652 button.colab-df-convert');\n",
              "        buttonEl.style.display =\n",
              "          google.colab.kernel.accessAllowed ? 'block' : 'none';\n",
              "\n",
              "        async function convertToInteractive(key) {\n",
              "          const element = document.querySelector('#df-782d7917-8ecf-4b53-bd1b-703119a74652');\n",
              "          const dataTable =\n",
              "            await google.colab.kernel.invokeFunction('convertToInteractive',\n",
              "                                                     [key], {});\n",
              "          if (!dataTable) return;\n",
              "\n",
              "          const docLinkHtml = 'Like what you see? Visit the ' +\n",
              "            '<a target=\"_blank\" href=https://colab.research.google.com/notebooks/data_table.ipynb>data table notebook</a>'\n",
              "            + ' to learn more about interactive tables.';\n",
              "          element.innerHTML = '';\n",
              "          dataTable['output_type'] = 'display_data';\n",
              "          await google.colab.output.renderOutput(dataTable, element);\n",
              "          const docLink = document.createElement('div');\n",
              "          docLink.innerHTML = docLinkHtml;\n",
              "          element.appendChild(docLink);\n",
              "        }\n",
              "      </script>\n",
              "    </div>\n",
              "  </div>\n",
              "  "
            ]
          },
          "metadata": {},
          "execution_count": 297
        }
      ]
    },
    {
      "cell_type": "code",
      "source": [
        "print(all_titles['Label'].value_counts())\n",
        "print(type(all_titles['Judul Berita']))"
      ],
      "metadata": {
        "colab": {
          "base_uri": "https://localhost:8080/"
        },
        "id": "VqPYkVl6bL7c",
        "outputId": "f7f2d5cc-99fc-41c6-e366-29890a526a01"
      },
      "execution_count": 298,
      "outputs": [
        {
          "output_type": "stream",
          "name": "stdout",
          "text": [
            "Kebakaran      50\n",
            "Rumah Sakit    50\n",
            "Polisi         48\n",
            "Name: Label, dtype: int64\n",
            "<class 'pandas.core.series.Series'>\n"
          ]
        }
      ]
    },
    {
      "cell_type": "markdown",
      "source": [
        "## Pre-process titles"
      ],
      "metadata": {
        "id": "L1Gytl7H1eNq"
      }
    },
    {
      "cell_type": "code",
      "source": [
        "def clean_titles(titles):\n",
        "    clean = []\n",
        "    stopwords_id = stopwords.words('indonesian')\n",
        "    \n",
        "    for title in titles:\n",
        "        title = title.lower()\n",
        "        title = re.sub(r'\\d+', '', title)  \n",
        "        title = re.sub(r'[^\\w\\s]', '', title) \n",
        "        \n",
        "        words = title.split()\n",
        "        clean_words = [word for word in words if word not in stopwords_id]\n",
        "        clean_words = ' '.join(clean_words)\n",
        "        clean.append(clean_words)\n",
        "        cleaned_titles = ' '.join([str(word) for word in clean])  \n",
        "    \n",
        "    return cleaned_titles"
      ],
      "metadata": {
        "id": "3MC4Zej9x0vp"
      },
      "execution_count": 299,
      "outputs": []
    },
    {
      "cell_type": "markdown",
      "source": [
        "## Test titles"
      ],
      "metadata": {
        "id": "s5q6-_WV1TwL"
      }
    },
    {
      "cell_type": "code",
      "source": [
        "sample = all_titles['Judul Berita'].sample(10)\n",
        "label_counts = all_titles.loc[all_titles['Judul Berita'].isin(sample), 'Label'].value_counts()\n",
        "label_counts"
      ],
      "metadata": {
        "colab": {
          "base_uri": "https://localhost:8080/"
        },
        "id": "QFj6Vmj-1nuy",
        "outputId": "a9ab014d-e769-4f23-9c7c-dbd5cae50132"
      },
      "execution_count": 318,
      "outputs": [
        {
          "output_type": "execute_result",
          "data": {
            "text/plain": [
              "Rumah Sakit    6\n",
              "Polisi         4\n",
              "Kebakaran      2\n",
              "Name: Label, dtype: int64"
            ]
          },
          "metadata": {},
          "execution_count": 318
        }
      ]
    },
    {
      "cell_type": "code",
      "source": [
        "testing = clean_titles(sample)\n",
        "testing"
      ],
      "metadata": {
        "colab": {
          "base_uri": "https://localhost:8080/",
          "height": 90
        },
        "id": "6scQW3p2ipHi",
        "outputId": "fe4cc99a-318c-4d5b-ed94-c3d35c1a04d0"
      },
      "execution_count": 319,
      "outputs": [
        {
          "output_type": "execute_result",
          "data": {
            "text/plain": [
              "'wanita medan diamankan polisi dituduh menista alquran foto si jago merah lahap ratusan rumah muara angke lebaran pengidap kanker payudara menyusui foto permukiman padat penduduk jakarta utara dilalap si jago merah persen hepatitis b ditularkan anak mencegahnya polisi warga waspada akun jastip imbas penipuan tiket coldplay video karyawati tewas dibacok pemotor film korea netflix rating tertinggi imdb th century girl flu burung merebak brasil berlakukan darurat kesehatan hewan napi asimilasi kambuh faktor ekonomi dendam'"
            ],
            "application/vnd.google.colaboratory.intrinsic+json": {
              "type": "string"
            }
          },
          "metadata": {},
          "execution_count": 319
        }
      ]
    },
    {
      "cell_type": "code",
      "source": [
        "test_sequence = tokenizer.texts_to_sequences([testing])\n",
        "padded_test_sequence = pad_sequences(test_sequence, maxlen=max_sequence_length)\n",
        "prediction = model.predict(padded_test_sequence)[0]\n",
        "\n",
        "recommended_hobby_index = tf.argmax(prediction).numpy()\n",
        "recommended_hobby = [label for label, index in label_mapping.items() if index == recommended_hobby_index][0]\n",
        "\n",
        "print(\"Rekomendasi: \" + recommended_hobby)"
      ],
      "metadata": {
        "id": "byNtGBC1lEAY",
        "colab": {
          "base_uri": "https://localhost:8080/"
        },
        "outputId": "6e0047c7-fc5f-4fb5-89fe-c0a79cb0c029"
      },
      "execution_count": 320,
      "outputs": [
        {
          "output_type": "stream",
          "name": "stdout",
          "text": [
            "1/1 [==============================] - 0s 39ms/step\n",
            "Rekomendasi: rumah sakit\n"
          ]
        }
      ]
    }
  ]
}