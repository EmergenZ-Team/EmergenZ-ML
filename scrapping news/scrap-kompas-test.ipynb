{
 "cells": [
  {
   "cell_type": "code",
   "execution_count": 1,
   "metadata": {},
   "outputs": [],
   "source": [
    "import requests\n",
    "from bs4 import BeautifulSoup\n",
    "import pandas as pd\n",
    "import glob"
   ]
  },
  {
   "cell_type": "code",
   "execution_count": 17,
   "metadata": {},
   "outputs": [],
   "source": [
    "# 1 halaman 15 --> 15 x 7 ---> 105\n",
    "base_URL = \"https://www.kompas.com/tag/kejahatan?page\"\n",
    "tema_berita = []\n",
    "article_tags = []\n",
    "for i in range(0,8):\n",
    "    URL = base_URL + \"/{}\".format(i)\n",
    "    page = requests.get(URL)\n",
    "    soup = BeautifulSoup(page.content, \"html.parser\")\n",
    "    article_list = soup.find_all(\"div\", {\"class\": \"article__list\"})\n",
    "\n",
    "    for article in article_list:\n",
    "        article_tags.append(article)\n",
    "        tema_berita.append(\"polisi\")\n",
    "title_list = []\n",
    "\n",
    "for article_tag in article_tags:\n",
    "    a_tag = article_tag.find('a') #judul testing\n",
    "    \n",
    "    if a_tag is not None:\n",
    "        title = a_tag.get_text()\n",
    "        title_list.append(title)\n",
    "\n",
    "df = pd.DataFrame({\n",
    "    'Judul Berita' : title_list,\n",
    "    'themes' : tema_berita\n",
    "})\n",
    "\n",
    "df.to_csv('test kejahatan.csv',index=False)"
   ]
  },
  {
   "cell_type": "code",
   "execution_count": 18,
   "metadata": {},
   "outputs": [],
   "source": [
    "# convert\n",
    "data_test = pd.concat(\n",
    "    map(pd.read_csv, ['test kebakaran.csv', 'test kejahatan.csv', 'test kesehatan.csv']), ignore_index=True)\n",
    "data_test.to_csv('data test.csv', index=False)"
   ]
  }
 ],
 "metadata": {
  "kernelspec": {
   "display_name": "Python 3",
   "language": "python",
   "name": "python3"
  },
  "language_info": {
   "codemirror_mode": {
    "name": "ipython",
    "version": 3
   },
   "file_extension": ".py",
   "mimetype": "text/x-python",
   "name": "python",
   "nbconvert_exporter": "python",
   "pygments_lexer": "ipython3",
   "version": "3.10.11"
  },
  "orig_nbformat": 4
 },
 "nbformat": 4,
 "nbformat_minor": 2
}
